{
  "nbformat": 4,
  "nbformat_minor": 0,
  "metadata": {
    "colab": {
      "name": "타이타닉.ipynb의 사본",
      "provenance": [],
      "collapsed_sections": [
        "SCH8GOSW-pim",
        "i-95LYcO-ivL"
      ],
      "mount_file_id": "1E38IpJAuAzShcTfiazm4k3Z5EktIw0B0",
      "authorship_tag": "ABX9TyNg0smtvHAB2pwg25ttkp+5",
      "include_colab_link": true
    },
    "kernelspec": {
      "name": "python3",
      "display_name": "Python 3"
    },
    "language_info": {
      "name": "python"
    }
  },
  "cells": [
    {
      "cell_type": "markdown",
      "metadata": {
        "id": "view-in-github",
        "colab_type": "text"
      },
      "source": [
        "<a href=\"https://colab.research.google.com/github/Dabin-Park/EDA/blob/main/%ED%83%80%EC%9D%B4%ED%83%80%EB%8B%89.ipynb\" target=\"_parent\"><img src=\"https://colab.research.google.com/assets/colab-badge.svg\" alt=\"Open In Colab\"/></a>"
      ]
    },
    {
      "cell_type": "code",
      "source": [
        "# EDA 타이타닉\n",
        "\n",
        "import pandas as pd\n",
        "import numpy as np\n",
        "\n",
        "import seaborn as sns   # 데이터 분포 시각화\n",
        "import matplotlib.pyplot as plt"
      ],
      "metadata": {
        "id": "Lrvy2cS5sc1e"
      },
      "execution_count": 2,
      "outputs": []
    },
    {
      "cell_type": "code",
      "source": [
        "'''\n",
        "from sklearn.linear_model import LogisticRegression # 로지스틱 회귀 (특정 카테고리에 속할지를 0과 1 사이의 연속적인 확률로 예측하는 회귀 알고리즘)\n",
        "from sklearn.svm import SVC, Linear SVC # 분류에 사용되는 지도학습 모델 \n",
        "                                        # support vector를 사용해서 결정 경계(Decision Boundary)를 정의\n",
        "                                        # 분류되지 않은 점을 해당 결정 경계와 비교해서 분류 \n",
        "from sklearn.ensemble import RandomForestClassifier # 랜덤 포레스트 분류 ()\n",
        "from sklearn.neighbors import KNeighborsClassifier  # K-최근접 이웃을 활용한 분류\n",
        "from sklearn.naive_bayes import GaussianNB  # naive_bayes : 통계수학에 기반한 머신러닝 알고리즘\n",
        "                                            # 이진 속성을 가지고 속성이 많은 경우 : BernoulliNB\n",
        "                                            # 이진 속성이 아닌 일반적인 연속값 속성을 가지는 경우 : GaussianNB \n",
        " \n",
        "from sklearn.linear_model import Perceptron\n",
        "from sklearn.linear_model import SGDClassifier  # 확률적 경사하강법 (Stochastic Gradient Descent)\n",
        "from sklearn.tree import DecisionTreeClassifier # 결정트리 : \n",
        "'''\n",
        "import warnings \n",
        "warnings.filterwarnings(action = 'ignore')  # 경고 메시지 무시 "
      ],
      "metadata": {
        "id": "x35CSMfusggR"
      },
      "execution_count": 3,
      "outputs": []
    },
    {
      "cell_type": "code",
      "source": [
        "from google.colab import drive\n",
        "drive.mount('/content/drive')"
      ],
      "metadata": {
        "colab": {
          "base_uri": "https://localhost:8080/"
        },
        "id": "RmgM1zS56Qz0",
        "outputId": "bf7430b2-e940-48c2-9df5-c240ac29daf6"
      },
      "execution_count": 4,
      "outputs": [
        {
          "output_type": "stream",
          "name": "stdout",
          "text": [
            "Mounted at /content/drive\n"
          ]
        }
      ]
    },
    {
      "cell_type": "code",
      "source": [
        "# 데이터 셋 불러오기\n",
        "path = '/content/drive/MyDrive/Dataset/'\n",
        "train_df = pd.read_csv(path+'train.csv')\n",
        "test_df = pd.read_csv(path+'test.csv') "
      ],
      "metadata": {
        "id": "eaepOx30sjO0"
      },
      "execution_count": 5,
      "outputs": []
    },
    {
      "cell_type": "markdown",
      "source": [
        "# 데이터 분석"
      ],
      "metadata": {
        "id": "SCH8GOSW-pim"
      }
    },
    {
      "cell_type": "code",
      "source": [
        " # 데이터 변수 확인\n",
        "print(train_df.columns.values)  \n",
        "    # 'Survived' : 생존 여부(종속 변수) (0 = 사망 , 1 = 생존)\n",
        "    # 'Pclass' : 객실 등급(승객의 사회적, 경제적 지위) (1st : Upper, 2nd : Middle, 3rd : Lower)\n",
        "    # 'Sex' : 성별 \n",
        "    # 'Age' : 나이\n",
        "    # 'SibSp' : 동반한 Sibling(형재 자매)와 Spouse(배우자)의수 \n",
        "    # 'Parch' : 동반한 Parent(부모) Child(자식)의 수\n",
        "    # 'Cabin' : 객실의 번호 \n",
        "    # 'Embarked' : 승선한 항\n"
      ],
      "metadata": {
        "colab": {
          "base_uri": "https://localhost:8080/"
        },
        "id": "hTaIVjjNx-bD",
        "outputId": "f732b384-d6a4-4302-e250-0264410722a7"
      },
      "execution_count": 6,
      "outputs": [
        {
          "output_type": "stream",
          "name": "stdout",
          "text": [
            "['PassengerId' 'Survived' 'Pclass' 'Name' 'Sex' 'Age' 'SibSp' 'Parch'\n",
            " 'Ticket' 'Fare' 'Cabin' 'Embarked']\n"
          ]
        }
      ]
    },
    {
      "cell_type": "code",
      "source": [
        "train_df.head()"
      ],
      "metadata": {
        "colab": {
          "base_uri": "https://localhost:8080/",
          "height": 0
        },
        "id": "V6fjIKTsyGol",
        "outputId": "9968c8d8-5c45-46e3-e867-345d7986e58d"
      },
      "execution_count": 7,
      "outputs": [
        {
          "output_type": "execute_result",
          "data": {
            "text/plain": [
              "   PassengerId  Survived  Pclass  \\\n",
              "0            1         0       3   \n",
              "1            2         1       1   \n",
              "2            3         1       3   \n",
              "3            4         1       1   \n",
              "4            5         0       3   \n",
              "\n",
              "                                                Name     Sex   Age  SibSp  \\\n",
              "0                            Braund, Mr. Owen Harris    male  22.0      1   \n",
              "1  Cumings, Mrs. John Bradley (Florence Briggs Th...  female  38.0      1   \n",
              "2                             Heikkinen, Miss. Laina  female  26.0      0   \n",
              "3       Futrelle, Mrs. Jacques Heath (Lily May Peel)  female  35.0      1   \n",
              "4                           Allen, Mr. William Henry    male  35.0      0   \n",
              "\n",
              "   Parch            Ticket     Fare Cabin Embarked  \n",
              "0      0         A/5 21171   7.2500   NaN        S  \n",
              "1      0          PC 17599  71.2833   C85        C  \n",
              "2      0  STON/O2. 3101282   7.9250   NaN        S  \n",
              "3      0            113803  53.1000  C123        S  \n",
              "4      0            373450   8.0500   NaN        S  "
            ],
            "text/html": [
              "\n",
              "  <div id=\"df-c9dc1eb2-824b-4f8e-b290-a4ed5a1430cd\">\n",
              "    <div class=\"colab-df-container\">\n",
              "      <div>\n",
              "<style scoped>\n",
              "    .dataframe tbody tr th:only-of-type {\n",
              "        vertical-align: middle;\n",
              "    }\n",
              "\n",
              "    .dataframe tbody tr th {\n",
              "        vertical-align: top;\n",
              "    }\n",
              "\n",
              "    .dataframe thead th {\n",
              "        text-align: right;\n",
              "    }\n",
              "</style>\n",
              "<table border=\"1\" class=\"dataframe\">\n",
              "  <thead>\n",
              "    <tr style=\"text-align: right;\">\n",
              "      <th></th>\n",
              "      <th>PassengerId</th>\n",
              "      <th>Survived</th>\n",
              "      <th>Pclass</th>\n",
              "      <th>Name</th>\n",
              "      <th>Sex</th>\n",
              "      <th>Age</th>\n",
              "      <th>SibSp</th>\n",
              "      <th>Parch</th>\n",
              "      <th>Ticket</th>\n",
              "      <th>Fare</th>\n",
              "      <th>Cabin</th>\n",
              "      <th>Embarked</th>\n",
              "    </tr>\n",
              "  </thead>\n",
              "  <tbody>\n",
              "    <tr>\n",
              "      <th>0</th>\n",
              "      <td>1</td>\n",
              "      <td>0</td>\n",
              "      <td>3</td>\n",
              "      <td>Braund, Mr. Owen Harris</td>\n",
              "      <td>male</td>\n",
              "      <td>22.0</td>\n",
              "      <td>1</td>\n",
              "      <td>0</td>\n",
              "      <td>A/5 21171</td>\n",
              "      <td>7.2500</td>\n",
              "      <td>NaN</td>\n",
              "      <td>S</td>\n",
              "    </tr>\n",
              "    <tr>\n",
              "      <th>1</th>\n",
              "      <td>2</td>\n",
              "      <td>1</td>\n",
              "      <td>1</td>\n",
              "      <td>Cumings, Mrs. John Bradley (Florence Briggs Th...</td>\n",
              "      <td>female</td>\n",
              "      <td>38.0</td>\n",
              "      <td>1</td>\n",
              "      <td>0</td>\n",
              "      <td>PC 17599</td>\n",
              "      <td>71.2833</td>\n",
              "      <td>C85</td>\n",
              "      <td>C</td>\n",
              "    </tr>\n",
              "    <tr>\n",
              "      <th>2</th>\n",
              "      <td>3</td>\n",
              "      <td>1</td>\n",
              "      <td>3</td>\n",
              "      <td>Heikkinen, Miss. Laina</td>\n",
              "      <td>female</td>\n",
              "      <td>26.0</td>\n",
              "      <td>0</td>\n",
              "      <td>0</td>\n",
              "      <td>STON/O2. 3101282</td>\n",
              "      <td>7.9250</td>\n",
              "      <td>NaN</td>\n",
              "      <td>S</td>\n",
              "    </tr>\n",
              "    <tr>\n",
              "      <th>3</th>\n",
              "      <td>4</td>\n",
              "      <td>1</td>\n",
              "      <td>1</td>\n",
              "      <td>Futrelle, Mrs. Jacques Heath (Lily May Peel)</td>\n",
              "      <td>female</td>\n",
              "      <td>35.0</td>\n",
              "      <td>1</td>\n",
              "      <td>0</td>\n",
              "      <td>113803</td>\n",
              "      <td>53.1000</td>\n",
              "      <td>C123</td>\n",
              "      <td>S</td>\n",
              "    </tr>\n",
              "    <tr>\n",
              "      <th>4</th>\n",
              "      <td>5</td>\n",
              "      <td>0</td>\n",
              "      <td>3</td>\n",
              "      <td>Allen, Mr. William Henry</td>\n",
              "      <td>male</td>\n",
              "      <td>35.0</td>\n",
              "      <td>0</td>\n",
              "      <td>0</td>\n",
              "      <td>373450</td>\n",
              "      <td>8.0500</td>\n",
              "      <td>NaN</td>\n",
              "      <td>S</td>\n",
              "    </tr>\n",
              "  </tbody>\n",
              "</table>\n",
              "</div>\n",
              "      <button class=\"colab-df-convert\" onclick=\"convertToInteractive('df-c9dc1eb2-824b-4f8e-b290-a4ed5a1430cd')\"\n",
              "              title=\"Convert this dataframe to an interactive table.\"\n",
              "              style=\"display:none;\">\n",
              "        \n",
              "  <svg xmlns=\"http://www.w3.org/2000/svg\" height=\"24px\"viewBox=\"0 0 24 24\"\n",
              "       width=\"24px\">\n",
              "    <path d=\"M0 0h24v24H0V0z\" fill=\"none\"/>\n",
              "    <path d=\"M18.56 5.44l.94 2.06.94-2.06 2.06-.94-2.06-.94-.94-2.06-.94 2.06-2.06.94zm-11 1L8.5 8.5l.94-2.06 2.06-.94-2.06-.94L8.5 2.5l-.94 2.06-2.06.94zm10 10l.94 2.06.94-2.06 2.06-.94-2.06-.94-.94-2.06-.94 2.06-2.06.94z\"/><path d=\"M17.41 7.96l-1.37-1.37c-.4-.4-.92-.59-1.43-.59-.52 0-1.04.2-1.43.59L10.3 9.45l-7.72 7.72c-.78.78-.78 2.05 0 2.83L4 21.41c.39.39.9.59 1.41.59.51 0 1.02-.2 1.41-.59l7.78-7.78 2.81-2.81c.8-.78.8-2.07 0-2.86zM5.41 20L4 18.59l7.72-7.72 1.47 1.35L5.41 20z\"/>\n",
              "  </svg>\n",
              "      </button>\n",
              "      \n",
              "  <style>\n",
              "    .colab-df-container {\n",
              "      display:flex;\n",
              "      flex-wrap:wrap;\n",
              "      gap: 12px;\n",
              "    }\n",
              "\n",
              "    .colab-df-convert {\n",
              "      background-color: #E8F0FE;\n",
              "      border: none;\n",
              "      border-radius: 50%;\n",
              "      cursor: pointer;\n",
              "      display: none;\n",
              "      fill: #1967D2;\n",
              "      height: 32px;\n",
              "      padding: 0 0 0 0;\n",
              "      width: 32px;\n",
              "    }\n",
              "\n",
              "    .colab-df-convert:hover {\n",
              "      background-color: #E2EBFA;\n",
              "      box-shadow: 0px 1px 2px rgba(60, 64, 67, 0.3), 0px 1px 3px 1px rgba(60, 64, 67, 0.15);\n",
              "      fill: #174EA6;\n",
              "    }\n",
              "\n",
              "    [theme=dark] .colab-df-convert {\n",
              "      background-color: #3B4455;\n",
              "      fill: #D2E3FC;\n",
              "    }\n",
              "\n",
              "    [theme=dark] .colab-df-convert:hover {\n",
              "      background-color: #434B5C;\n",
              "      box-shadow: 0px 1px 3px 1px rgba(0, 0, 0, 0.15);\n",
              "      filter: drop-shadow(0px 1px 2px rgba(0, 0, 0, 0.3));\n",
              "      fill: #FFFFFF;\n",
              "    }\n",
              "  </style>\n",
              "\n",
              "      <script>\n",
              "        const buttonEl =\n",
              "          document.querySelector('#df-c9dc1eb2-824b-4f8e-b290-a4ed5a1430cd button.colab-df-convert');\n",
              "        buttonEl.style.display =\n",
              "          google.colab.kernel.accessAllowed ? 'block' : 'none';\n",
              "\n",
              "        async function convertToInteractive(key) {\n",
              "          const element = document.querySelector('#df-c9dc1eb2-824b-4f8e-b290-a4ed5a1430cd');\n",
              "          const dataTable =\n",
              "            await google.colab.kernel.invokeFunction('convertToInteractive',\n",
              "                                                     [key], {});\n",
              "          if (!dataTable) return;\n",
              "\n",
              "          const docLinkHtml = 'Like what you see? Visit the ' +\n",
              "            '<a target=\"_blank\" href=https://colab.research.google.com/notebooks/data_table.ipynb>data table notebook</a>'\n",
              "            + ' to learn more about interactive tables.';\n",
              "          element.innerHTML = '';\n",
              "          dataTable['output_type'] = 'display_data';\n",
              "          await google.colab.output.renderOutput(dataTable, element);\n",
              "          const docLink = document.createElement('div');\n",
              "          docLink.innerHTML = docLinkHtml;\n",
              "          element.appendChild(docLink);\n",
              "        }\n",
              "      </script>\n",
              "    </div>\n",
              "  </div>\n",
              "  "
            ]
          },
          "metadata": {},
          "execution_count": 7
        }
      ]
    },
    {
      "cell_type": "code",
      "source": [
        "test_df.head()   # 'Survived' 행이 존재 X"
      ],
      "metadata": {
        "colab": {
          "base_uri": "https://localhost:8080/",
          "height": 0
        },
        "id": "fYovwmC8yJb2",
        "outputId": "06aad1d1-c770-4dee-be26-83d45ebfb8c5"
      },
      "execution_count": 8,
      "outputs": [
        {
          "output_type": "execute_result",
          "data": {
            "text/plain": [
              "   PassengerId  Pclass                                          Name     Sex  \\\n",
              "0          892       3                              Kelly, Mr. James    male   \n",
              "1          893       3              Wilkes, Mrs. James (Ellen Needs)  female   \n",
              "2          894       2                     Myles, Mr. Thomas Francis    male   \n",
              "3          895       3                              Wirz, Mr. Albert    male   \n",
              "4          896       3  Hirvonen, Mrs. Alexander (Helga E Lindqvist)  female   \n",
              "\n",
              "    Age  SibSp  Parch   Ticket     Fare Cabin Embarked  \n",
              "0  34.5      0      0   330911   7.8292   NaN        Q  \n",
              "1  47.0      1      0   363272   7.0000   NaN        S  \n",
              "2  62.0      0      0   240276   9.6875   NaN        Q  \n",
              "3  27.0      0      0   315154   8.6625   NaN        S  \n",
              "4  22.0      1      1  3101298  12.2875   NaN        S  "
            ],
            "text/html": [
              "\n",
              "  <div id=\"df-9cd144db-b0ca-4c93-8737-1277b035a204\">\n",
              "    <div class=\"colab-df-container\">\n",
              "      <div>\n",
              "<style scoped>\n",
              "    .dataframe tbody tr th:only-of-type {\n",
              "        vertical-align: middle;\n",
              "    }\n",
              "\n",
              "    .dataframe tbody tr th {\n",
              "        vertical-align: top;\n",
              "    }\n",
              "\n",
              "    .dataframe thead th {\n",
              "        text-align: right;\n",
              "    }\n",
              "</style>\n",
              "<table border=\"1\" class=\"dataframe\">\n",
              "  <thead>\n",
              "    <tr style=\"text-align: right;\">\n",
              "      <th></th>\n",
              "      <th>PassengerId</th>\n",
              "      <th>Pclass</th>\n",
              "      <th>Name</th>\n",
              "      <th>Sex</th>\n",
              "      <th>Age</th>\n",
              "      <th>SibSp</th>\n",
              "      <th>Parch</th>\n",
              "      <th>Ticket</th>\n",
              "      <th>Fare</th>\n",
              "      <th>Cabin</th>\n",
              "      <th>Embarked</th>\n",
              "    </tr>\n",
              "  </thead>\n",
              "  <tbody>\n",
              "    <tr>\n",
              "      <th>0</th>\n",
              "      <td>892</td>\n",
              "      <td>3</td>\n",
              "      <td>Kelly, Mr. James</td>\n",
              "      <td>male</td>\n",
              "      <td>34.5</td>\n",
              "      <td>0</td>\n",
              "      <td>0</td>\n",
              "      <td>330911</td>\n",
              "      <td>7.8292</td>\n",
              "      <td>NaN</td>\n",
              "      <td>Q</td>\n",
              "    </tr>\n",
              "    <tr>\n",
              "      <th>1</th>\n",
              "      <td>893</td>\n",
              "      <td>3</td>\n",
              "      <td>Wilkes, Mrs. James (Ellen Needs)</td>\n",
              "      <td>female</td>\n",
              "      <td>47.0</td>\n",
              "      <td>1</td>\n",
              "      <td>0</td>\n",
              "      <td>363272</td>\n",
              "      <td>7.0000</td>\n",
              "      <td>NaN</td>\n",
              "      <td>S</td>\n",
              "    </tr>\n",
              "    <tr>\n",
              "      <th>2</th>\n",
              "      <td>894</td>\n",
              "      <td>2</td>\n",
              "      <td>Myles, Mr. Thomas Francis</td>\n",
              "      <td>male</td>\n",
              "      <td>62.0</td>\n",
              "      <td>0</td>\n",
              "      <td>0</td>\n",
              "      <td>240276</td>\n",
              "      <td>9.6875</td>\n",
              "      <td>NaN</td>\n",
              "      <td>Q</td>\n",
              "    </tr>\n",
              "    <tr>\n",
              "      <th>3</th>\n",
              "      <td>895</td>\n",
              "      <td>3</td>\n",
              "      <td>Wirz, Mr. Albert</td>\n",
              "      <td>male</td>\n",
              "      <td>27.0</td>\n",
              "      <td>0</td>\n",
              "      <td>0</td>\n",
              "      <td>315154</td>\n",
              "      <td>8.6625</td>\n",
              "      <td>NaN</td>\n",
              "      <td>S</td>\n",
              "    </tr>\n",
              "    <tr>\n",
              "      <th>4</th>\n",
              "      <td>896</td>\n",
              "      <td>3</td>\n",
              "      <td>Hirvonen, Mrs. Alexander (Helga E Lindqvist)</td>\n",
              "      <td>female</td>\n",
              "      <td>22.0</td>\n",
              "      <td>1</td>\n",
              "      <td>1</td>\n",
              "      <td>3101298</td>\n",
              "      <td>12.2875</td>\n",
              "      <td>NaN</td>\n",
              "      <td>S</td>\n",
              "    </tr>\n",
              "  </tbody>\n",
              "</table>\n",
              "</div>\n",
              "      <button class=\"colab-df-convert\" onclick=\"convertToInteractive('df-9cd144db-b0ca-4c93-8737-1277b035a204')\"\n",
              "              title=\"Convert this dataframe to an interactive table.\"\n",
              "              style=\"display:none;\">\n",
              "        \n",
              "  <svg xmlns=\"http://www.w3.org/2000/svg\" height=\"24px\"viewBox=\"0 0 24 24\"\n",
              "       width=\"24px\">\n",
              "    <path d=\"M0 0h24v24H0V0z\" fill=\"none\"/>\n",
              "    <path d=\"M18.56 5.44l.94 2.06.94-2.06 2.06-.94-2.06-.94-.94-2.06-.94 2.06-2.06.94zm-11 1L8.5 8.5l.94-2.06 2.06-.94-2.06-.94L8.5 2.5l-.94 2.06-2.06.94zm10 10l.94 2.06.94-2.06 2.06-.94-2.06-.94-.94-2.06-.94 2.06-2.06.94z\"/><path d=\"M17.41 7.96l-1.37-1.37c-.4-.4-.92-.59-1.43-.59-.52 0-1.04.2-1.43.59L10.3 9.45l-7.72 7.72c-.78.78-.78 2.05 0 2.83L4 21.41c.39.39.9.59 1.41.59.51 0 1.02-.2 1.41-.59l7.78-7.78 2.81-2.81c.8-.78.8-2.07 0-2.86zM5.41 20L4 18.59l7.72-7.72 1.47 1.35L5.41 20z\"/>\n",
              "  </svg>\n",
              "      </button>\n",
              "      \n",
              "  <style>\n",
              "    .colab-df-container {\n",
              "      display:flex;\n",
              "      flex-wrap:wrap;\n",
              "      gap: 12px;\n",
              "    }\n",
              "\n",
              "    .colab-df-convert {\n",
              "      background-color: #E8F0FE;\n",
              "      border: none;\n",
              "      border-radius: 50%;\n",
              "      cursor: pointer;\n",
              "      display: none;\n",
              "      fill: #1967D2;\n",
              "      height: 32px;\n",
              "      padding: 0 0 0 0;\n",
              "      width: 32px;\n",
              "    }\n",
              "\n",
              "    .colab-df-convert:hover {\n",
              "      background-color: #E2EBFA;\n",
              "      box-shadow: 0px 1px 2px rgba(60, 64, 67, 0.3), 0px 1px 3px 1px rgba(60, 64, 67, 0.15);\n",
              "      fill: #174EA6;\n",
              "    }\n",
              "\n",
              "    [theme=dark] .colab-df-convert {\n",
              "      background-color: #3B4455;\n",
              "      fill: #D2E3FC;\n",
              "    }\n",
              "\n",
              "    [theme=dark] .colab-df-convert:hover {\n",
              "      background-color: #434B5C;\n",
              "      box-shadow: 0px 1px 3px 1px rgba(0, 0, 0, 0.15);\n",
              "      filter: drop-shadow(0px 1px 2px rgba(0, 0, 0, 0.3));\n",
              "      fill: #FFFFFF;\n",
              "    }\n",
              "  </style>\n",
              "\n",
              "      <script>\n",
              "        const buttonEl =\n",
              "          document.querySelector('#df-9cd144db-b0ca-4c93-8737-1277b035a204 button.colab-df-convert');\n",
              "        buttonEl.style.display =\n",
              "          google.colab.kernel.accessAllowed ? 'block' : 'none';\n",
              "\n",
              "        async function convertToInteractive(key) {\n",
              "          const element = document.querySelector('#df-9cd144db-b0ca-4c93-8737-1277b035a204');\n",
              "          const dataTable =\n",
              "            await google.colab.kernel.invokeFunction('convertToInteractive',\n",
              "                                                     [key], {});\n",
              "          if (!dataTable) return;\n",
              "\n",
              "          const docLinkHtml = 'Like what you see? Visit the ' +\n",
              "            '<a target=\"_blank\" href=https://colab.research.google.com/notebooks/data_table.ipynb>data table notebook</a>'\n",
              "            + ' to learn more about interactive tables.';\n",
              "          element.innerHTML = '';\n",
              "          dataTable['output_type'] = 'display_data';\n",
              "          await google.colab.output.renderOutput(dataTable, element);\n",
              "          const docLink = document.createElement('div');\n",
              "          docLink.innerHTML = docLinkHtml;\n",
              "          element.appendChild(docLink);\n",
              "        }\n",
              "      </script>\n",
              "    </div>\n",
              "  </div>\n",
              "  "
            ]
          },
          "metadata": {},
          "execution_count": 8
        }
      ]
    },
    {
      "cell_type": "code",
      "source": [
        "# 훈련 자료 정보 \n",
        "train_df.info()"
      ],
      "metadata": {
        "colab": {
          "base_uri": "https://localhost:8080/"
        },
        "id": "5vG2e9r4ycAm",
        "outputId": "bf66e17e-3574-4782-9f32-fe295a0bb04c"
      },
      "execution_count": 9,
      "outputs": [
        {
          "output_type": "stream",
          "name": "stdout",
          "text": [
            "<class 'pandas.core.frame.DataFrame'>\n",
            "RangeIndex: 891 entries, 0 to 890\n",
            "Data columns (total 12 columns):\n",
            " #   Column       Non-Null Count  Dtype  \n",
            "---  ------       --------------  -----  \n",
            " 0   PassengerId  891 non-null    int64  \n",
            " 1   Survived     891 non-null    int64  \n",
            " 2   Pclass       891 non-null    int64  \n",
            " 3   Name         891 non-null    object \n",
            " 4   Sex          891 non-null    object \n",
            " 5   Age          714 non-null    float64\n",
            " 6   SibSp        891 non-null    int64  \n",
            " 7   Parch        891 non-null    int64  \n",
            " 8   Ticket       891 non-null    object \n",
            " 9   Fare         891 non-null    float64\n",
            " 10  Cabin        204 non-null    object \n",
            " 11  Embarked     889 non-null    object \n",
            "dtypes: float64(2), int64(5), object(5)\n",
            "memory usage: 83.7+ KB\n"
          ]
        }
      ]
    },
    {
      "cell_type": "code",
      "source": [
        "# 테스트 자료 정보 \n",
        "test_df.info() "
      ],
      "metadata": {
        "colab": {
          "base_uri": "https://localhost:8080/"
        },
        "id": "UZawrXOByiXC",
        "outputId": "ea9c048e-0e92-4a8e-a877-6ab3d1748fb7"
      },
      "execution_count": 10,
      "outputs": [
        {
          "output_type": "stream",
          "name": "stdout",
          "text": [
            "<class 'pandas.core.frame.DataFrame'>\n",
            "RangeIndex: 418 entries, 0 to 417\n",
            "Data columns (total 11 columns):\n",
            " #   Column       Non-Null Count  Dtype  \n",
            "---  ------       --------------  -----  \n",
            " 0   PassengerId  418 non-null    int64  \n",
            " 1   Pclass       418 non-null    int64  \n",
            " 2   Name         418 non-null    object \n",
            " 3   Sex          418 non-null    object \n",
            " 4   Age          332 non-null    float64\n",
            " 5   SibSp        418 non-null    int64  \n",
            " 6   Parch        418 non-null    int64  \n",
            " 7   Ticket       418 non-null    object \n",
            " 8   Fare         417 non-null    float64\n",
            " 9   Cabin        91 non-null     object \n",
            " 10  Embarked     418 non-null    object \n",
            "dtypes: float64(2), int64(4), object(5)\n",
            "memory usage: 36.0+ KB\n"
          ]
        }
      ]
    },
    {
      "cell_type": "markdown",
      "source": [
        "* train set과 test set모두 Cabin colunm에 결측지가 많아 삭제를 시킴 "
      ],
      "metadata": {
        "id": "Soa_TRyL9j5S"
      }
    },
    {
      "cell_type": "code",
      "source": [
        "train_df = train_df.drop(columns = 'Cabin')\n",
        "test_df = test_df.drop(columns = 'Cabin')\n",
        "print(train_df.info())"
      ],
      "metadata": {
        "id": "EjWvsm2F8WwX",
        "outputId": "09308b8d-5b52-47ff-9332-38908a038c47",
        "colab": {
          "base_uri": "https://localhost:8080/"
        }
      },
      "execution_count": 11,
      "outputs": [
        {
          "output_type": "stream",
          "name": "stdout",
          "text": [
            "<class 'pandas.core.frame.DataFrame'>\n",
            "RangeIndex: 891 entries, 0 to 890\n",
            "Data columns (total 11 columns):\n",
            " #   Column       Non-Null Count  Dtype  \n",
            "---  ------       --------------  -----  \n",
            " 0   PassengerId  891 non-null    int64  \n",
            " 1   Survived     891 non-null    int64  \n",
            " 2   Pclass       891 non-null    int64  \n",
            " 3   Name         891 non-null    object \n",
            " 4   Sex          891 non-null    object \n",
            " 5   Age          714 non-null    float64\n",
            " 6   SibSp        891 non-null    int64  \n",
            " 7   Parch        891 non-null    int64  \n",
            " 8   Ticket       891 non-null    object \n",
            " 9   Fare         891 non-null    float64\n",
            " 10  Embarked     889 non-null    object \n",
            "dtypes: float64(2), int64(5), object(4)\n",
            "memory usage: 76.7+ KB\n",
            "None\n"
          ]
        }
      ]
    },
    {
      "cell_type": "code",
      "source": [
        "# 훈련 자료 int, float 변수 통계치\n",
        "train_df.describe() # 누락데이터(NaN)는 제외되고 데이터 요약"
      ],
      "metadata": {
        "colab": {
          "base_uri": "https://localhost:8080/",
          "height": 0
        },
        "id": "lpRd7LwIyseb",
        "outputId": "ecfad5cd-be17-48a4-de64-11ff2155b2f0"
      },
      "execution_count": 12,
      "outputs": [
        {
          "output_type": "execute_result",
          "data": {
            "text/plain": [
              "       PassengerId    Survived      Pclass         Age       SibSp  \\\n",
              "count   891.000000  891.000000  891.000000  714.000000  891.000000   \n",
              "mean    446.000000    0.383838    2.308642   29.699118    0.523008   \n",
              "std     257.353842    0.486592    0.836071   14.526497    1.102743   \n",
              "min       1.000000    0.000000    1.000000    0.420000    0.000000   \n",
              "25%     223.500000    0.000000    2.000000   20.125000    0.000000   \n",
              "50%     446.000000    0.000000    3.000000   28.000000    0.000000   \n",
              "75%     668.500000    1.000000    3.000000   38.000000    1.000000   \n",
              "max     891.000000    1.000000    3.000000   80.000000    8.000000   \n",
              "\n",
              "            Parch        Fare  \n",
              "count  891.000000  891.000000  \n",
              "mean     0.381594   32.204208  \n",
              "std      0.806057   49.693429  \n",
              "min      0.000000    0.000000  \n",
              "25%      0.000000    7.910400  \n",
              "50%      0.000000   14.454200  \n",
              "75%      0.000000   31.000000  \n",
              "max      6.000000  512.329200  "
            ],
            "text/html": [
              "\n",
              "  <div id=\"df-9f54f6cb-38cb-49bd-8466-e976b7db5b13\">\n",
              "    <div class=\"colab-df-container\">\n",
              "      <div>\n",
              "<style scoped>\n",
              "    .dataframe tbody tr th:only-of-type {\n",
              "        vertical-align: middle;\n",
              "    }\n",
              "\n",
              "    .dataframe tbody tr th {\n",
              "        vertical-align: top;\n",
              "    }\n",
              "\n",
              "    .dataframe thead th {\n",
              "        text-align: right;\n",
              "    }\n",
              "</style>\n",
              "<table border=\"1\" class=\"dataframe\">\n",
              "  <thead>\n",
              "    <tr style=\"text-align: right;\">\n",
              "      <th></th>\n",
              "      <th>PassengerId</th>\n",
              "      <th>Survived</th>\n",
              "      <th>Pclass</th>\n",
              "      <th>Age</th>\n",
              "      <th>SibSp</th>\n",
              "      <th>Parch</th>\n",
              "      <th>Fare</th>\n",
              "    </tr>\n",
              "  </thead>\n",
              "  <tbody>\n",
              "    <tr>\n",
              "      <th>count</th>\n",
              "      <td>891.000000</td>\n",
              "      <td>891.000000</td>\n",
              "      <td>891.000000</td>\n",
              "      <td>714.000000</td>\n",
              "      <td>891.000000</td>\n",
              "      <td>891.000000</td>\n",
              "      <td>891.000000</td>\n",
              "    </tr>\n",
              "    <tr>\n",
              "      <th>mean</th>\n",
              "      <td>446.000000</td>\n",
              "      <td>0.383838</td>\n",
              "      <td>2.308642</td>\n",
              "      <td>29.699118</td>\n",
              "      <td>0.523008</td>\n",
              "      <td>0.381594</td>\n",
              "      <td>32.204208</td>\n",
              "    </tr>\n",
              "    <tr>\n",
              "      <th>std</th>\n",
              "      <td>257.353842</td>\n",
              "      <td>0.486592</td>\n",
              "      <td>0.836071</td>\n",
              "      <td>14.526497</td>\n",
              "      <td>1.102743</td>\n",
              "      <td>0.806057</td>\n",
              "      <td>49.693429</td>\n",
              "    </tr>\n",
              "    <tr>\n",
              "      <th>min</th>\n",
              "      <td>1.000000</td>\n",
              "      <td>0.000000</td>\n",
              "      <td>1.000000</td>\n",
              "      <td>0.420000</td>\n",
              "      <td>0.000000</td>\n",
              "      <td>0.000000</td>\n",
              "      <td>0.000000</td>\n",
              "    </tr>\n",
              "    <tr>\n",
              "      <th>25%</th>\n",
              "      <td>223.500000</td>\n",
              "      <td>0.000000</td>\n",
              "      <td>2.000000</td>\n",
              "      <td>20.125000</td>\n",
              "      <td>0.000000</td>\n",
              "      <td>0.000000</td>\n",
              "      <td>7.910400</td>\n",
              "    </tr>\n",
              "    <tr>\n",
              "      <th>50%</th>\n",
              "      <td>446.000000</td>\n",
              "      <td>0.000000</td>\n",
              "      <td>3.000000</td>\n",
              "      <td>28.000000</td>\n",
              "      <td>0.000000</td>\n",
              "      <td>0.000000</td>\n",
              "      <td>14.454200</td>\n",
              "    </tr>\n",
              "    <tr>\n",
              "      <th>75%</th>\n",
              "      <td>668.500000</td>\n",
              "      <td>1.000000</td>\n",
              "      <td>3.000000</td>\n",
              "      <td>38.000000</td>\n",
              "      <td>1.000000</td>\n",
              "      <td>0.000000</td>\n",
              "      <td>31.000000</td>\n",
              "    </tr>\n",
              "    <tr>\n",
              "      <th>max</th>\n",
              "      <td>891.000000</td>\n",
              "      <td>1.000000</td>\n",
              "      <td>3.000000</td>\n",
              "      <td>80.000000</td>\n",
              "      <td>8.000000</td>\n",
              "      <td>6.000000</td>\n",
              "      <td>512.329200</td>\n",
              "    </tr>\n",
              "  </tbody>\n",
              "</table>\n",
              "</div>\n",
              "      <button class=\"colab-df-convert\" onclick=\"convertToInteractive('df-9f54f6cb-38cb-49bd-8466-e976b7db5b13')\"\n",
              "              title=\"Convert this dataframe to an interactive table.\"\n",
              "              style=\"display:none;\">\n",
              "        \n",
              "  <svg xmlns=\"http://www.w3.org/2000/svg\" height=\"24px\"viewBox=\"0 0 24 24\"\n",
              "       width=\"24px\">\n",
              "    <path d=\"M0 0h24v24H0V0z\" fill=\"none\"/>\n",
              "    <path d=\"M18.56 5.44l.94 2.06.94-2.06 2.06-.94-2.06-.94-.94-2.06-.94 2.06-2.06.94zm-11 1L8.5 8.5l.94-2.06 2.06-.94-2.06-.94L8.5 2.5l-.94 2.06-2.06.94zm10 10l.94 2.06.94-2.06 2.06-.94-2.06-.94-.94-2.06-.94 2.06-2.06.94z\"/><path d=\"M17.41 7.96l-1.37-1.37c-.4-.4-.92-.59-1.43-.59-.52 0-1.04.2-1.43.59L10.3 9.45l-7.72 7.72c-.78.78-.78 2.05 0 2.83L4 21.41c.39.39.9.59 1.41.59.51 0 1.02-.2 1.41-.59l7.78-7.78 2.81-2.81c.8-.78.8-2.07 0-2.86zM5.41 20L4 18.59l7.72-7.72 1.47 1.35L5.41 20z\"/>\n",
              "  </svg>\n",
              "      </button>\n",
              "      \n",
              "  <style>\n",
              "    .colab-df-container {\n",
              "      display:flex;\n",
              "      flex-wrap:wrap;\n",
              "      gap: 12px;\n",
              "    }\n",
              "\n",
              "    .colab-df-convert {\n",
              "      background-color: #E8F0FE;\n",
              "      border: none;\n",
              "      border-radius: 50%;\n",
              "      cursor: pointer;\n",
              "      display: none;\n",
              "      fill: #1967D2;\n",
              "      height: 32px;\n",
              "      padding: 0 0 0 0;\n",
              "      width: 32px;\n",
              "    }\n",
              "\n",
              "    .colab-df-convert:hover {\n",
              "      background-color: #E2EBFA;\n",
              "      box-shadow: 0px 1px 2px rgba(60, 64, 67, 0.3), 0px 1px 3px 1px rgba(60, 64, 67, 0.15);\n",
              "      fill: #174EA6;\n",
              "    }\n",
              "\n",
              "    [theme=dark] .colab-df-convert {\n",
              "      background-color: #3B4455;\n",
              "      fill: #D2E3FC;\n",
              "    }\n",
              "\n",
              "    [theme=dark] .colab-df-convert:hover {\n",
              "      background-color: #434B5C;\n",
              "      box-shadow: 0px 1px 3px 1px rgba(0, 0, 0, 0.15);\n",
              "      filter: drop-shadow(0px 1px 2px rgba(0, 0, 0, 0.3));\n",
              "      fill: #FFFFFF;\n",
              "    }\n",
              "  </style>\n",
              "\n",
              "      <script>\n",
              "        const buttonEl =\n",
              "          document.querySelector('#df-9f54f6cb-38cb-49bd-8466-e976b7db5b13 button.colab-df-convert');\n",
              "        buttonEl.style.display =\n",
              "          google.colab.kernel.accessAllowed ? 'block' : 'none';\n",
              "\n",
              "        async function convertToInteractive(key) {\n",
              "          const element = document.querySelector('#df-9f54f6cb-38cb-49bd-8466-e976b7db5b13');\n",
              "          const dataTable =\n",
              "            await google.colab.kernel.invokeFunction('convertToInteractive',\n",
              "                                                     [key], {});\n",
              "          if (!dataTable) return;\n",
              "\n",
              "          const docLinkHtml = 'Like what you see? Visit the ' +\n",
              "            '<a target=\"_blank\" href=https://colab.research.google.com/notebooks/data_table.ipynb>data table notebook</a>'\n",
              "            + ' to learn more about interactive tables.';\n",
              "          element.innerHTML = '';\n",
              "          dataTable['output_type'] = 'display_data';\n",
              "          await google.colab.output.renderOutput(dataTable, element);\n",
              "          const docLink = document.createElement('div');\n",
              "          docLink.innerHTML = docLinkHtml;\n",
              "          element.appendChild(docLink);\n",
              "        }\n",
              "      </script>\n",
              "    </div>\n",
              "  </div>\n",
              "  "
            ]
          },
          "metadata": {},
          "execution_count": 12
        }
      ]
    },
    {
      "cell_type": "code",
      "source": [
        "# 훈련 자료 object 변수 통계치 \n",
        "train_df.describe(include=['O'])"
      ],
      "metadata": {
        "colab": {
          "base_uri": "https://localhost:8080/",
          "height": 0
        },
        "id": "3GLHqCMMyuXK",
        "outputId": "444fae76-476c-4f74-ec16-654b48e20824"
      },
      "execution_count": 13,
      "outputs": [
        {
          "output_type": "execute_result",
          "data": {
            "text/plain": [
              "                           Name   Sex  Ticket Embarked\n",
              "count                       891   891     891      889\n",
              "unique                      891     2     681        3\n",
              "top     Braund, Mr. Owen Harris  male  347082        S\n",
              "freq                          1   577       7      644"
            ],
            "text/html": [
              "\n",
              "  <div id=\"df-ed71f6ca-bf71-4d58-acda-7e4e24bc4614\">\n",
              "    <div class=\"colab-df-container\">\n",
              "      <div>\n",
              "<style scoped>\n",
              "    .dataframe tbody tr th:only-of-type {\n",
              "        vertical-align: middle;\n",
              "    }\n",
              "\n",
              "    .dataframe tbody tr th {\n",
              "        vertical-align: top;\n",
              "    }\n",
              "\n",
              "    .dataframe thead th {\n",
              "        text-align: right;\n",
              "    }\n",
              "</style>\n",
              "<table border=\"1\" class=\"dataframe\">\n",
              "  <thead>\n",
              "    <tr style=\"text-align: right;\">\n",
              "      <th></th>\n",
              "      <th>Name</th>\n",
              "      <th>Sex</th>\n",
              "      <th>Ticket</th>\n",
              "      <th>Embarked</th>\n",
              "    </tr>\n",
              "  </thead>\n",
              "  <tbody>\n",
              "    <tr>\n",
              "      <th>count</th>\n",
              "      <td>891</td>\n",
              "      <td>891</td>\n",
              "      <td>891</td>\n",
              "      <td>889</td>\n",
              "    </tr>\n",
              "    <tr>\n",
              "      <th>unique</th>\n",
              "      <td>891</td>\n",
              "      <td>2</td>\n",
              "      <td>681</td>\n",
              "      <td>3</td>\n",
              "    </tr>\n",
              "    <tr>\n",
              "      <th>top</th>\n",
              "      <td>Braund, Mr. Owen Harris</td>\n",
              "      <td>male</td>\n",
              "      <td>347082</td>\n",
              "      <td>S</td>\n",
              "    </tr>\n",
              "    <tr>\n",
              "      <th>freq</th>\n",
              "      <td>1</td>\n",
              "      <td>577</td>\n",
              "      <td>7</td>\n",
              "      <td>644</td>\n",
              "    </tr>\n",
              "  </tbody>\n",
              "</table>\n",
              "</div>\n",
              "      <button class=\"colab-df-convert\" onclick=\"convertToInteractive('df-ed71f6ca-bf71-4d58-acda-7e4e24bc4614')\"\n",
              "              title=\"Convert this dataframe to an interactive table.\"\n",
              "              style=\"display:none;\">\n",
              "        \n",
              "  <svg xmlns=\"http://www.w3.org/2000/svg\" height=\"24px\"viewBox=\"0 0 24 24\"\n",
              "       width=\"24px\">\n",
              "    <path d=\"M0 0h24v24H0V0z\" fill=\"none\"/>\n",
              "    <path d=\"M18.56 5.44l.94 2.06.94-2.06 2.06-.94-2.06-.94-.94-2.06-.94 2.06-2.06.94zm-11 1L8.5 8.5l.94-2.06 2.06-.94-2.06-.94L8.5 2.5l-.94 2.06-2.06.94zm10 10l.94 2.06.94-2.06 2.06-.94-2.06-.94-.94-2.06-.94 2.06-2.06.94z\"/><path d=\"M17.41 7.96l-1.37-1.37c-.4-.4-.92-.59-1.43-.59-.52 0-1.04.2-1.43.59L10.3 9.45l-7.72 7.72c-.78.78-.78 2.05 0 2.83L4 21.41c.39.39.9.59 1.41.59.51 0 1.02-.2 1.41-.59l7.78-7.78 2.81-2.81c.8-.78.8-2.07 0-2.86zM5.41 20L4 18.59l7.72-7.72 1.47 1.35L5.41 20z\"/>\n",
              "  </svg>\n",
              "      </button>\n",
              "      \n",
              "  <style>\n",
              "    .colab-df-container {\n",
              "      display:flex;\n",
              "      flex-wrap:wrap;\n",
              "      gap: 12px;\n",
              "    }\n",
              "\n",
              "    .colab-df-convert {\n",
              "      background-color: #E8F0FE;\n",
              "      border: none;\n",
              "      border-radius: 50%;\n",
              "      cursor: pointer;\n",
              "      display: none;\n",
              "      fill: #1967D2;\n",
              "      height: 32px;\n",
              "      padding: 0 0 0 0;\n",
              "      width: 32px;\n",
              "    }\n",
              "\n",
              "    .colab-df-convert:hover {\n",
              "      background-color: #E2EBFA;\n",
              "      box-shadow: 0px 1px 2px rgba(60, 64, 67, 0.3), 0px 1px 3px 1px rgba(60, 64, 67, 0.15);\n",
              "      fill: #174EA6;\n",
              "    }\n",
              "\n",
              "    [theme=dark] .colab-df-convert {\n",
              "      background-color: #3B4455;\n",
              "      fill: #D2E3FC;\n",
              "    }\n",
              "\n",
              "    [theme=dark] .colab-df-convert:hover {\n",
              "      background-color: #434B5C;\n",
              "      box-shadow: 0px 1px 3px 1px rgba(0, 0, 0, 0.15);\n",
              "      filter: drop-shadow(0px 1px 2px rgba(0, 0, 0, 0.3));\n",
              "      fill: #FFFFFF;\n",
              "    }\n",
              "  </style>\n",
              "\n",
              "      <script>\n",
              "        const buttonEl =\n",
              "          document.querySelector('#df-ed71f6ca-bf71-4d58-acda-7e4e24bc4614 button.colab-df-convert');\n",
              "        buttonEl.style.display =\n",
              "          google.colab.kernel.accessAllowed ? 'block' : 'none';\n",
              "\n",
              "        async function convertToInteractive(key) {\n",
              "          const element = document.querySelector('#df-ed71f6ca-bf71-4d58-acda-7e4e24bc4614');\n",
              "          const dataTable =\n",
              "            await google.colab.kernel.invokeFunction('convertToInteractive',\n",
              "                                                     [key], {});\n",
              "          if (!dataTable) return;\n",
              "\n",
              "          const docLinkHtml = 'Like what you see? Visit the ' +\n",
              "            '<a target=\"_blank\" href=https://colab.research.google.com/notebooks/data_table.ipynb>data table notebook</a>'\n",
              "            + ' to learn more about interactive tables.';\n",
              "          element.innerHTML = '';\n",
              "          dataTable['output_type'] = 'display_data';\n",
              "          await google.colab.output.renderOutput(dataTable, element);\n",
              "          const docLink = document.createElement('div');\n",
              "          docLink.innerHTML = docLinkHtml;\n",
              "          element.appendChild(docLink);\n",
              "        }\n",
              "      </script>\n",
              "    </div>\n",
              "  </div>\n",
              "  "
            ]
          },
          "metadata": {},
          "execution_count": 13
        }
      ]
    },
    {
      "cell_type": "code",
      "source": [
        "sns.heatmap(train_df.corr(),annot=True,cmap='RdYlGn',linewidths=0.2) #data.corr()-->correlation matrix\n",
        "fig=plt.gcf()\n",
        "fig.set_size_inches(10,8)\n",
        "plt.show()"
      ],
      "metadata": {
        "id": "8NbVX7Td99ej",
        "outputId": "b16e768f-d916-4b4f-b7bf-e78979ad1d80",
        "colab": {
          "base_uri": "https://localhost:8080/",
          "height": 0
        }
      },
      "execution_count": 14,
      "outputs": [
        {
          "output_type": "display_data",
          "data": {
            "text/plain": [
              "<Figure size 720x576 with 2 Axes>"
            ],
            "image/png": "[encoded data removed]"
          },
          "metadata": {
            "needs_background": "light"
          }
        }
      ]
    },
    {
      "cell_type": "code",
      "source": [
        "labels = ['Survived', 'Dead']\n",
        "train_df['Survived'].value_counts().plot.pie(labels = labels, explode = [0,0.1], autopct = '%1.1f%%', shadow = True)\n",
        "plt.title('Survived')\n",
        "plt.ylabel('')\n",
        "plt.show()"
      ],
      "metadata": {
        "colab": {
          "base_uri": "https://localhost:8080/",
          "height": 0
        },
        "id": "e99Sk3tzy0Py",
        "outputId": "9f65e4c0-1e2e-4f5e-ffce-153b3fc7a16e"
      },
      "execution_count": 15,
      "outputs": [
        {
          "output_type": "display_data",
          "data": {
            "text/plain": [
              "<Figure size 432x288 with 1 Axes>"
            ],
            "image/png": "[encoded data removed]"
          },
          "metadata": {}
        }
      ]
    },
    {
      "cell_type": "code",
      "source": [
        "# relation of Pclass and Survived   # 객실 등급이 높을수록 생존 비율이 높다. \n",
        "sns.set_style('whitegrid')\n",
        "sns.countplot(data=train_df, x='Pclass', hue='Survived')\n",
        "plt.title('Pclass and Survived')\n",
        "plt.ylabel('')\n",
        "plt.show()"
      ],
      "metadata": {
        "colab": {
          "base_uri": "https://localhost:8080/",
          "height": 0
        },
        "id": "Kd0jT5WGzCwT",
        "outputId": "910149de-386f-4bd2-adb1-786b95b2e4d8"
      },
      "execution_count": 16,
      "outputs": [
        {
          "output_type": "display_data",
          "data": {
            "text/plain": [
              "<Figure size 432x288 with 1 Axes>"
            ],
            "image/png": "[encoded data removed]"
          },
          "metadata": {}
        }
      ]
    },
    {
      "cell_type": "code",
      "source": [
        "# relation of name and Survived"
      ],
      "metadata": {
        "id": "LLTj4ZLTzIN_"
      },
      "execution_count": 17,
      "outputs": []
    },
    {
      "cell_type": "code",
      "source": [
        "# relation of Sex and Survived  # 남성보다 여성의 생존 비율이 높다.\n",
        "sns.set_style('whitegrid')\n",
        "sns.countplot(data=train_df, x='Sex', hue='Survived')\n",
        "plt.title('Sex and Survived')\n",
        "plt.ylabel('')\n",
        "plt.show()"
      ],
      "metadata": {
        "colab": {
          "base_uri": "https://localhost:8080/",
          "height": 0
        },
        "id": "u7qyjAqQzK_K",
        "outputId": "8e3f34b7-92c7-4207-f1bd-82a653dcdbdd"
      },
      "execution_count": 18,
      "outputs": [
        {
          "output_type": "display_data",
          "data": {
            "text/plain": [
              "<Figure size 432x288 with 1 Axes>"
            ],
            "image/png": "[encoded data removed]"
          },
          "metadata": {}
        }
      ]
    },
    {
      "cell_type": "code",
      "source": [
        "figure = plt.figure(figsize=(12,6))\n",
        "cols, rows = 2,1\n",
        "\n",
        "# relation of Age and Survived  # 아기들의 생존 비율이 높다.\n",
        "figure.add_subplot(rows, cols, 1)\n",
        "train_df[train_df['Survived']==0].Age.plot.hist(bins=10)\n",
        "plt.title('Age and Dead')\n",
        "plt.xlabel('Age')\n",
        "plt.ylabel('')\n",
        "plt.ylim([0, 125])\n",
        "\n",
        "figure.add_subplot(rows, cols, 2)\n",
        "train_df[train_df['Survived']==1].Age.plot.hist(bins=10)\n",
        "plt.title('Age and Survived')\n",
        "plt.xlabel('Age')\n",
        "plt.ylabel('')\n",
        "plt.ylim([0, 125])\n",
        "\n",
        "plt.show()"
      ],
      "metadata": {
        "colab": {
          "base_uri": "https://localhost:8080/",
          "height": 0
        },
        "id": "13ni4nY_zSeq",
        "outputId": "8b6dce94-5041-420d-8241-d145a1e68b16"
      },
      "execution_count": 19,
      "outputs": [
        {
          "output_type": "display_data",
          "data": {
            "text/plain": [
              "<Figure size 864x432 with 2 Axes>"
            ],
            "image/png": "[encoded data removed]"
          },
          "metadata": {}
        }
      ]
    },
    {
      "cell_type": "code",
      "source": [
        "figure = plt.figure(figsize=(12,6))\n",
        "cols, rows = 2,1\n",
        "\n",
        "# relation of SibSp and Survived    # 의외로 혼자 탄손님의 생존 비율이 낮고, 5명 이상 함께 탄 손님들은 모두 사망 하였다(여러명이 함께 타면 한명쯤은 생존할거 같은데...)\n",
        "figure.add_subplot(rows, cols, 1)\n",
        "sns.barplot('SibSp','Survived',data=train_df) \n",
        "plt.title('SibSp and Survived')\n",
        "plt.ylabel('Survived')\n",
        "\n",
        "# relation of SibSp and Pclass  # 이유 : 5명 이상 함께 탄 손님은 전부 3등급 객실 이용 \n",
        "figure.add_subplot(rows, cols, 2)\n",
        "sns.barplot('SibSp','Pclass',data=train_df)  \n",
        "plt.title('SibSp and Pclass')\n",
        "plt.ylabel('Pclass')\n",
        "\n",
        "plt.show()"
      ],
      "metadata": {
        "colab": {
          "base_uri": "https://localhost:8080/",
          "height": 0
        },
        "id": "lXbxQJs5z4hD",
        "outputId": "4fd857cd-d972-4b3f-f63f-a1dad740c4d1"
      },
      "execution_count": 20,
      "outputs": [
        {
          "output_type": "display_data",
          "data": {
            "text/plain": [
              "<Figure size 864x432 with 2 Axes>"
            ],
            "image/png": "[encoded data removed]"
          },
          "metadata": {}
        }
      ]
    },
    {
      "cell_type": "code",
      "source": [
        "figure = plt.figure(figsize=(12,6))\n",
        "cols, rows = 2,1\n",
        "\n",
        "# relation of Parch and Survived    # SibSp와 결과가 비슷 \n",
        "figure.add_subplot(rows, cols, 1)\n",
        "sns.barplot('Parch','Survived',data=train_df) \n",
        "plt.title('Parch and Survived')\n",
        "plt.ylabel('Survived')\n",
        "\n",
        "# relation of Parch and Pclass\n",
        "figure.add_subplot(rows, cols, 2)\n",
        "sns.barplot('Parch','Pclass',data=train_df)  \n",
        "plt.title('Parch and Pclass')\n",
        "plt.ylabel('Pclass')\n",
        "\n",
        "plt.show()"
      ],
      "metadata": {
        "colab": {
          "base_uri": "https://localhost:8080/",
          "height": 0
        },
        "id": "2XVljBJ10OqK",
        "outputId": "ec1eae76-d2fb-4247-ea1f-28aedab46c44"
      },
      "execution_count": 21,
      "outputs": [
        {
          "output_type": "display_data",
          "data": {
            "text/plain": [
              "<Figure size 864x432 with 2 Axes>"
            ],
            "image/png": "[encoded data removed]"
          },
          "metadata": {}
        }
      ]
    },
    {
      "cell_type": "code",
      "source": [
        "figure = plt.figure(figsize=(12,6))\n",
        "cols, rows = 2,1\n",
        "\n",
        "# relation of Fare and Survived # 가격 저렴한 3등급 객실 손님이 많아 눈으로 비율을 비교하기 힘들다 해결방법은 모르겠다.\n",
        "figure.add_subplot(rows, cols, 1)\n",
        "train_df[train_df['Survived']==0].Fare.plot.hist(bins=10)\n",
        "plt.title('Fare and Dead')\n",
        "plt.xlabel('Fare')\n",
        "plt.ylabel('')\n",
        "plt.ylim([0, 500])\n",
        "\n",
        "figure.add_subplot(rows, cols, 2)\n",
        "train_df[train_df['Survived']==1].Fare.plot.hist(bins=10)\n",
        "plt.title('Fare and Survived')\n",
        "plt.xlabel('Fare')\n",
        "plt.ylabel('')\n",
        "plt.ylim([0, 500])\n",
        "\n",
        "plt.show()"
      ],
      "metadata": {
        "colab": {
          "base_uri": "https://localhost:8080/",
          "height": 0
        },
        "id": "vUXh5Qmm0eMj",
        "outputId": "43013a89-f10f-408e-ce69-1db181aca414"
      },
      "execution_count": 22,
      "outputs": [
        {
          "output_type": "display_data",
          "data": {
            "text/plain": [
              "<Figure size 864x432 with 2 Axes>"
            ],
            "image/png": "[encoded data removed]"
          },
          "metadata": {}
        }
      ]
    },
    {
      "cell_type": "code",
      "source": [
        "figure = plt.figure(figsize=(12,6))\n",
        "cols, rows = 2,1\n",
        "\n",
        "# relation of Embarked and Survived # C 항구에서 승선한 손님들의 생존 확률이 높다  \n",
        "figure.add_subplot(rows, cols, 1)\n",
        "sns.set_style('whitegrid')\n",
        "sns.countplot(data=train_df, x='Embarked', hue='Survived')\n",
        "plt.title('Embarked and Survived')\n",
        "plt.ylabel('')\n",
        "\n",
        "# relation of Embarked and Pclass   # C 항구의 객실 등급 평균이 낮다(좋은 객실에 탔다).\n",
        "figure.add_subplot(rows, cols, 2)\n",
        "sns.barplot('Embarked','Pclass',data=train_df)  \n",
        "plt.title('Embarked and Pclass')\n",
        "plt.ylabel('Pclass')\n",
        "\n",
        "plt.show()"
      ],
      "metadata": {
        "colab": {
          "base_uri": "https://localhost:8080/",
          "height": 0
        },
        "id": "tJ9VSY1p0qEC",
        "outputId": "82ac005f-bfdd-49ae-a471-ad248741f6a2"
      },
      "execution_count": 23,
      "outputs": [
        {
          "output_type": "display_data",
          "data": {
            "text/plain": [
              "<Figure size 864x432 with 2 Axes>"
            ],
            "image/png": "[encoded data removed]"
          },
          "metadata": {}
        }
      ]
    },
    {
      "cell_type": "markdown",
      "source": [
        "# 데이터 전처리 "
      ],
      "metadata": {
        "id": "i-95LYcO-ivL"
      }
    },
    {
      "cell_type": "markdown",
      "source": [
        "* 전처리 하기전 결측지 부터 확인 "
      ],
      "metadata": {
        "id": "ZEUzFoik_D7u"
      }
    },
    {
      "cell_type": "code",
      "source": [
        "train_df.isnull().sum()"
      ],
      "metadata": {
        "id": "zamaaQ3N-89Y",
        "outputId": "ed1e7e5c-1f87-4619-e926-bb99d3fcfd15",
        "colab": {
          "base_uri": "https://localhost:8080/"
        }
      },
      "execution_count": 24,
      "outputs": [
        {
          "output_type": "execute_result",
          "data": {
            "text/plain": [
              "PassengerId      0\n",
              "Survived         0\n",
              "Pclass           0\n",
              "Name             0\n",
              "Sex              0\n",
              "Age            177\n",
              "SibSp            0\n",
              "Parch            0\n",
              "Ticket           0\n",
              "Fare             0\n",
              "Embarked         2\n",
              "dtype: int64"
            ]
          },
          "metadata": {},
          "execution_count": 24
        }
      ]
    },
    {
      "cell_type": "markdown",
      "source": [
        "* 우선 age colunm에 결측치부터 채우자\n",
        "> * 사람의 이름을 기준으로 Age를 나눈다."
      ],
      "metadata": {
        "id": "9EYVqmGEBYD9"
      }
    },
    {
      "cell_type": "code",
      "source": [
        "train_df['Initial'] = train_df.Name.str.extract('([A-Za-z]+)\\.')    \n",
        "test_df['Initial'] = test_df.Name.str.extract('([A-Za-z]+)\\.')\n",
        "# A-Z 또는 a-z 사이에 있고 .(점)이 오는 문자열을 찾는다.\n",
        "# 중간에 위치한 title 찾는 코드 "
      ],
      "metadata": {
        "id": "Y32cUkj_A5Se"
      },
      "execution_count": 25,
      "outputs": []
    },
    {
      "cell_type": "code",
      "source": [
        "train_df[\"Initial\"]"
      ],
      "metadata": {
        "id": "oyx5SyLFQkpc",
        "outputId": "9882a7ae-4ca5-4bfc-a040-f6fefba115e4",
        "colab": {
          "base_uri": "https://localhost:8080/"
        }
      },
      "execution_count": 26,
      "outputs": [
        {
          "output_type": "execute_result",
          "data": {
            "text/plain": [
              "0        Mr\n",
              "1       Mrs\n",
              "2      Miss\n",
              "3       Mrs\n",
              "4        Mr\n",
              "       ... \n",
              "886     Rev\n",
              "887    Miss\n",
              "888    Miss\n",
              "889      Mr\n",
              "890      Mr\n",
              "Name: Initial, Length: 891, dtype: object"
            ]
          },
          "metadata": {},
          "execution_count": 26
        }
      ]
    },
    {
      "cell_type": "code",
      "source": [
        "pd.crosstab(train_df.Initial,train_df.Sex).T.style.background_gradient(cmap = 'summer_r')"
      ],
      "metadata": {
        "id": "QMpOuYnhLvz0",
        "outputId": "98f4a381-a870-46a7-9ba6-b2c11a26bbf7",
        "colab": {
          "base_uri": "https://localhost:8080/",
          "height": 0
        }
      },
      "execution_count": 27,
      "outputs": [
        {
          "output_type": "execute_result",
          "data": {
            "text/plain": [
              "<pandas.io.formats.style.Styler at 0x7f2a67beb1d0>"
            ],
            "text/html": [
              "<style type=\"text/css\">\n",
              "#T_26796_row0_col0, #T_26796_row0_col1, #T_26796_row0_col3, #T_26796_row0_col4, #T_26796_row0_col5, #T_26796_row0_col7, #T_26796_row0_col8, #T_26796_row0_col12, #T_26796_row0_col15, #T_26796_row0_col16, #T_26796_row1_col2, #T_26796_row1_col6, #T_26796_row1_col9, #T_26796_row1_col10, #T_26796_row1_col11, #T_26796_row1_col13, #T_26796_row1_col14 {\n",
              "  background-color: #ffff66;\n",
              "  color: #000000;\n",
              "}\n",
              "#T_26796_row0_col2, #T_26796_row0_col6, #T_26796_row0_col9, #T_26796_row0_col10, #T_26796_row0_col11, #T_26796_row0_col13, #T_26796_row0_col14, #T_26796_row1_col0, #T_26796_row1_col1, #T_26796_row1_col3, #T_26796_row1_col4, #T_26796_row1_col5, #T_26796_row1_col7, #T_26796_row1_col8, #T_26796_row1_col12, #T_26796_row1_col15, #T_26796_row1_col16 {\n",
              "  background-color: #008066;\n",
              "  color: #f1f1f1;\n",
              "}\n",
              "</style>\n",
              "<table id=\"T_26796_\" class=\"dataframe\">\n",
              "  <thead>\n",
              "    <tr>\n",
              "      <th class=\"index_name level0\" >Initial</th>\n",
              "      <th class=\"col_heading level0 col0\" >Capt</th>\n",
              "      <th class=\"col_heading level0 col1\" >Col</th>\n",
              "      <th class=\"col_heading level0 col2\" >Countess</th>\n",
              "      <th class=\"col_heading level0 col3\" >Don</th>\n",
              "      <th class=\"col_heading level0 col4\" >Dr</th>\n",
              "      <th class=\"col_heading level0 col5\" >Jonkheer</th>\n",
              "      <th class=\"col_heading level0 col6\" >Lady</th>\n",
              "      <th class=\"col_heading level0 col7\" >Major</th>\n",
              "      <th class=\"col_heading level0 col8\" >Master</th>\n",
              "      <th class=\"col_heading level0 col9\" >Miss</th>\n",
              "      <th class=\"col_heading level0 col10\" >Mlle</th>\n",
              "      <th class=\"col_heading level0 col11\" >Mme</th>\n",
              "      <th class=\"col_heading level0 col12\" >Mr</th>\n",
              "      <th class=\"col_heading level0 col13\" >Mrs</th>\n",
              "      <th class=\"col_heading level0 col14\" >Ms</th>\n",
              "      <th class=\"col_heading level0 col15\" >Rev</th>\n",
              "      <th class=\"col_heading level0 col16\" >Sir</th>\n",
              "    </tr>\n",
              "    <tr>\n",
              "      <th class=\"index_name level0\" >Sex</th>\n",
              "      <th class=\"blank col0\" >&nbsp;</th>\n",
              "      <th class=\"blank col1\" >&nbsp;</th>\n",
              "      <th class=\"blank col2\" >&nbsp;</th>\n",
              "      <th class=\"blank col3\" >&nbsp;</th>\n",
              "      <th class=\"blank col4\" >&nbsp;</th>\n",
              "      <th class=\"blank col5\" >&nbsp;</th>\n",
              "      <th class=\"blank col6\" >&nbsp;</th>\n",
              "      <th class=\"blank col7\" >&nbsp;</th>\n",
              "      <th class=\"blank col8\" >&nbsp;</th>\n",
              "      <th class=\"blank col9\" >&nbsp;</th>\n",
              "      <th class=\"blank col10\" >&nbsp;</th>\n",
              "      <th class=\"blank col11\" >&nbsp;</th>\n",
              "      <th class=\"blank col12\" >&nbsp;</th>\n",
              "      <th class=\"blank col13\" >&nbsp;</th>\n",
              "      <th class=\"blank col14\" >&nbsp;</th>\n",
              "      <th class=\"blank col15\" >&nbsp;</th>\n",
              "      <th class=\"blank col16\" >&nbsp;</th>\n",
              "    </tr>\n",
              "  </thead>\n",
              "  <tbody>\n",
              "    <tr>\n",
              "      <th id=\"T_26796_level0_row0\" class=\"row_heading level0 row0\" >female</th>\n",
              "      <td id=\"T_26796_row0_col0\" class=\"data row0 col0\" >0</td>\n",
              "      <td id=\"T_26796_row0_col1\" class=\"data row0 col1\" >0</td>\n",
              "      <td id=\"T_26796_row0_col2\" class=\"data row0 col2\" >1</td>\n",
              "      <td id=\"T_26796_row0_col3\" class=\"data row0 col3\" >0</td>\n",
              "      <td id=\"T_26796_row0_col4\" class=\"data row0 col4\" >1</td>\n",
              "      <td id=\"T_26796_row0_col5\" class=\"data row0 col5\" >0</td>\n",
              "      <td id=\"T_26796_row0_col6\" class=\"data row0 col6\" >1</td>\n",
              "      <td id=\"T_26796_row0_col7\" class=\"data row0 col7\" >0</td>\n",
              "      <td id=\"T_26796_row0_col8\" class=\"data row0 col8\" >0</td>\n",
              "      <td id=\"T_26796_row0_col9\" class=\"data row0 col9\" >182</td>\n",
              "      <td id=\"T_26796_row0_col10\" class=\"data row0 col10\" >2</td>\n",
              "      <td id=\"T_26796_row0_col11\" class=\"data row0 col11\" >1</td>\n",
              "      <td id=\"T_26796_row0_col12\" class=\"data row0 col12\" >0</td>\n",
              "      <td id=\"T_26796_row0_col13\" class=\"data row0 col13\" >125</td>\n",
              "      <td id=\"T_26796_row0_col14\" class=\"data row0 col14\" >1</td>\n",
              "      <td id=\"T_26796_row0_col15\" class=\"data row0 col15\" >0</td>\n",
              "      <td id=\"T_26796_row0_col16\" class=\"data row0 col16\" >0</td>\n",
              "    </tr>\n",
              "    <tr>\n",
              "      <th id=\"T_26796_level0_row1\" class=\"row_heading level0 row1\" >male</th>\n",
              "      <td id=\"T_26796_row1_col0\" class=\"data row1 col0\" >1</td>\n",
              "      <td id=\"T_26796_row1_col1\" class=\"data row1 col1\" >2</td>\n",
              "      <td id=\"T_26796_row1_col2\" class=\"data row1 col2\" >0</td>\n",
              "      <td id=\"T_26796_row1_col3\" class=\"data row1 col3\" >1</td>\n",
              "      <td id=\"T_26796_row1_col4\" class=\"data row1 col4\" >6</td>\n",
              "      <td id=\"T_26796_row1_col5\" class=\"data row1 col5\" >1</td>\n",
              "      <td id=\"T_26796_row1_col6\" class=\"data row1 col6\" >0</td>\n",
              "      <td id=\"T_26796_row1_col7\" class=\"data row1 col7\" >2</td>\n",
              "      <td id=\"T_26796_row1_col8\" class=\"data row1 col8\" >40</td>\n",
              "      <td id=\"T_26796_row1_col9\" class=\"data row1 col9\" >0</td>\n",
              "      <td id=\"T_26796_row1_col10\" class=\"data row1 col10\" >0</td>\n",
              "      <td id=\"T_26796_row1_col11\" class=\"data row1 col11\" >0</td>\n",
              "      <td id=\"T_26796_row1_col12\" class=\"data row1 col12\" >517</td>\n",
              "      <td id=\"T_26796_row1_col13\" class=\"data row1 col13\" >0</td>\n",
              "      <td id=\"T_26796_row1_col14\" class=\"data row1 col14\" >0</td>\n",
              "      <td id=\"T_26796_row1_col15\" class=\"data row1 col15\" >6</td>\n",
              "      <td id=\"T_26796_row1_col16\" class=\"data row1 col16\" >1</td>\n",
              "    </tr>\n",
              "  </tbody>\n",
              "</table>\n"
            ]
          },
          "metadata": {},
          "execution_count": 27
        }
      ]
    },
    {
      "cell_type": "markdown",
      "source": [
        "* 여성은 Miss와 Mrs를 제일 많이 쓰고, 남성은 Mr와 Master를 많이 사용한다.\n",
        "> * 누락된 데이터 중에서 Miss와 Mrs, Mr와 Master를 title로 갖는 값에 어떤 값을 채워야 될까?\n",
        "> * 채워야 하는 값을 생각하기에 앞서, Miss, Mrs, Mr, Master와 같은 유의미하게 많은 데이터가 아닌 것들을 유의미한 데이터에 병합 시킨다.\n",
        "> * 여기서 Mlle과 mme은 Miss의 오타로 추정되기 때문에 Miss로 들어간다.  "
      ],
      "metadata": {
        "id": "IadEPFi6MKYb"
      }
    },
    {
      "cell_type": "code",
      "source": [
        "# title을 유의미한 데이터로 대체\n",
        "train_df['Initial'].replace(['Mlle','Mme','Ms','Dr','Major','Lady','Countess','Jonkheer','Col','Rev','Capt','Sir','Don'],['Miss','Miss','Miss','Mr','Mr','Mrs','Mrs','Other','Other','Other','Mr','Mr','Mr'],inplace=True)\n",
        "test_df['Initial'].replace(['Mlle','Mme','Ms','Dr','Major','Lady','Countess','Jonkheer','Col','Rev','Capt','Sir','Don'],['Miss','Miss','Miss','Mr','Mr','Mrs','Mrs','Other','Other','Other','Mr','Mr','Mr'],inplace=True)"
      ],
      "metadata": {
        "id": "cjmoTiuSOO-N"
      },
      "execution_count": 28,
      "outputs": []
    },
    {
      "cell_type": "code",
      "source": [
        "# 확인\n",
        "pd.crosstab(train_df.Initial,train_df.Sex).T.style.background_gradient(cmap = 'summer_r')"
      ],
      "metadata": {
        "id": "2frl9_roPFNk",
        "outputId": "66c4de0a-33ae-4ac9-cf1e-878a68606b51",
        "colab": {
          "base_uri": "https://localhost:8080/",
          "height": 0
        }
      },
      "execution_count": 29,
      "outputs": [
        {
          "output_type": "execute_result",
          "data": {
            "text/plain": [
              "<pandas.io.formats.style.Styler at 0x7f2a6ab1c250>"
            ],
            "text/html": [
              "<style type=\"text/css\">\n",
              "#T_55152_row0_col0, #T_55152_row0_col2, #T_55152_row0_col4, #T_55152_row1_col1, #T_55152_row1_col3 {\n",
              "  background-color: #ffff66;\n",
              "  color: #000000;\n",
              "}\n",
              "#T_55152_row0_col1, #T_55152_row0_col3, #T_55152_row1_col0, #T_55152_row1_col2, #T_55152_row1_col4 {\n",
              "  background-color: #008066;\n",
              "  color: #f1f1f1;\n",
              "}\n",
              "</style>\n",
              "<table id=\"T_55152_\" class=\"dataframe\">\n",
              "  <thead>\n",
              "    <tr>\n",
              "      <th class=\"index_name level0\" >Initial</th>\n",
              "      <th class=\"col_heading level0 col0\" >Master</th>\n",
              "      <th class=\"col_heading level0 col1\" >Miss</th>\n",
              "      <th class=\"col_heading level0 col2\" >Mr</th>\n",
              "      <th class=\"col_heading level0 col3\" >Mrs</th>\n",
              "      <th class=\"col_heading level0 col4\" >Other</th>\n",
              "    </tr>\n",
              "    <tr>\n",
              "      <th class=\"index_name level0\" >Sex</th>\n",
              "      <th class=\"blank col0\" >&nbsp;</th>\n",
              "      <th class=\"blank col1\" >&nbsp;</th>\n",
              "      <th class=\"blank col2\" >&nbsp;</th>\n",
              "      <th class=\"blank col3\" >&nbsp;</th>\n",
              "      <th class=\"blank col4\" >&nbsp;</th>\n",
              "    </tr>\n",
              "  </thead>\n",
              "  <tbody>\n",
              "    <tr>\n",
              "      <th id=\"T_55152_level0_row0\" class=\"row_heading level0 row0\" >female</th>\n",
              "      <td id=\"T_55152_row0_col0\" class=\"data row0 col0\" >0</td>\n",
              "      <td id=\"T_55152_row0_col1\" class=\"data row0 col1\" >186</td>\n",
              "      <td id=\"T_55152_row0_col2\" class=\"data row0 col2\" >1</td>\n",
              "      <td id=\"T_55152_row0_col3\" class=\"data row0 col3\" >127</td>\n",
              "      <td id=\"T_55152_row0_col4\" class=\"data row0 col4\" >0</td>\n",
              "    </tr>\n",
              "    <tr>\n",
              "      <th id=\"T_55152_level0_row1\" class=\"row_heading level0 row1\" >male</th>\n",
              "      <td id=\"T_55152_row1_col0\" class=\"data row1 col0\" >40</td>\n",
              "      <td id=\"T_55152_row1_col1\" class=\"data row1 col1\" >0</td>\n",
              "      <td id=\"T_55152_row1_col2\" class=\"data row1 col2\" >528</td>\n",
              "      <td id=\"T_55152_row1_col3\" class=\"data row1 col3\" >0</td>\n",
              "      <td id=\"T_55152_row1_col4\" class=\"data row1 col4\" >9</td>\n",
              "    </tr>\n",
              "  </tbody>\n",
              "</table>\n"
            ]
          },
          "metadata": {},
          "execution_count": 29
        }
      ]
    },
    {
      "cell_type": "code",
      "source": [
        "# Initial에 따라 나이 결측치를 평균값으로 넣으려고 한다. \n",
        "train_df.groupby(\"Initial\")[\"Age\"].mean()   # groupby : 그룹별로 데이터를 집계하는 매서드"
      ],
      "metadata": {
        "id": "tq3Q5U-IQx8j",
        "outputId": "b6d40096-243f-4f89-d48a-c289cc6223f9",
        "colab": {
          "base_uri": "https://localhost:8080/"
        }
      },
      "execution_count": 30,
      "outputs": [
        {
          "output_type": "execute_result",
          "data": {
            "text/plain": [
              "Initial\n",
              "Master     4.574167\n",
              "Miss      21.860000\n",
              "Mr        32.739609\n",
              "Mrs       35.981818\n",
              "Other     45.888889\n",
              "Name: Age, dtype: float64"
            ]
          },
          "metadata": {},
          "execution_count": 30
        }
      ]
    },
    {
      "cell_type": "code",
      "source": [
        "train_df.loc[(train_df.Age.isnull())&(train_df.Initial == 'Master'),\"Age\"] = 5     # loc(a,b) : a를 만족하는 b에서의 값\n",
        "train_df.loc[(train_df.Age.isnull())&(train_df.Initial == 'Miss'),\"Age\"] = 22\n",
        "train_df.loc[(train_df.Age.isnull())&(train_df.Initial == 'Mr'),\"Age\"] = 33\n",
        "train_df.loc[(train_df.Age.isnull())&(train_df.Initial == 'Mrs'),\"Age\"] = 36\n",
        "train_df.loc[(train_df.Age.isnull())&(train_df.Initial == 'Other'),\"Age\"] = 46\n",
        "\n",
        "test_df.loc[(test_df.Age.isnull())&(test_df.Initial == 'Master'),\"Age\"] = 5     # loc(a,b) : a를 만족하는 b에서의 값\n",
        "test_df.loc[(test_df.Age.isnull())&(test_df.Initial == 'Miss'),\"Age\"] = 22\n",
        "test_df.loc[(test_df.Age.isnull())&(test_df.Initial == 'Mr'),\"Age\"] = 33\n",
        "test_df.loc[(test_df.Age.isnull())&(test_df.Initial == 'Mrs'),\"Age\"] = 36\n",
        "test_df.loc[(test_df.Age.isnull())&(test_df.Initial == 'Other'),\"Age\"] = 46"
      ],
      "metadata": {
        "id": "F65gdunaSBgr"
      },
      "execution_count": 31,
      "outputs": []
    },
    {
      "cell_type": "markdown",
      "source": [
        "* Null 값이 없는지 확인 "
      ],
      "metadata": {
        "id": "Yv9v50JoUrDy"
      }
    },
    {
      "cell_type": "code",
      "source": [
        "train_df.Age.isnull().sum()"
      ],
      "metadata": {
        "id": "2zCLRRzHUbC_",
        "outputId": "a21b6bf8-cf28-44e9-a0b5-32a0a1a6d6f3",
        "colab": {
          "base_uri": "https://localhost:8080/"
        }
      },
      "execution_count": 32,
      "outputs": [
        {
          "output_type": "execute_result",
          "data": {
            "text/plain": [
              "0"
            ]
          },
          "metadata": {},
          "execution_count": 32
        }
      ]
    },
    {
      "cell_type": "code",
      "source": [
        "test_df.Age.isnull().sum()"
      ],
      "metadata": {
        "id": "RIzQHD9hUyaY",
        "outputId": "643e0dfd-07d4-47e3-d530-24448850635b",
        "colab": {
          "base_uri": "https://localhost:8080/"
        }
      },
      "execution_count": 33,
      "outputs": [
        {
          "output_type": "execute_result",
          "data": {
            "text/plain": [
              "0"
            ]
          },
          "metadata": {},
          "execution_count": 33
        }
      ]
    },
    {
      "cell_type": "markdown",
      "source": [
        "* 이제 Embarked colunm을 채워 주자"
      ],
      "metadata": {
        "id": "8yv6ejdAU_2J"
      }
    },
    {
      "cell_type": "code",
      "source": [
        "train_df.Embarked.isnull().sum()"
      ],
      "metadata": {
        "id": "yCosTaMYWuKv",
        "outputId": "4984f122-5115-4534-998b-d0dc32010bd0",
        "colab": {
          "base_uri": "https://localhost:8080/"
        }
      },
      "execution_count": 34,
      "outputs": [
        {
          "output_type": "execute_result",
          "data": {
            "text/plain": [
              "2"
            ]
          },
          "metadata": {},
          "execution_count": 34
        }
      ]
    },
    {
      "cell_type": "code",
      "source": [
        "test_df.Embarked.isnull().sum()"
      ],
      "metadata": {
        "id": "GqBePGiEWnfy",
        "outputId": "99f8a7c6-d83c-46dc-ad6c-3b693a2a8e01",
        "colab": {
          "base_uri": "https://localhost:8080/"
        }
      },
      "execution_count": 35,
      "outputs": [
        {
          "output_type": "execute_result",
          "data": {
            "text/plain": [
              "0"
            ]
          },
          "metadata": {},
          "execution_count": 35
        }
      ]
    },
    {
      "cell_type": "markdown",
      "source": [
        "* 결측치가 2개만 있으므로 가장 많은 S로 채워 주겠다."
      ],
      "metadata": {
        "id": "dDYWadzmWwrF"
      }
    },
    {
      "cell_type": "code",
      "source": [
        "train_df['Embarked'].value_counts()"
      ],
      "metadata": {
        "id": "muUoEI__U38j",
        "outputId": "12de2bd1-fbe1-4d1c-a88f-22ae37299213",
        "colab": {
          "base_uri": "https://localhost:8080/"
        }
      },
      "execution_count": 36,
      "outputs": [
        {
          "output_type": "execute_result",
          "data": {
            "text/plain": [
              "S    644\n",
              "C    168\n",
              "Q     77\n",
              "Name: Embarked, dtype: int64"
            ]
          },
          "metadata": {},
          "execution_count": 36
        }
      ]
    },
    {
      "cell_type": "code",
      "source": [
        "train_df[\"Embarked\"].fillna(\"S\",inplace = True)\n",
        "train_df.Embarked.isnull().sum()"
      ],
      "metadata": {
        "id": "sCSOCt6kWwTK",
        "outputId": "e732d60a-07bc-4820-cd7f-7d1b33d1d3af",
        "colab": {
          "base_uri": "https://localhost:8080/"
        }
      },
      "execution_count": 37,
      "outputs": [
        {
          "output_type": "execute_result",
          "data": {
            "text/plain": [
              "0"
            ]
          },
          "metadata": {},
          "execution_count": 37
        }
      ]
    },
    {
      "cell_type": "markdown",
      "source": [
        "* 성별을 숫자로 변환"
      ],
      "metadata": {
        "id": "-Pik4SPRrZmP"
      }
    },
    {
      "cell_type": "code",
      "source": [
        "train_test_data = [train_df, test_df]\n",
        "\n",
        "sex_mapping = {\"male\":0, \"female\":1}\n",
        "for dataset in train_test_data:\n",
        "    dataset['Sex'] = dataset['Sex'].map(sex_mapping)"
      ],
      "metadata": {
        "id": "oywxvNvDrdTj"
      },
      "execution_count": 38,
      "outputs": []
    },
    {
      "cell_type": "markdown",
      "source": [
        "* 탑승지를 숫자로 변환"
      ],
      "metadata": {
        "id": "qimSfBdNrtCf"
      }
    },
    {
      "cell_type": "code",
      "source": [
        "embarked_mapping = {'S':0, 'C':1, 'Q':2}\n",
        "for dataset in train_test_data:\n",
        "    dataset['Embarked'] = dataset['Embarked'].map(embarked_mapping)"
      ],
      "metadata": {
        "id": "1qXVQkpprtCf"
      },
      "execution_count": 39,
      "outputs": []
    },
    {
      "cell_type": "markdown",
      "source": [
        "* test set 결측치 추가"
      ],
      "metadata": {
        "id": "x92iQbNNxxYh"
      }
    },
    {
      "cell_type": "code",
      "source": [
        "for dataset in train_test_data:\n",
        "    dataset[\"Fare\"].fillna(dataset.groupby(\"Pclass\")[\"Fare\"].transform(\"median\"), inplace=True)"
      ],
      "metadata": {
        "id": "vWGEQqpax1bK"
      },
      "execution_count": 40,
      "outputs": []
    },
    {
      "cell_type": "markdown",
      "source": [
        "# 모델 학습"
      ],
      "metadata": {
        "id": "B8tcSuB_Xf1Y"
      }
    },
    {
      "cell_type": "markdown",
      "source": [
        "* PassengerId는 승객들 연번에 불과 하므로 학습시키지 않는다.\n",
        "* Initial, Ticket, Name도 학습시키지 않는다."
      ],
      "metadata": {
        "id": "yV9lWz5kbg9g"
      }
    },
    {
      "cell_type": "code",
      "source": [
        "train_df.drop(columns = 'PassengerId', inplace = True)\n",
        "train_df.drop(columns = 'Initial', inplace = True)\n",
        "train_df.drop(columns = 'Ticket', inplace = True)\n",
        "train_df.drop(columns = 'Name', inplace = True)\n",
        "\n",
        "testPass = test_df['PassengerId']\n",
        "test_df.drop(columns = 'PassengerId', inplace = True)\n",
        "test_df.drop(columns = 'Initial', inplace = True)\n",
        "test_df.drop(columns = 'Ticket', inplace = True)\n",
        "test_df.drop(columns = 'Name', inplace = True)"
      ],
      "metadata": {
        "id": "a1J0h6DFaAUN"
      },
      "execution_count": 41,
      "outputs": []
    },
    {
      "cell_type": "code",
      "source": [
        "train_df.info()"
      ],
      "metadata": {
        "id": "ZhlyotV0anIl",
        "outputId": "357073e3-d13a-44d9-d3d4-e18eccf3241e",
        "colab": {
          "base_uri": "https://localhost:8080/"
        }
      },
      "execution_count": 42,
      "outputs": [
        {
          "output_type": "stream",
          "name": "stdout",
          "text": [
            "<class 'pandas.core.frame.DataFrame'>\n",
            "RangeIndex: 891 entries, 0 to 890\n",
            "Data columns (total 8 columns):\n",
            " #   Column    Non-Null Count  Dtype  \n",
            "---  ------    --------------  -----  \n",
            " 0   Survived  891 non-null    int64  \n",
            " 1   Pclass    891 non-null    int64  \n",
            " 2   Sex       891 non-null    int64  \n",
            " 3   Age       891 non-null    float64\n",
            " 4   SibSp     891 non-null    int64  \n",
            " 5   Parch     891 non-null    int64  \n",
            " 6   Fare      891 non-null    float64\n",
            " 7   Embarked  891 non-null    int64  \n",
            "dtypes: float64(2), int64(6)\n",
            "memory usage: 55.8 KB\n"
          ]
        }
      ]
    },
    {
      "cell_type": "markdown",
      "source": [
        "* 우선 train set에서 label 분리 \n"
      ],
      "metadata": {
        "id": "DEAQtJtVZc6q"
      }
    },
    {
      "cell_type": "code",
      "source": [
        "train = train_df.drop(columns = 'Survived')\n",
        "y = train_df['Survived']"
      ],
      "metadata": {
        "id": "NXZ8OxybqXDm"
      },
      "execution_count": 43,
      "outputs": []
    },
    {
      "cell_type": "markdown",
      "source": [
        "* 스케일 조정"
      ],
      "metadata": {
        "id": "MRCGNiVRssRm"
      }
    },
    {
      "cell_type": "code",
      "source": [
        "from sklearn.preprocessing import StandardScaler\n",
        "\n",
        "scaler = StandardScaler()\n",
        "\n",
        "train_scaled = scaler.fit_transform(train)\n",
        "test_scaled = scaler.transform(test_df)"
      ],
      "metadata": {
        "id": "um6O7UlksvJJ"
      },
      "execution_count": 44,
      "outputs": []
    },
    {
      "cell_type": "markdown",
      "source": [
        "## SGDClassifier"
      ],
      "metadata": {
        "id": "uAtekNzpzCz3"
      }
    },
    {
      "cell_type": "code",
      "source": [
        "from sklearn.linear_model import SGDClassifier\n",
        "\n",
        "sgd_clf = SGDClassifier(random_state = 42)\n",
        "sgd_clf.fit(train_scaled,y)"
      ],
      "metadata": {
        "id": "j7h_zMb5XlTT",
        "outputId": "6f7176ed-607a-4a19-8ac8-2c2d1c624dff",
        "colab": {
          "base_uri": "https://localhost:8080/"
        }
      },
      "execution_count": 45,
      "outputs": [
        {
          "output_type": "execute_result",
          "data": {
            "text/plain": [
              "SGDClassifier(random_state=42)"
            ]
          },
          "metadata": {},
          "execution_count": 45
        }
      ]
    },
    {
      "cell_type": "markdown",
      "source": [
        "* 성능 측정"
      ],
      "metadata": {
        "id": "dCE8RfPMct8F"
      }
    },
    {
      "cell_type": "code",
      "source": [
        "sgd_clf.score(train_scaled, y)"
      ],
      "metadata": {
        "id": "6_6NeTGEupbm",
        "outputId": "b5f43869-3541-4f06-b7b3-41762e41eea5",
        "colab": {
          "base_uri": "https://localhost:8080/"
        }
      },
      "execution_count": 46,
      "outputs": [
        {
          "output_type": "execute_result",
          "data": {
            "text/plain": [
              "0.8013468013468014"
            ]
          },
          "metadata": {},
          "execution_count": 46
        }
      ]
    },
    {
      "cell_type": "markdown",
      "source": [
        "## LinearSVC"
      ],
      "metadata": {
        "id": "Rt3XySUZzInB"
      }
    },
    {
      "cell_type": "code",
      "source": [
        "from sklearn.svm import LinearSVC\n",
        "\n",
        "lin_svc = LinearSVC(random_state = 42)\n",
        "lin_svc.fit(train_scaled,y)"
      ],
      "metadata": {
        "colab": {
          "base_uri": "https://localhost:8080/"
        },
        "id": "dIAnlfy8pZz9",
        "outputId": "650ae00e-8493-434e-a992-245bc8e27079"
      },
      "execution_count": 47,
      "outputs": [
        {
          "output_type": "execute_result",
          "data": {
            "text/plain": [
              "LinearSVC(random_state=42)"
            ]
          },
          "metadata": {},
          "execution_count": 47
        }
      ]
    },
    {
      "cell_type": "markdown",
      "source": [
        "* 성능 측정"
      ],
      "metadata": {
        "id": "ZgwAKSqAqKin"
      }
    },
    {
      "cell_type": "code",
      "source": [
        "lin_svc.score(train_scaled, y)"
      ],
      "metadata": {
        "outputId": "804e8a7c-1516-4bc9-f557-e9190a13fc12",
        "colab": {
          "base_uri": "https://localhost:8080/"
        },
        "id": "HQ1dOqsTqKiq"
      },
      "execution_count": 48,
      "outputs": [
        {
          "output_type": "execute_result",
          "data": {
            "text/plain": [
              "0.8002244668911336"
            ]
          },
          "metadata": {},
          "execution_count": 48
        }
      ]
    },
    {
      "cell_type": "code",
      "source": [
        "from sklearn.metrics import roc_auc_score\n",
        "\n",
        "pred = lin_svc.predict(train_scaled)\n",
        "roc_score = roc_auc_score(y, pred)\n",
        "print(roc_score)"
      ],
      "metadata": {
        "colab": {
          "base_uri": "https://localhost:8080/"
        },
        "id": "jJYL56odx52c",
        "outputId": "243666c8-b9e3-4a9b-ffde-f46660efb3ab"
      },
      "execution_count": 59,
      "outputs": [
        {
          "output_type": "stream",
          "name": "stdout",
          "text": [
            "0.7789042277825711\n"
          ]
        }
      ]
    },
    {
      "cell_type": "markdown",
      "source": [
        "## SVC"
      ],
      "metadata": {
        "id": "nLq8T_mXzNow"
      }
    },
    {
      "cell_type": "code",
      "source": [
        "from sklearn.svm import SVC\n",
        "\n",
        "svc = SVC(random_state = 42)\n",
        "svc.fit(train_scaled,y)"
      ],
      "metadata": {
        "outputId": "e7daeb6c-1854-4e48-c221-08404118aa07",
        "colab": {
          "base_uri": "https://localhost:8080/"
        },
        "id": "-1uBSsqPvCkZ"
      },
      "execution_count": 50,
      "outputs": [
        {
          "output_type": "execute_result",
          "data": {
            "text/plain": [
              "SVC(random_state=42)"
            ]
          },
          "metadata": {},
          "execution_count": 50
        }
      ]
    },
    {
      "cell_type": "markdown",
      "source": [
        "* 성능 측정"
      ],
      "metadata": {
        "id": "4I7_uZYTvCkZ"
      }
    },
    {
      "cell_type": "code",
      "source": [
        "svc.score(train_scaled, y)"
      ],
      "metadata": {
        "outputId": "7ea03ea4-b789-4eb1-9efa-50e478c8f7f1",
        "colab": {
          "base_uri": "https://localhost:8080/"
        },
        "id": "E7UW1jmMvCka"
      },
      "execution_count": 51,
      "outputs": [
        {
          "output_type": "execute_result",
          "data": {
            "text/plain": [
              "0.8473625140291807"
            ]
          },
          "metadata": {},
          "execution_count": 51
        }
      ]
    },
    {
      "cell_type": "code",
      "source": [
        "from sklearn.metrics import roc_auc_score\n",
        "\n",
        "pred = svc.predict(train_scaled)\n",
        "roc_score = roc_auc_score(y, pred)\n",
        "print(roc_score)"
      ],
      "metadata": {
        "colab": {
          "base_uri": "https://localhost:8080/"
        },
        "id": "YU0jPJMHygZq",
        "outputId": "4c48db57-451f-4a6f-be45-b8729a8136b0"
      },
      "execution_count": 60,
      "outputs": [
        {
          "output_type": "stream",
          "name": "stdout",
          "text": [
            "0.8149506279359602\n"
          ]
        }
      ]
    },
    {
      "cell_type": "markdown",
      "source": [
        "* SVC가 가장 높다.\n",
        "> * SVC의 가장 좋은 parameter을 찾아보자"
      ],
      "metadata": {
        "id": "hIdNCs2IvOFZ"
      }
    },
    {
      "cell_type": "code",
      "source": [
        "from sklearn.model_selection import RandomizedSearchCV\n",
        "from scipy.stats import reciprocal, uniform\n",
        "\n",
        "param_distributions = { \"gamma\": reciprocal(0.001, 0.1), \"C\": uniform(1, 10)}\n",
        "rnd_search_cv = RandomizedSearchCV(svc, param_distributions, n_iter=100, verbose=2, cv=3)\n",
        "rnd_search_cv.fit(train_scaled, y)"
      ],
      "metadata": {
        "id": "eXnThFXIvjJW",
        "outputId": "ddcaf05e-b17f-487a-f386-b4f8916b86fd",
        "colab": {
          "base_uri": "https://localhost:8080/"
        }
      },
      "execution_count": 52,
      "outputs": [
        {
          "output_type": "stream",
          "name": "stdout",
          "text": [
            "Fitting 3 folds for each of 100 candidates, totalling 300 fits\n",
            "[CV] END .....C=7.169415923918608, gamma=0.01963745615907579; total time=   0.0s\n",
            "[CV] END .....C=7.169415923918608, gamma=0.01963745615907579; total time=   0.0s\n",
            "[CV] END .....C=7.169415923918608, gamma=0.01963745615907579; total time=   0.0s\n",
            "[CV] END ....C=5.735739851377025, gamma=0.004751754126621946; total time=   0.0s\n",
            "[CV] END ....C=5.735739851377025, gamma=0.004751754126621946; total time=   0.0s\n",
            "[CV] END ....C=5.735739851377025, gamma=0.004751754126621946; total time=   0.0s\n",
            "[CV] END ....C=9.004575285654562, gamma=0.001997053123078677; total time=   0.0s\n",
            "[CV] END ....C=9.004575285654562, gamma=0.001997053123078677; total time=   0.0s\n",
            "[CV] END ....C=9.004575285654562, gamma=0.001997053123078677; total time=   0.0s\n",
            "[CV] END .....C=1.1294611901493226, gamma=0.0775971832280443; total time=   0.0s\n",
            "[CV] END .....C=1.1294611901493226, gamma=0.0775971832280443; total time=   0.0s\n",
            "[CV] END .....C=1.1294611901493226, gamma=0.0775971832280443; total time=   0.0s\n",
            "[CV] END .....C=8.053784600813335, gamma=0.03837627607349057; total time=   0.0s\n",
            "[CV] END .....C=8.053784600813335, gamma=0.03837627607349057; total time=   0.0s\n",
            "[CV] END .....C=8.053784600813335, gamma=0.03837627607349057; total time=   0.0s\n",
            "[CV] END ....C=1.6823657096535818, gamma=0.05186369226898404; total time=   0.0s\n",
            "[CV] END ....C=1.6823657096535818, gamma=0.05186369226898404; total time=   0.0s\n",
            "[CV] END ....C=1.6823657096535818, gamma=0.05186369226898404; total time=   0.0s\n",
            "[CV] END ....C=6.907026582514856, gamma=0.002248712565549276; total time=   0.0s\n",
            "[CV] END ....C=6.907026582514856, gamma=0.002248712565549276; total time=   0.0s\n",
            "[CV] END ....C=6.907026582514856, gamma=0.002248712565549276; total time=   0.0s\n",
            "[CV] END ...C=5.964658916521877, gamma=0.0011513814504590532; total time=   0.0s\n",
            "[CV] END ...C=5.964658916521877, gamma=0.0011513814504590532; total time=   0.0s\n",
            "[CV] END ...C=5.964658916521877, gamma=0.0011513814504590532; total time=   0.0s\n",
            "[CV] END .....C=2.375611167992309, gamma=0.03845228273724527; total time=   0.0s\n",
            "[CV] END .....C=2.375611167992309, gamma=0.03845228273724527; total time=   0.0s\n",
            "[CV] END .....C=2.375611167992309, gamma=0.03845228273724527; total time=   0.0s\n",
            "[CV] END ...C=1.0257468599454236, gamma=0.013510779673664562; total time=   0.0s\n",
            "[CV] END ...C=1.0257468599454236, gamma=0.013510779673664562; total time=   0.0s\n",
            "[CV] END ...C=1.0257468599454236, gamma=0.013510779673664562; total time=   0.0s\n",
            "[CV] END ...C=1.5162858858619424, gamma=0.004857478798654185; total time=   0.0s\n",
            "[CV] END ...C=1.5162858858619424, gamma=0.004857478798654185; total time=   0.0s\n",
            "[CV] END ...C=1.5162858858619424, gamma=0.004857478798654185; total time=   0.0s\n",
            "[CV] END .....C=7.913026724378351, gamma=0.01630889326483986; total time=   0.0s\n",
            "[CV] END .....C=7.913026724378351, gamma=0.01630889326483986; total time=   0.0s\n",
            "[CV] END .....C=7.913026724378351, gamma=0.01630889326483986; total time=   0.0s\n",
            "[CV] END .....C=8.650630264578075, gamma=0.09028861612743035; total time=   0.0s\n",
            "[CV] END .....C=8.650630264578075, gamma=0.09028861612743035; total time=   0.0s\n",
            "[CV] END .....C=8.650630264578075, gamma=0.09028861612743035; total time=   0.0s\n",
            "[CV] END ...C=1.4730528872855644, gamma=0.004235783467133077; total time=   0.0s\n",
            "[CV] END ...C=1.4730528872855644, gamma=0.004235783467133077; total time=   0.0s\n",
            "[CV] END ...C=1.4730528872855644, gamma=0.004235783467133077; total time=   0.0s\n",
            "[CV] END ....C=3.080420178100101, gamma=0.013321741989370259; total time=   0.0s\n",
            "[CV] END ....C=3.080420178100101, gamma=0.013321741989370259; total time=   0.0s\n",
            "[CV] END ....C=3.080420178100101, gamma=0.013321741989370259; total time=   0.0s\n",
            "[CV] END ....C=10.853261299460796, gamma=0.08747450894828927; total time=   0.0s\n",
            "[CV] END ....C=10.853261299460796, gamma=0.08747450894828927; total time=   0.0s\n",
            "[CV] END ....C=10.853261299460796, gamma=0.08747450894828927; total time=   0.0s\n",
            "[CV] END ...C=7.460155194863541, gamma=0.0015195735270797858; total time=   0.0s\n",
            "[CV] END ...C=7.460155194863541, gamma=0.0015195735270797858; total time=   0.0s\n",
            "[CV] END ...C=7.460155194863541, gamma=0.0015195735270797858; total time=   0.0s\n",
            "[CV] END ...C=10.812460062932816, gamma=0.006503146878167736; total time=   0.0s\n",
            "[CV] END ...C=10.812460062932816, gamma=0.006503146878167736; total time=   0.0s\n",
            "[CV] END ...C=10.812460062932816, gamma=0.006503146878167736; total time=   0.0s\n",
            "[CV] END ...C=8.870059998705045, gamma=0.0027991380864003683; total time=   0.0s\n",
            "[CV] END ...C=8.870059998705045, gamma=0.0027991380864003683; total time=   0.0s\n",
            "[CV] END ...C=8.870059998705045, gamma=0.0027991380864003683; total time=   0.0s\n",
            "[CV] END ..C=1.4951896622741891, gamma=0.0016138318065290083; total time=   0.0s\n",
            "[CV] END ..C=1.4951896622741891, gamma=0.0016138318065290083; total time=   0.0s\n",
            "[CV] END ..C=1.4951896622741891, gamma=0.0016138318065290083; total time=   0.0s\n",
            "[CV] END ....C=10.01353353633002, gamma=0.009551962818135862; total time=   0.0s\n",
            "[CV] END ....C=10.01353353633002, gamma=0.009551962818135862; total time=   0.0s\n",
            "[CV] END ....C=10.01353353633002, gamma=0.009551962818135862; total time=   0.0s\n",
            "[CV] END ...C=3.1797942479090393, gamma=0.007155611652929672; total time=   0.0s\n",
            "[CV] END ...C=3.1797942479090393, gamma=0.007155611652929672; total time=   0.0s\n",
            "[CV] END ...C=3.1797942479090393, gamma=0.007155611652929672; total time=   0.0s\n",
            "[CV] END .....C=3.454230579401316, gamma=0.06016800235056492; total time=   0.0s\n",
            "[CV] END .....C=3.454230579401316, gamma=0.06016800235056492; total time=   0.0s\n",
            "[CV] END .....C=3.454230579401316, gamma=0.06016800235056492; total time=   0.0s\n",
            "[CV] END .....C=3.869731098753572, gamma=0.07849940729950994; total time=   0.0s\n",
            "[CV] END .....C=3.869731098753572, gamma=0.07849940729950994; total time=   0.0s\n",
            "[CV] END .....C=3.869731098753572, gamma=0.07849940729950994; total time=   0.0s\n",
            "[CV] END ....C=2.143828347117921, gamma=0.015059037463522627; total time=   0.0s\n",
            "[CV] END ....C=2.143828347117921, gamma=0.015059037463522627; total time=   0.0s\n",
            "[CV] END ....C=2.143828347117921, gamma=0.015059037463522627; total time=   0.0s\n",
            "[CV] END ....C=1.734011222813541, gamma=0.010200434878288185; total time=   0.0s\n",
            "[CV] END ....C=1.734011222813541, gamma=0.010200434878288185; total time=   0.0s\n",
            "[CV] END ....C=1.734011222813541, gamma=0.010200434878288185; total time=   0.0s\n",
            "[CV] END .....C=6.440173778916963, gamma=0.04444385046015851; total time=   0.0s\n",
            "[CV] END .....C=6.440173778916963, gamma=0.04444385046015851; total time=   0.0s\n",
            "[CV] END .....C=6.440173778916963, gamma=0.04444385046015851; total time=   0.0s\n",
            "[CV] END ..C=1.7947624377243956, gamma=0.0024883828043066013; total time=   0.0s\n",
            "[CV] END ..C=1.7947624377243956, gamma=0.0024883828043066013; total time=   0.0s\n",
            "[CV] END ..C=1.7947624377243956, gamma=0.0024883828043066013; total time=   0.0s\n",
            "[CV] END .....C=9.418979547870991, gamma=0.01787634773520227; total time=   0.0s\n",
            "[CV] END .....C=9.418979547870991, gamma=0.01787634773520227; total time=   0.0s\n",
            "[CV] END .....C=9.418979547870991, gamma=0.01787634773520227; total time=   0.0s\n",
            "[CV] END ....C=6.254131833489007, gamma=0.015891482418825337; total time=   0.0s\n",
            "[CV] END ....C=6.254131833489007, gamma=0.015891482418825337; total time=   0.0s\n",
            "[CV] END ....C=6.254131833489007, gamma=0.015891482418825337; total time=   0.0s\n",
            "[CV] END ...C=7.375440027730245, gamma=0.0023855337972616703; total time=   0.0s\n",
            "[CV] END ...C=7.375440027730245, gamma=0.0023855337972616703; total time=   0.0s\n",
            "[CV] END ...C=7.375440027730245, gamma=0.0023855337972616703; total time=   0.0s\n",
            "[CV] END ...C=4.9759036503728575, gamma=0.002614495107478073; total time=   0.0s\n",
            "[CV] END ...C=4.9759036503728575, gamma=0.002614495107478073; total time=   0.0s\n",
            "[CV] END ...C=4.9759036503728575, gamma=0.002614495107478073; total time=   0.0s\n",
            "[CV] END ....C=10.376907847001567, gamma=0.07261167775425652; total time=   0.0s\n",
            "[CV] END ....C=10.376907847001567, gamma=0.07261167775425652; total time=   0.0s\n",
            "[CV] END ....C=10.376907847001567, gamma=0.07261167775425652; total time=   0.0s\n",
            "[CV] END .....C=8.109371647526904, gamma=0.00566559255382076; total time=   0.0s\n",
            "[CV] END .....C=8.109371647526904, gamma=0.00566559255382076; total time=   0.0s\n",
            "[CV] END .....C=8.109371647526904, gamma=0.00566559255382076; total time=   0.0s\n",
            "[CV] END ..C=2.8545349474839723, gamma=0.0011439060686883379; total time=   0.0s\n",
            "[CV] END ..C=2.8545349474839723, gamma=0.0011439060686883379; total time=   0.0s\n",
            "[CV] END ..C=2.8545349474839723, gamma=0.0011439060686883379; total time=   0.0s\n",
            "[CV] END ....C=10.839701084226286, gamma=0.06373193381104976; total time=   0.0s\n",
            "[CV] END ....C=10.839701084226286, gamma=0.06373193381104976; total time=   0.0s\n",
            "[CV] END ....C=10.839701084226286, gamma=0.06373193381104976; total time=   0.0s\n",
            "[CV] END ....C=4.790084522674335, gamma=0.006738617510233462; total time=   0.0s\n",
            "[CV] END ....C=4.790084522674335, gamma=0.006738617510233462; total time=   0.0s\n",
            "[CV] END ....C=4.790084522674335, gamma=0.006738617510233462; total time=   0.0s\n",
            "[CV] END ...C=5.702751203327264, gamma=0.0011825208244905158; total time=   0.0s\n",
            "[CV] END ...C=5.702751203327264, gamma=0.0011825208244905158; total time=   0.0s\n",
            "[CV] END ...C=5.702751203327264, gamma=0.0011825208244905158; total time=   0.0s\n",
            "[CV] END ..C=1.8295500871693917, gamma=0.0034411775731363714; total time=   0.0s\n",
            "[CV] END ..C=1.8295500871693917, gamma=0.0034411775731363714; total time=   0.0s\n",
            "[CV] END ..C=1.8295500871693917, gamma=0.0034411775731363714; total time=   0.0s\n",
            "[CV] END .....C=2.7794711533689886, gamma=0.0876056832681932; total time=   0.0s\n",
            "[CV] END .....C=2.7794711533689886, gamma=0.0876056832681932; total time=   0.0s\n",
            "[CV] END .....C=2.7794711533689886, gamma=0.0876056832681932; total time=   0.0s\n",
            "[CV] END ....C=6.544524190449419, gamma=0.001827682264823292; total time=   0.0s\n",
            "[CV] END ....C=6.544524190449419, gamma=0.001827682264823292; total time=   0.0s\n",
            "[CV] END ....C=6.544524190449419, gamma=0.001827682264823292; total time=   0.0s\n",
            "[CV] END ...C=3.1856923924973257, gamma=0.007373080720412523; total time=   0.0s\n",
            "[CV] END ...C=3.1856923924973257, gamma=0.007373080720412523; total time=   0.0s\n",
            "[CV] END ...C=3.1856923924973257, gamma=0.007373080720412523; total time=   0.0s\n",
            "[CV] END ..C=7.3079217602001645, gamma=0.0018509168235345298; total time=   0.0s\n",
            "[CV] END ..C=7.3079217602001645, gamma=0.0018509168235345298; total time=   0.0s\n",
            "[CV] END ..C=7.3079217602001645, gamma=0.0018509168235345298; total time=   0.0s\n",
            "[CV] END ...C=5.134127784891023, gamma=0.0013766825596171239; total time=   0.0s\n",
            "[CV] END ...C=5.134127784891023, gamma=0.0013766825596171239; total time=   0.0s\n",
            "[CV] END ...C=5.134127784891023, gamma=0.0013766825596171239; total time=   0.0s\n",
            "[CV] END .....C=7.071640518888469, gamma=0.03617903089890883; total time=   0.0s\n",
            "[CV] END .....C=7.071640518888469, gamma=0.03617903089890883; total time=   0.0s\n",
            "[CV] END .....C=7.071640518888469, gamma=0.03617903089890883; total time=   0.0s\n",
            "[CV] END ....C=3.657700967051041, gamma=0.007851812223607485; total time=   0.0s\n",
            "[CV] END ....C=3.657700967051041, gamma=0.007851812223607485; total time=   0.0s\n",
            "[CV] END ....C=3.657700967051041, gamma=0.007851812223607485; total time=   0.0s\n",
            "[CV] END .....C=2.604988898750541, gamma=0.00759503135557501; total time=   0.0s\n",
            "[CV] END .....C=2.604988898750541, gamma=0.00759503135557501; total time=   0.0s\n",
            "[CV] END .....C=2.604988898750541, gamma=0.00759503135557501; total time=   0.0s\n",
            "[CV] END .....C=7.677270684653298, gamma=0.02593146639211463; total time=   0.0s\n",
            "[CV] END .....C=7.677270684653298, gamma=0.02593146639211463; total time=   0.0s\n",
            "[CV] END .....C=7.677270684653298, gamma=0.02593146639211463; total time=   0.0s\n",
            "[CV] END ...C=3.2190299054082363, gamma=0.009834129804411331; total time=   0.0s\n",
            "[CV] END ...C=3.2190299054082363, gamma=0.009834129804411331; total time=   0.0s\n",
            "[CV] END ...C=3.2190299054082363, gamma=0.009834129804411331; total time=   0.0s\n",
            "[CV] END ..C=7.4609377657899785, gamma=0.0019239628730951858; total time=   0.0s\n",
            "[CV] END ..C=7.4609377657899785, gamma=0.0019239628730951858; total time=   0.0s\n",
            "[CV] END ..C=7.4609377657899785, gamma=0.0019239628730951858; total time=   0.0s\n",
            "[CV] END ....C=9.937703238085131, gamma=0.024249040454172213; total time=   0.0s\n",
            "[CV] END ....C=9.937703238085131, gamma=0.024249040454172213; total time=   0.0s\n",
            "[CV] END ....C=9.937703238085131, gamma=0.024249040454172213; total time=   0.0s\n",
            "[CV] END ....C=5.079754133345432, gamma=0.009813865196731308; total time=   0.0s\n",
            "[CV] END ....C=5.079754133345432, gamma=0.009813865196731308; total time=   0.0s\n",
            "[CV] END ....C=5.079754133345432, gamma=0.009813865196731308; total time=   0.0s\n",
            "[CV] END ...C=2.585845575934238, gamma=0.0023568719701740847; total time=   0.0s\n",
            "[CV] END ...C=2.585845575934238, gamma=0.0023568719701740847; total time=   0.0s\n",
            "[CV] END ...C=2.585845575934238, gamma=0.0023568719701740847; total time=   0.0s\n",
            "[CV] END ...C=8.717032600598152, gamma=0.0022379803814597714; total time=   0.0s\n",
            "[CV] END ...C=8.717032600598152, gamma=0.0022379803814597714; total time=   0.0s\n",
            "[CV] END ...C=8.717032600598152, gamma=0.0022379803814597714; total time=   0.0s\n",
            "[CV] END ....C=9.133499453586046, gamma=0.006572356354349297; total time=   0.0s\n",
            "[CV] END ....C=9.133499453586046, gamma=0.006572356354349297; total time=   0.0s\n",
            "[CV] END ....C=9.133499453586046, gamma=0.006572356354349297; total time=   0.0s\n",
            "[CV] END ......C=3.71807550942348, gamma=0.09924815140687851; total time=   0.0s\n",
            "[CV] END ......C=3.71807550942348, gamma=0.09924815140687851; total time=   0.0s\n",
            "[CV] END ......C=3.71807550942348, gamma=0.09924815140687851; total time=   0.0s\n",
            "[CV] END ....C=9.906982333920588, gamma=0.004564748728156008; total time=   0.0s\n",
            "[CV] END ....C=9.906982333920588, gamma=0.004564748728156008; total time=   0.0s\n",
            "[CV] END ....C=9.906982333920588, gamma=0.004564748728156008; total time=   0.0s\n",
            "[CV] END ....C=4.456469971177073, gamma=0.013527438677498305; total time=   0.0s\n",
            "[CV] END ....C=4.456469971177073, gamma=0.013527438677498305; total time=   0.0s\n",
            "[CV] END ....C=4.456469971177073, gamma=0.013527438677498305; total time=   0.0s\n",
            "[CV] END .....C=4.21622685764369, gamma=0.036466556925820154; total time=   0.0s\n",
            "[CV] END .....C=4.21622685764369, gamma=0.036466556925820154; total time=   0.0s\n",
            "[CV] END .....C=4.21622685764369, gamma=0.036466556925820154; total time=   0.0s\n",
            "[CV] END .....C=5.701950256276154, gamma=0.00649499551357897; total time=   0.0s\n",
            "[CV] END .....C=5.701950256276154, gamma=0.00649499551357897; total time=   0.0s\n",
            "[CV] END .....C=5.701950256276154, gamma=0.00649499551357897; total time=   0.0s\n",
            "[CV] END ....C=4.797276692907121, gamma=0.020741037889887938; total time=   0.0s\n",
            "[CV] END ....C=4.797276692907121, gamma=0.020741037889887938; total time=   0.0s\n",
            "[CV] END ....C=4.797276692907121, gamma=0.020741037889887938; total time=   0.0s\n",
            "[CV] END .....C=6.950814764529411, gamma=0.01133861497956317; total time=   0.0s\n",
            "[CV] END .....C=6.950814764529411, gamma=0.01133861497956317; total time=   0.0s\n",
            "[CV] END .....C=6.950814764529411, gamma=0.01133861497956317; total time=   0.0s\n",
            "[CV] END .....C=6.59524227482375, gamma=0.010927773506383262; total time=   0.0s\n",
            "[CV] END .....C=6.59524227482375, gamma=0.010927773506383262; total time=   0.0s\n",
            "[CV] END .....C=6.59524227482375, gamma=0.010927773506383262; total time=   0.0s\n",
            "[CV] END .....C=2.218350518472091, gamma=0.00896642131928228; total time=   0.0s\n",
            "[CV] END .....C=2.218350518472091, gamma=0.00896642131928228; total time=   0.0s\n",
            "[CV] END .....C=2.218350518472091, gamma=0.00896642131928228; total time=   0.0s\n",
            "[CV] END .....C=7.998429089338525, gamma=0.09492948965530532; total time=   0.0s\n",
            "[CV] END .....C=7.998429089338525, gamma=0.09492948965530532; total time=   0.0s\n",
            "[CV] END .....C=7.998429089338525, gamma=0.09492948965530532; total time=   0.0s\n",
            "[CV] END .....C=6.559499689376209, gamma=0.03973592850124246; total time=   0.0s\n",
            "[CV] END .....C=6.559499689376209, gamma=0.03973592850124246; total time=   0.0s\n",
            "[CV] END .....C=6.559499689376209, gamma=0.03973592850124246; total time=   0.0s\n",
            "[CV] END .....C=6.048564236763742, gamma=0.00536288506492436; total time=   0.0s\n",
            "[CV] END .....C=6.048564236763742, gamma=0.00536288506492436; total time=   0.0s\n",
            "[CV] END .....C=6.048564236763742, gamma=0.00536288506492436; total time=   0.0s\n",
            "[CV] END .....C=9.543922253096873, gamma=0.01809235858479135; total time=   0.0s\n",
            "[CV] END .....C=9.543922253096873, gamma=0.01809235858479135; total time=   0.0s\n",
            "[CV] END .....C=9.543922253096873, gamma=0.01809235858479135; total time=   0.0s\n",
            "[CV] END ...C=6.184513682246823, gamma=0.0020375259186077178; total time=   0.0s\n",
            "[CV] END ...C=6.184513682246823, gamma=0.0020375259186077178; total time=   0.0s\n",
            "[CV] END ...C=6.184513682246823, gamma=0.0020375259186077178; total time=   0.0s\n",
            "[CV] END ...C=2.6518395728600845, gamma=0.017717867403413013; total time=   0.0s\n",
            "[CV] END ...C=2.6518395728600845, gamma=0.017717867403413013; total time=   0.0s\n",
            "[CV] END ...C=2.6518395728600845, gamma=0.017717867403413013; total time=   0.0s\n",
            "[CV] END .......C=2.877428082419578, gamma=0.097342762476534; total time=   0.0s\n",
            "[CV] END .......C=2.877428082419578, gamma=0.097342762476534; total time=   0.0s\n",
            "[CV] END .......C=2.877428082419578, gamma=0.097342762476534; total time=   0.0s\n",
            "[CV] END ...C=8.110651733778226, gamma=0.0018232032640613355; total time=   0.0s\n",
            "[CV] END ...C=8.110651733778226, gamma=0.0018232032640613355; total time=   0.0s\n",
            "[CV] END ...C=8.110651733778226, gamma=0.0018232032640613355; total time=   0.0s\n",
            "[CV] END ....C=2.366047022935394, gamma=0.039762790009936815; total time=   0.0s\n",
            "[CV] END ....C=2.366047022935394, gamma=0.039762790009936815; total time=   0.0s\n",
            "[CV] END ....C=2.366047022935394, gamma=0.039762790009936815; total time=   0.0s\n",
            "[CV] END .....C=6.271771823068114, gamma=0.00512706045679055; total time=   0.0s\n",
            "[CV] END .....C=6.271771823068114, gamma=0.00512706045679055; total time=   0.0s\n",
            "[CV] END .....C=6.271771823068114, gamma=0.00512706045679055; total time=   0.0s\n",
            "[CV] END ...C=8.070320761156578, gamma=0.0017789402033653592; total time=   0.0s\n",
            "[CV] END ...C=8.070320761156578, gamma=0.0017789402033653592; total time=   0.0s\n",
            "[CV] END ...C=8.070320761156578, gamma=0.0017789402033653592; total time=   0.0s\n",
            "[CV] END ....C=3.812669609574332, gamma=0.006561756738273073; total time=   0.0s\n",
            "[CV] END ....C=3.812669609574332, gamma=0.006561756738273073; total time=   0.0s\n",
            "[CV] END ....C=3.812669609574332, gamma=0.006561756738273073; total time=   0.0s\n",
            "[CV] END ....C=6.851124552993952, gamma=0.007674616232409935; total time=   0.0s\n",
            "[CV] END ....C=6.851124552993952, gamma=0.007674616232409935; total time=   0.0s\n",
            "[CV] END ....C=6.851124552993952, gamma=0.007674616232409935; total time=   0.0s\n",
            "[CV] END ....C=4.840905238973107, gamma=0.004985148632849573; total time=   0.0s\n",
            "[CV] END ....C=4.840905238973107, gamma=0.004985148632849573; total time=   0.0s\n",
            "[CV] END ....C=4.840905238973107, gamma=0.004985148632849573; total time=   0.1s\n",
            "[CV] END .....C=7.883574262719915, gamma=0.05466980285513691; total time=   0.0s\n",
            "[CV] END .....C=7.883574262719915, gamma=0.05466980285513691; total time=   0.1s\n",
            "[CV] END .....C=7.883574262719915, gamma=0.05466980285513691; total time=   0.0s\n",
            "[CV] END ....C=8.106283900252224, gamma=0.005234330728428924; total time=   0.1s\n",
            "[CV] END ....C=8.106283900252224, gamma=0.005234330728428924; total time=   0.1s\n",
            "[CV] END ....C=8.106283900252224, gamma=0.005234330728428924; total time=   0.1s\n",
            "[CV] END ....C=10.917745574156033, gamma=0.06648166768656778; total time=   0.0s\n",
            "[CV] END ....C=10.917745574156033, gamma=0.06648166768656778; total time=   0.1s\n",
            "[CV] END ....C=10.917745574156033, gamma=0.06648166768656778; total time=   0.1s\n",
            "[CV] END ..C=1.9742651177426853, gamma=0.0016380812891379137; total time=   0.1s\n",
            "[CV] END ..C=1.9742651177426853, gamma=0.0016380812891379137; total time=   0.0s\n",
            "[CV] END ..C=1.9742651177426853, gamma=0.0016380812891379137; total time=   0.1s\n",
            "[CV] END .....C=4.710907647817969, gamma=0.00503320990450256; total time=   0.0s\n",
            "[CV] END .....C=4.710907647817969, gamma=0.00503320990450256; total time=   0.0s\n",
            "[CV] END .....C=4.710907647817969, gamma=0.00503320990450256; total time=   0.0s\n",
            "[CV] END ..C=4.7645339146423815, gamma=0.0010894289216015355; total time=   0.1s\n",
            "[CV] END ..C=4.7645339146423815, gamma=0.0010894289216015355; total time=   0.0s\n",
            "[CV] END ..C=4.7645339146423815, gamma=0.0010894289216015355; total time=   0.0s\n",
            "[CV] END ...C=3.511256969705723, gamma=0.0013217420716519293; total time=   0.1s\n",
            "[CV] END ...C=3.511256969705723, gamma=0.0013217420716519293; total time=   0.1s\n",
            "[CV] END ...C=3.511256969705723, gamma=0.0013217420716519293; total time=   0.1s\n",
            "[CV] END ......C=10.46456171533228, gamma=0.0697781451809438; total time=   0.0s\n",
            "[CV] END ......C=10.46456171533228, gamma=0.0697781451809438; total time=   0.0s\n",
            "[CV] END ......C=10.46456171533228, gamma=0.0697781451809438; total time=   0.0s\n",
            "[CV] END ....C=8.597767896720363, gamma=0.009046413270249177; total time=   0.0s\n",
            "[CV] END ....C=8.597767896720363, gamma=0.009046413270249177; total time=   0.0s\n",
            "[CV] END ....C=8.597767896720363, gamma=0.009046413270249177; total time=   0.0s\n",
            "[CV] END ....C=6.794121602208747, gamma=0.017342010425222553; total time=   0.1s\n",
            "[CV] END ....C=6.794121602208747, gamma=0.017342010425222553; total time=   0.1s\n",
            "[CV] END ....C=6.794121602208747, gamma=0.017342010425222553; total time=   0.0s\n",
            "[CV] END ....C=3.9624231476453042, gamma=0.08657240403250038; total time=   0.0s\n",
            "[CV] END ....C=3.9624231476453042, gamma=0.08657240403250038; total time=   0.0s\n",
            "[CV] END ....C=3.9624231476453042, gamma=0.08657240403250038; total time=   0.0s\n",
            "[CV] END ....C=3.8208399762386502, gamma=0.02051075046851368; total time=   0.0s\n",
            "[CV] END ....C=3.8208399762386502, gamma=0.02051075046851368; total time=   0.1s\n",
            "[CV] END ....C=3.8208399762386502, gamma=0.02051075046851368; total time=   0.0s\n",
            "[CV] END ....C=2.0750149829259237, gamma=0.01960881953793437; total time=   0.1s\n",
            "[CV] END ....C=2.0750149829259237, gamma=0.01960881953793437; total time=   0.1s\n",
            "[CV] END ....C=2.0750149829259237, gamma=0.01960881953793437; total time=   0.0s\n",
            "[CV] END ...C=4.373111822987842, gamma=0.0011797039841972327; total time=   0.0s\n",
            "[CV] END ...C=4.373111822987842, gamma=0.0011797039841972327; total time=   0.0s\n",
            "[CV] END ...C=4.373111822987842, gamma=0.0011797039841972327; total time=   0.0s\n",
            "[CV] END ....C=7.370632709383566, gamma=0.031632713668719475; total time=   0.1s\n",
            "[CV] END ....C=7.370632709383566, gamma=0.031632713668719475; total time=   0.1s\n",
            "[CV] END ....C=7.370632709383566, gamma=0.031632713668719475; total time=   0.1s\n",
            "[CV] END ....C=1.736614178405861, gamma=0.002809322968966286; total time=   0.0s\n",
            "[CV] END ....C=1.736614178405861, gamma=0.002809322968966286; total time=   0.0s\n",
            "[CV] END ....C=1.736614178405861, gamma=0.002809322968966286; total time=   0.1s\n",
            "[CV] END .....C=6.16072523589904, gamma=0.008891336269562719; total time=   0.0s\n",
            "[CV] END .....C=6.16072523589904, gamma=0.008891336269562719; total time=   0.0s\n",
            "[CV] END .....C=6.16072523589904, gamma=0.008891336269562719; total time=   0.0s\n",
            "[CV] END ...C=9.568429233089889, gamma=0.0012235475286458584; total time=   0.0s\n",
            "[CV] END ...C=9.568429233089889, gamma=0.0012235475286458584; total time=   0.1s\n",
            "[CV] END ...C=9.568429233089889, gamma=0.0012235475286458584; total time=   0.0s\n",
            "[CV] END .....C=8.06571245152999, gamma=0.017053283056052457; total time=   0.0s\n",
            "[CV] END .....C=8.06571245152999, gamma=0.017053283056052457; total time=   0.0s\n",
            "[CV] END .....C=8.06571245152999, gamma=0.017053283056052457; total time=   0.1s\n",
            "[CV] END .....C=4.261007095344991, gamma=0.01575729087770284; total time=   0.0s\n",
            "[CV] END .....C=4.261007095344991, gamma=0.01575729087770284; total time=   0.1s\n",
            "[CV] END .....C=4.261007095344991, gamma=0.01575729087770284; total time=   0.0s\n",
            "[CV] END ...C=1.734564330863321, gamma=0.0018391668259182972; total time=   0.0s\n",
            "[CV] END ...C=1.734564330863321, gamma=0.0018391668259182972; total time=   0.0s\n",
            "[CV] END ...C=1.734564330863321, gamma=0.0018391668259182972; total time=   0.0s\n",
            "[CV] END ...C=10.460939810752159, gamma=0.031031748588648725; total time=   0.1s\n",
            "[CV] END ...C=10.460939810752159, gamma=0.031031748588648725; total time=   0.0s\n",
            "[CV] END ...C=10.460939810752159, gamma=0.031031748588648725; total time=   0.1s\n"
          ]
        },
        {
          "output_type": "execute_result",
          "data": {
            "text/plain": [
              "RandomizedSearchCV(cv=3, estimator=SVC(random_state=42), n_iter=100,\n",
              "                   param_distributions={'C': <scipy.stats._distn_infrastructure.rv_frozen object at 0x7f2a67b7db10>,\n",
              "                                        'gamma': <scipy.stats._distn_infrastructure.rv_frozen object at 0x7f2a67b7d890>},\n",
              "                   verbose=2)"
            ]
          },
          "metadata": {},
          "execution_count": 52
        }
      ]
    },
    {
      "cell_type": "code",
      "source": [
        "rnd_search_cv.best_estimator_"
      ],
      "metadata": {
        "id": "BcDqZ96mwGQ5",
        "outputId": "ab4bc432-9a36-4c82-afe6-1c6ddc5a95e0",
        "colab": {
          "base_uri": "https://localhost:8080/"
        }
      },
      "execution_count": 53,
      "outputs": [
        {
          "output_type": "execute_result",
          "data": {
            "text/plain": [
              "SVC(C=7.370632709383566, gamma=0.031632713668719475, random_state=42)"
            ]
          },
          "metadata": {},
          "execution_count": 53
        }
      ]
    },
    {
      "cell_type": "code",
      "source": [
        "rnd_search_cv.best_estimator_.fit(train_scaled, y)"
      ],
      "metadata": {
        "id": "HRhclm8ewSnS",
        "outputId": "20fb31c0-aaa9-4151-bbb7-535b6961b705",
        "colab": {
          "base_uri": "https://localhost:8080/"
        }
      },
      "execution_count": 54,
      "outputs": [
        {
          "output_type": "execute_result",
          "data": {
            "text/plain": [
              "SVC(C=7.370632709383566, gamma=0.031632713668719475, random_state=42)"
            ]
          },
          "metadata": {},
          "execution_count": 54
        }
      ]
    },
    {
      "cell_type": "code",
      "source": [
        "rnd_search_cv.best_estimator_.score(train_scaled, y)"
      ],
      "metadata": {
        "id": "BMCOLKL7wZzN",
        "outputId": "ce2b9aa6-fe3b-4b6f-9a9f-ee5511ef00ad",
        "colab": {
          "base_uri": "https://localhost:8080/"
        }
      },
      "execution_count": 55,
      "outputs": [
        {
          "output_type": "execute_result",
          "data": {
            "text/plain": [
              "0.8439955106621774"
            ]
          },
          "metadata": {},
          "execution_count": 55
        }
      ]
    },
    {
      "cell_type": "code",
      "source": [
        "from sklearn.metrics import roc_auc_score\n",
        "\n",
        "pred = rnd_search_cv.best_estimator_.predict(train_scaled)\n",
        "roc_score = roc_auc_score(y, pred)\n",
        "print(roc_score)"
      ],
      "metadata": {
        "colab": {
          "base_uri": "https://localhost:8080/"
        },
        "id": "Zg_bKaUsykW7",
        "outputId": "b90a88b7-c1ec-470e-d475-dcf296901e7f"
      },
      "execution_count": 61,
      "outputs": [
        {
          "output_type": "stream",
          "name": "stdout",
          "text": [
            "0.8210382513661203\n"
          ]
        }
      ]
    },
    {
      "cell_type": "markdown",
      "source": [
        "* svc가 가장 높다!"
      ],
      "metadata": {
        "id": "zPRiZwK3w4Ec"
      }
    },
    {
      "cell_type": "markdown",
      "source": [
        "## test set 모델 예측"
      ],
      "metadata": {
        "id": "6loTEqKazUM5"
      }
    },
    {
      "cell_type": "code",
      "source": [
        "y_pred = rnd_search_cv.best_estimator_.predict(test_scaled)"
      ],
      "metadata": {
        "id": "UfLhCAwFw7pp"
      },
      "execution_count": 56,
      "outputs": []
    },
    {
      "cell_type": "markdown",
      "source": [
        "* csv파일 저장"
      ],
      "metadata": {
        "id": "H1CqdKV7za0G"
      }
    },
    {
      "cell_type": "code",
      "source": [
        "submission = pd.DataFrame({\n",
        "    'PassengerId' : testPass,\n",
        "    'Survived' : y_pred})\n",
        "\n",
        "submission.to_csv('submission.csv', index=False)"
      ],
      "metadata": {
        "id": "s1FM19P7yaa2"
      },
      "execution_count": 57,
      "outputs": []
    },
    {
      "cell_type": "code",
      "source": [
        "submission = pd.read_csv(\"submission.csv\")\n",
        "submission.head()"
      ],
      "metadata": {
        "id": "DQWJXOkKzOe1",
        "outputId": "5e204478-e123-4edb-eb20-59aed1c05f99",
        "colab": {
          "base_uri": "https://localhost:8080/",
          "height": 206
        }
      },
      "execution_count": 58,
      "outputs": [
        {
          "output_type": "execute_result",
          "data": {
            "text/plain": [
              "   PassengerId  Survived\n",
              "0          892         0\n",
              "1          893         1\n",
              "2          894         0\n",
              "3          895         0\n",
              "4          896         0"
            ],
            "text/html": [
              "\n",
              "  <div id=\"df-affb22a9-acb7-40d6-8437-9ddf15f0e316\">\n",
              "    <div class=\"colab-df-container\">\n",
              "      <div>\n",
              "<style scoped>\n",
              "    .dataframe tbody tr th:only-of-type {\n",
              "        vertical-align: middle;\n",
              "    }\n",
              "\n",
              "    .dataframe tbody tr th {\n",
              "        vertical-align: top;\n",
              "    }\n",
              "\n",
              "    .dataframe thead th {\n",
              "        text-align: right;\n",
              "    }\n",
              "</style>\n",
              "<table border=\"1\" class=\"dataframe\">\n",
              "  <thead>\n",
              "    <tr style=\"text-align: right;\">\n",
              "      <th></th>\n",
              "      <th>PassengerId</th>\n",
              "      <th>Survived</th>\n",
              "    </tr>\n",
              "  </thead>\n",
              "  <tbody>\n",
              "    <tr>\n",
              "      <th>0</th>\n",
              "      <td>892</td>\n",
              "      <td>0</td>\n",
              "    </tr>\n",
              "    <tr>\n",
              "      <th>1</th>\n",
              "      <td>893</td>\n",
              "      <td>1</td>\n",
              "    </tr>\n",
              "    <tr>\n",
              "      <th>2</th>\n",
              "      <td>894</td>\n",
              "      <td>0</td>\n",
              "    </tr>\n",
              "    <tr>\n",
              "      <th>3</th>\n",
              "      <td>895</td>\n",
              "      <td>0</td>\n",
              "    </tr>\n",
              "    <tr>\n",
              "      <th>4</th>\n",
              "      <td>896</td>\n",
              "      <td>0</td>\n",
              "    </tr>\n",
              "  </tbody>\n",
              "</table>\n",
              "</div>\n",
              "      <button class=\"colab-df-convert\" onclick=\"convertToInteractive('df-affb22a9-acb7-40d6-8437-9ddf15f0e316')\"\n",
              "              title=\"Convert this dataframe to an interactive table.\"\n",
              "              style=\"display:none;\">\n",
              "        \n",
              "  <svg xmlns=\"http://www.w3.org/2000/svg\" height=\"24px\"viewBox=\"0 0 24 24\"\n",
              "       width=\"24px\">\n",
              "    <path d=\"M0 0h24v24H0V0z\" fill=\"none\"/>\n",
              "    <path d=\"M18.56 5.44l.94 2.06.94-2.06 2.06-.94-2.06-.94-.94-2.06-.94 2.06-2.06.94zm-11 1L8.5 8.5l.94-2.06 2.06-.94-2.06-.94L8.5 2.5l-.94 2.06-2.06.94zm10 10l.94 2.06.94-2.06 2.06-.94-2.06-.94-.94-2.06-.94 2.06-2.06.94z\"/><path d=\"M17.41 7.96l-1.37-1.37c-.4-.4-.92-.59-1.43-.59-.52 0-1.04.2-1.43.59L10.3 9.45l-7.72 7.72c-.78.78-.78 2.05 0 2.83L4 21.41c.39.39.9.59 1.41.59.51 0 1.02-.2 1.41-.59l7.78-7.78 2.81-2.81c.8-.78.8-2.07 0-2.86zM5.41 20L4 18.59l7.72-7.72 1.47 1.35L5.41 20z\"/>\n",
              "  </svg>\n",
              "      </button>\n",
              "      \n",
              "  <style>\n",
              "    .colab-df-container {\n",
              "      display:flex;\n",
              "      flex-wrap:wrap;\n",
              "      gap: 12px;\n",
              "    }\n",
              "\n",
              "    .colab-df-convert {\n",
              "      background-color: #E8F0FE;\n",
              "      border: none;\n",
              "      border-radius: 50%;\n",
              "      cursor: pointer;\n",
              "      display: none;\n",
              "      fill: #1967D2;\n",
              "      height: 32px;\n",
              "      padding: 0 0 0 0;\n",
              "      width: 32px;\n",
              "    }\n",
              "\n",
              "    .colab-df-convert:hover {\n",
              "      background-color: #E2EBFA;\n",
              "      box-shadow: 0px 1px 2px rgba(60, 64, 67, 0.3), 0px 1px 3px 1px rgba(60, 64, 67, 0.15);\n",
              "      fill: #174EA6;\n",
              "    }\n",
              "\n",
              "    [theme=dark] .colab-df-convert {\n",
              "      background-color: #3B4455;\n",
              "      fill: #D2E3FC;\n",
              "    }\n",
              "\n",
              "    [theme=dark] .colab-df-convert:hover {\n",
              "      background-color: #434B5C;\n",
              "      box-shadow: 0px 1px 3px 1px rgba(0, 0, 0, 0.15);\n",
              "      filter: drop-shadow(0px 1px 2px rgba(0, 0, 0, 0.3));\n",
              "      fill: #FFFFFF;\n",
              "    }\n",
              "  </style>\n",
              "\n",
              "      <script>\n",
              "        const buttonEl =\n",
              "          document.querySelector('#df-affb22a9-acb7-40d6-8437-9ddf15f0e316 button.colab-df-convert');\n",
              "        buttonEl.style.display =\n",
              "          google.colab.kernel.accessAllowed ? 'block' : 'none';\n",
              "\n",
              "        async function convertToInteractive(key) {\n",
              "          const element = document.querySelector('#df-affb22a9-acb7-40d6-8437-9ddf15f0e316');\n",
              "          const dataTable =\n",
              "            await google.colab.kernel.invokeFunction('convertToInteractive',\n",
              "                                                     [key], {});\n",
              "          if (!dataTable) return;\n",
              "\n",
              "          const docLinkHtml = 'Like what you see? Visit the ' +\n",
              "            '<a target=\"_blank\" href=https://colab.research.google.com/notebooks/data_table.ipynb>data table notebook</a>'\n",
              "            + ' to learn more about interactive tables.';\n",
              "          element.innerHTML = '';\n",
              "          dataTable['output_type'] = 'display_data';\n",
              "          await google.colab.output.renderOutput(dataTable, element);\n",
              "          const docLink = document.createElement('div');\n",
              "          docLink.innerHTML = docLinkHtml;\n",
              "          element.appendChild(docLink);\n",
              "        }\n",
              "      </script>\n",
              "    </div>\n",
              "  </div>\n",
              "  "
            ]
          },
          "metadata": {},
          "execution_count": 58
        }
      ]
    }
  ]
}