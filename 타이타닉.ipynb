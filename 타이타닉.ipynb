{
  "nbformat": 4,
  "nbformat_minor": 0,
  "metadata": {
    "colab": {
      "name": "타이타닉.ipynb",
      "provenance": [],
      "mount_file_id": "1E38IpJAuAzShcTfiazm4k3Z5EktIw0B0",
      "authorship_tag": "ABX9TyOZFCo6DJIqOTk4oDCzKh1o",
      "include_colab_link": true
    },
    "kernelspec": {
      "name": "python3",
      "display_name": "Python 3"
    },
    "language_info": {
      "name": "python"
    }
  },
  "cells": [
    {
      "cell_type": "markdown",
      "metadata": {
        "id": "view-in-github",
        "colab_type": "text"
      },
      "source": [
        "<a href=\"https://colab.research.google.com/github/Dabin-Park/EDA/blob/main/%ED%83%80%EC%9D%B4%ED%83%80%EB%8B%89.ipynb\" target=\"_parent\"><img src=\"https://colab.research.google.com/assets/colab-badge.svg\" alt=\"Open In Colab\"/></a>"
      ]
    },
    {
      "cell_type": "code",
      "source": [
        "# EDA 타이타닉\n",
        "\n",
        "import pandas as pd\n",
        "import numpy as np\n",
        "\n",
        "import seaborn as sns   # 데이터 분포 시각화\n",
        "import matplotlib.pyplot as plt"
      ],
      "metadata": {
        "id": "Lrvy2cS5sc1e"
      },
      "execution_count": 607,
      "outputs": []
    },
    {
      "cell_type": "code",
      "source": [
        "'''\n",
        "from sklearn.linear_model import LogisticRegression # 로지스틱 회귀 (특정 카테고리에 속할지를 0과 1 사이의 연속적인 확률로 예측하는 회귀 알고리즘)\n",
        "from sklearn.svm import SVC, Linear SVC # 분류에 사용되는 지도학습 모델 \n",
        "                                        # support vector를 사용해서 결정 경계(Decision Boundary)를 정의\n",
        "                                        # 분류되지 않은 점을 해당 결정 경계와 비교해서 분류 \n",
        "from sklearn.ensemble import RandomForestClassifier # 랜덤 포레스트 분류 ()\n",
        "from sklearn.neighbors import KNeighborsClassifier  # K-최근접 이웃을 활용한 분류\n",
        "from sklearn.naive_bayes import GaussianNB  # naive_bayes : 통계수학에 기반한 머신러닝 알고리즘\n",
        "                                            # 이진 속성을 가지고 속성이 많은 경우 : BernoulliNB\n",
        "                                            # 이진 속성이 아닌 일반적인 연속값 속성을 가지는 경우 : GaussianNB \n",
        " \n",
        "from sklearn.linear_model import Perceptron\n",
        "from sklearn.linear_model import SGDClassifier  # 확률적 경사하강법 (Stochastic Gradient Descent)\n",
        "from sklearn.tree import DecisionTreeClassifier # 결정트리 : \n",
        "'''\n",
        "import warnings \n",
        "warnings.filterwarnings(action = 'ignore')  # 경고 메시지 무시 "
      ],
      "metadata": {
        "id": "x35CSMfusggR"
      },
      "execution_count": 608,
      "outputs": []
    },
    {
      "cell_type": "code",
      "source": [
        "from google.colab import drive\n",
        "drive.mount('/content/drive')"
      ],
      "metadata": {
        "colab": {
          "base_uri": "https://localhost:8080/"
        },
        "id": "RmgM1zS56Qz0",
        "outputId": "394dfd91-6a01-46ad-faa4-22affd357f46"
      },
      "execution_count": 609,
      "outputs": [
        {
          "output_type": "stream",
          "name": "stdout",
          "text": [
            "Drive already mounted at /content/drive; to attempt to forcibly remount, call drive.mount(\"/content/drive\", force_remount=True).\n"
          ]
        }
      ]
    },
    {
      "cell_type": "code",
      "source": [
        "# 데이터 셋 불러오기\n",
        "path = '/content/drive/MyDrive/Dataset/'\n",
        "train_df = pd.read_csv(path+'train.csv')\n",
        "test_df = pd.read_csv(path+'test.csv') "
      ],
      "metadata": {
        "id": "eaepOx30sjO0"
      },
      "execution_count": 610,
      "outputs": []
    },
    {
      "cell_type": "markdown",
      "source": [
        "# 데이터 분석"
      ],
      "metadata": {
        "id": "SCH8GOSW-pim"
      }
    },
    {
      "cell_type": "code",
      "source": [
        " # 데이터 변수 확인\n",
        "print(train_df.columns.values)  \n",
        "    # 'Survived' : 생존 여부(종속 변수) (0 = 사망 , 1 = 생존)\n",
        "    # 'Pclass' : 객실 등급(승객의 사회적, 경제적 지위) (1st : Upper, 2nd : Middle, 3rd : Lower)\n",
        "    # 'Sex' : 성별 \n",
        "    # 'Age' : 나이\n",
        "    # 'SibSp' : 동반한 Sibling(형재 자매)와 Spouse(배우자)의수 \n",
        "    # 'Parch' : 동반한 Parent(부모) Child(자식)의 수\n",
        "    # 'Cabin' : 객실의 번호 \n",
        "    # 'Embarked' : 승선한 항\n"
      ],
      "metadata": {
        "colab": {
          "base_uri": "https://localhost:8080/"
        },
        "id": "hTaIVjjNx-bD",
        "outputId": "664a182a-8b33-4044-cb1a-27a73f4fcfc9"
      },
      "execution_count": 611,
      "outputs": [
        {
          "output_type": "stream",
          "name": "stdout",
          "text": [
            "['PassengerId' 'Survived' 'Pclass' 'Name' 'Sex' 'Age' 'SibSp' 'Parch'\n",
            " 'Ticket' 'Fare' 'Cabin' 'Embarked']\n"
          ]
        }
      ]
    },
    {
      "cell_type": "code",
      "source": [
        "train_df.head()"
      ],
      "metadata": {
        "colab": {
          "base_uri": "https://localhost:8080/",
          "height": 0
        },
        "id": "V6fjIKTsyGol",
        "outputId": "504d6ad5-58b8-4dd3-825c-058fe81729f5"
      },
      "execution_count": 612,
      "outputs": [
        {
          "output_type": "execute_result",
          "data": {
            "text/plain": [
              "   PassengerId  Survived  Pclass  \\\n",
              "0            1         0       3   \n",
              "1            2         1       1   \n",
              "2            3         1       3   \n",
              "3            4         1       1   \n",
              "4            5         0       3   \n",
              "\n",
              "                                                Name     Sex   Age  SibSp  \\\n",
              "0                            Braund, Mr. Owen Harris    male  22.0      1   \n",
              "1  Cumings, Mrs. John Bradley (Florence Briggs Th...  female  38.0      1   \n",
              "2                             Heikkinen, Miss. Laina  female  26.0      0   \n",
              "3       Futrelle, Mrs. Jacques Heath (Lily May Peel)  female  35.0      1   \n",
              "4                           Allen, Mr. William Henry    male  35.0      0   \n",
              "\n",
              "   Parch            Ticket     Fare Cabin Embarked  \n",
              "0      0         A/5 21171   7.2500   NaN        S  \n",
              "1      0          PC 17599  71.2833   C85        C  \n",
              "2      0  STON/O2. 3101282   7.9250   NaN        S  \n",
              "3      0            113803  53.1000  C123        S  \n",
              "4      0            373450   8.0500   NaN        S  "
            ],
            "text/html": [
              "\n",
              "  <div id=\"df-9c76cce4-f0c6-4e42-9e62-7eafb42a88c1\">\n",
              "    <div class=\"colab-df-container\">\n",
              "      <div>\n",
              "<style scoped>\n",
              "    .dataframe tbody tr th:only-of-type {\n",
              "        vertical-align: middle;\n",
              "    }\n",
              "\n",
              "    .dataframe tbody tr th {\n",
              "        vertical-align: top;\n",
              "    }\n",
              "\n",
              "    .dataframe thead th {\n",
              "        text-align: right;\n",
              "    }\n",
              "</style>\n",
              "<table border=\"1\" class=\"dataframe\">\n",
              "  <thead>\n",
              "    <tr style=\"text-align: right;\">\n",
              "      <th></th>\n",
              "      <th>PassengerId</th>\n",
              "      <th>Survived</th>\n",
              "      <th>Pclass</th>\n",
              "      <th>Name</th>\n",
              "      <th>Sex</th>\n",
              "      <th>Age</th>\n",
              "      <th>SibSp</th>\n",
              "      <th>Parch</th>\n",
              "      <th>Ticket</th>\n",
              "      <th>Fare</th>\n",
              "      <th>Cabin</th>\n",
              "      <th>Embarked</th>\n",
              "    </tr>\n",
              "  </thead>\n",
              "  <tbody>\n",
              "    <tr>\n",
              "      <th>0</th>\n",
              "      <td>1</td>\n",
              "      <td>0</td>\n",
              "      <td>3</td>\n",
              "      <td>Braund, Mr. Owen Harris</td>\n",
              "      <td>male</td>\n",
              "      <td>22.0</td>\n",
              "      <td>1</td>\n",
              "      <td>0</td>\n",
              "      <td>A/5 21171</td>\n",
              "      <td>7.2500</td>\n",
              "      <td>NaN</td>\n",
              "      <td>S</td>\n",
              "    </tr>\n",
              "    <tr>\n",
              "      <th>1</th>\n",
              "      <td>2</td>\n",
              "      <td>1</td>\n",
              "      <td>1</td>\n",
              "      <td>Cumings, Mrs. John Bradley (Florence Briggs Th...</td>\n",
              "      <td>female</td>\n",
              "      <td>38.0</td>\n",
              "      <td>1</td>\n",
              "      <td>0</td>\n",
              "      <td>PC 17599</td>\n",
              "      <td>71.2833</td>\n",
              "      <td>C85</td>\n",
              "      <td>C</td>\n",
              "    </tr>\n",
              "    <tr>\n",
              "      <th>2</th>\n",
              "      <td>3</td>\n",
              "      <td>1</td>\n",
              "      <td>3</td>\n",
              "      <td>Heikkinen, Miss. Laina</td>\n",
              "      <td>female</td>\n",
              "      <td>26.0</td>\n",
              "      <td>0</td>\n",
              "      <td>0</td>\n",
              "      <td>STON/O2. 3101282</td>\n",
              "      <td>7.9250</td>\n",
              "      <td>NaN</td>\n",
              "      <td>S</td>\n",
              "    </tr>\n",
              "    <tr>\n",
              "      <th>3</th>\n",
              "      <td>4</td>\n",
              "      <td>1</td>\n",
              "      <td>1</td>\n",
              "      <td>Futrelle, Mrs. Jacques Heath (Lily May Peel)</td>\n",
              "      <td>female</td>\n",
              "      <td>35.0</td>\n",
              "      <td>1</td>\n",
              "      <td>0</td>\n",
              "      <td>113803</td>\n",
              "      <td>53.1000</td>\n",
              "      <td>C123</td>\n",
              "      <td>S</td>\n",
              "    </tr>\n",
              "    <tr>\n",
              "      <th>4</th>\n",
              "      <td>5</td>\n",
              "      <td>0</td>\n",
              "      <td>3</td>\n",
              "      <td>Allen, Mr. William Henry</td>\n",
              "      <td>male</td>\n",
              "      <td>35.0</td>\n",
              "      <td>0</td>\n",
              "      <td>0</td>\n",
              "      <td>373450</td>\n",
              "      <td>8.0500</td>\n",
              "      <td>NaN</td>\n",
              "      <td>S</td>\n",
              "    </tr>\n",
              "  </tbody>\n",
              "</table>\n",
              "</div>\n",
              "      <button class=\"colab-df-convert\" onclick=\"convertToInteractive('df-9c76cce4-f0c6-4e42-9e62-7eafb42a88c1')\"\n",
              "              title=\"Convert this dataframe to an interactive table.\"\n",
              "              style=\"display:none;\">\n",
              "        \n",
              "  <svg xmlns=\"http://www.w3.org/2000/svg\" height=\"24px\"viewBox=\"0 0 24 24\"\n",
              "       width=\"24px\">\n",
              "    <path d=\"M0 0h24v24H0V0z\" fill=\"none\"/>\n",
              "    <path d=\"M18.56 5.44l.94 2.06.94-2.06 2.06-.94-2.06-.94-.94-2.06-.94 2.06-2.06.94zm-11 1L8.5 8.5l.94-2.06 2.06-.94-2.06-.94L8.5 2.5l-.94 2.06-2.06.94zm10 10l.94 2.06.94-2.06 2.06-.94-2.06-.94-.94-2.06-.94 2.06-2.06.94z\"/><path d=\"M17.41 7.96l-1.37-1.37c-.4-.4-.92-.59-1.43-.59-.52 0-1.04.2-1.43.59L10.3 9.45l-7.72 7.72c-.78.78-.78 2.05 0 2.83L4 21.41c.39.39.9.59 1.41.59.51 0 1.02-.2 1.41-.59l7.78-7.78 2.81-2.81c.8-.78.8-2.07 0-2.86zM5.41 20L4 18.59l7.72-7.72 1.47 1.35L5.41 20z\"/>\n",
              "  </svg>\n",
              "      </button>\n",
              "      \n",
              "  <style>\n",
              "    .colab-df-container {\n",
              "      display:flex;\n",
              "      flex-wrap:wrap;\n",
              "      gap: 12px;\n",
              "    }\n",
              "\n",
              "    .colab-df-convert {\n",
              "      background-color: #E8F0FE;\n",
              "      border: none;\n",
              "      border-radius: 50%;\n",
              "      cursor: pointer;\n",
              "      display: none;\n",
              "      fill: #1967D2;\n",
              "      height: 32px;\n",
              "      padding: 0 0 0 0;\n",
              "      width: 32px;\n",
              "    }\n",
              "\n",
              "    .colab-df-convert:hover {\n",
              "      background-color: #E2EBFA;\n",
              "      box-shadow: 0px 1px 2px rgba(60, 64, 67, 0.3), 0px 1px 3px 1px rgba(60, 64, 67, 0.15);\n",
              "      fill: #174EA6;\n",
              "    }\n",
              "\n",
              "    [theme=dark] .colab-df-convert {\n",
              "      background-color: #3B4455;\n",
              "      fill: #D2E3FC;\n",
              "    }\n",
              "\n",
              "    [theme=dark] .colab-df-convert:hover {\n",
              "      background-color: #434B5C;\n",
              "      box-shadow: 0px 1px 3px 1px rgba(0, 0, 0, 0.15);\n",
              "      filter: drop-shadow(0px 1px 2px rgba(0, 0, 0, 0.3));\n",
              "      fill: #FFFFFF;\n",
              "    }\n",
              "  </style>\n",
              "\n",
              "      <script>\n",
              "        const buttonEl =\n",
              "          document.querySelector('#df-9c76cce4-f0c6-4e42-9e62-7eafb42a88c1 button.colab-df-convert');\n",
              "        buttonEl.style.display =\n",
              "          google.colab.kernel.accessAllowed ? 'block' : 'none';\n",
              "\n",
              "        async function convertToInteractive(key) {\n",
              "          const element = document.querySelector('#df-9c76cce4-f0c6-4e42-9e62-7eafb42a88c1');\n",
              "          const dataTable =\n",
              "            await google.colab.kernel.invokeFunction('convertToInteractive',\n",
              "                                                     [key], {});\n",
              "          if (!dataTable) return;\n",
              "\n",
              "          const docLinkHtml = 'Like what you see? Visit the ' +\n",
              "            '<a target=\"_blank\" href=https://colab.research.google.com/notebooks/data_table.ipynb>data table notebook</a>'\n",
              "            + ' to learn more about interactive tables.';\n",
              "          element.innerHTML = '';\n",
              "          dataTable['output_type'] = 'display_data';\n",
              "          await google.colab.output.renderOutput(dataTable, element);\n",
              "          const docLink = document.createElement('div');\n",
              "          docLink.innerHTML = docLinkHtml;\n",
              "          element.appendChild(docLink);\n",
              "        }\n",
              "      </script>\n",
              "    </div>\n",
              "  </div>\n",
              "  "
            ]
          },
          "metadata": {},
          "execution_count": 612
        }
      ]
    },
    {
      "cell_type": "code",
      "source": [
        "test_df.head()   # 'Survived' 행이 존재 X"
      ],
      "metadata": {
        "colab": {
          "base_uri": "https://localhost:8080/",
          "height": 0
        },
        "id": "fYovwmC8yJb2",
        "outputId": "12148e1e-c68e-4a2f-e31d-dd6391a6a0be"
      },
      "execution_count": 613,
      "outputs": [
        {
          "output_type": "execute_result",
          "data": {
            "text/plain": [
              "   PassengerId  Pclass                                          Name     Sex  \\\n",
              "0          892       3                              Kelly, Mr. James    male   \n",
              "1          893       3              Wilkes, Mrs. James (Ellen Needs)  female   \n",
              "2          894       2                     Myles, Mr. Thomas Francis    male   \n",
              "3          895       3                              Wirz, Mr. Albert    male   \n",
              "4          896       3  Hirvonen, Mrs. Alexander (Helga E Lindqvist)  female   \n",
              "\n",
              "    Age  SibSp  Parch   Ticket     Fare Cabin Embarked  \n",
              "0  34.5      0      0   330911   7.8292   NaN        Q  \n",
              "1  47.0      1      0   363272   7.0000   NaN        S  \n",
              "2  62.0      0      0   240276   9.6875   NaN        Q  \n",
              "3  27.0      0      0   315154   8.6625   NaN        S  \n",
              "4  22.0      1      1  3101298  12.2875   NaN        S  "
            ],
            "text/html": [
              "\n",
              "  <div id=\"df-836286bf-b3fd-4dca-abc0-d40b82b88db8\">\n",
              "    <div class=\"colab-df-container\">\n",
              "      <div>\n",
              "<style scoped>\n",
              "    .dataframe tbody tr th:only-of-type {\n",
              "        vertical-align: middle;\n",
              "    }\n",
              "\n",
              "    .dataframe tbody tr th {\n",
              "        vertical-align: top;\n",
              "    }\n",
              "\n",
              "    .dataframe thead th {\n",
              "        text-align: right;\n",
              "    }\n",
              "</style>\n",
              "<table border=\"1\" class=\"dataframe\">\n",
              "  <thead>\n",
              "    <tr style=\"text-align: right;\">\n",
              "      <th></th>\n",
              "      <th>PassengerId</th>\n",
              "      <th>Pclass</th>\n",
              "      <th>Name</th>\n",
              "      <th>Sex</th>\n",
              "      <th>Age</th>\n",
              "      <th>SibSp</th>\n",
              "      <th>Parch</th>\n",
              "      <th>Ticket</th>\n",
              "      <th>Fare</th>\n",
              "      <th>Cabin</th>\n",
              "      <th>Embarked</th>\n",
              "    </tr>\n",
              "  </thead>\n",
              "  <tbody>\n",
              "    <tr>\n",
              "      <th>0</th>\n",
              "      <td>892</td>\n",
              "      <td>3</td>\n",
              "      <td>Kelly, Mr. James</td>\n",
              "      <td>male</td>\n",
              "      <td>34.5</td>\n",
              "      <td>0</td>\n",
              "      <td>0</td>\n",
              "      <td>330911</td>\n",
              "      <td>7.8292</td>\n",
              "      <td>NaN</td>\n",
              "      <td>Q</td>\n",
              "    </tr>\n",
              "    <tr>\n",
              "      <th>1</th>\n",
              "      <td>893</td>\n",
              "      <td>3</td>\n",
              "      <td>Wilkes, Mrs. James (Ellen Needs)</td>\n",
              "      <td>female</td>\n",
              "      <td>47.0</td>\n",
              "      <td>1</td>\n",
              "      <td>0</td>\n",
              "      <td>363272</td>\n",
              "      <td>7.0000</td>\n",
              "      <td>NaN</td>\n",
              "      <td>S</td>\n",
              "    </tr>\n",
              "    <tr>\n",
              "      <th>2</th>\n",
              "      <td>894</td>\n",
              "      <td>2</td>\n",
              "      <td>Myles, Mr. Thomas Francis</td>\n",
              "      <td>male</td>\n",
              "      <td>62.0</td>\n",
              "      <td>0</td>\n",
              "      <td>0</td>\n",
              "      <td>240276</td>\n",
              "      <td>9.6875</td>\n",
              "      <td>NaN</td>\n",
              "      <td>Q</td>\n",
              "    </tr>\n",
              "    <tr>\n",
              "      <th>3</th>\n",
              "      <td>895</td>\n",
              "      <td>3</td>\n",
              "      <td>Wirz, Mr. Albert</td>\n",
              "      <td>male</td>\n",
              "      <td>27.0</td>\n",
              "      <td>0</td>\n",
              "      <td>0</td>\n",
              "      <td>315154</td>\n",
              "      <td>8.6625</td>\n",
              "      <td>NaN</td>\n",
              "      <td>S</td>\n",
              "    </tr>\n",
              "    <tr>\n",
              "      <th>4</th>\n",
              "      <td>896</td>\n",
              "      <td>3</td>\n",
              "      <td>Hirvonen, Mrs. Alexander (Helga E Lindqvist)</td>\n",
              "      <td>female</td>\n",
              "      <td>22.0</td>\n",
              "      <td>1</td>\n",
              "      <td>1</td>\n",
              "      <td>3101298</td>\n",
              "      <td>12.2875</td>\n",
              "      <td>NaN</td>\n",
              "      <td>S</td>\n",
              "    </tr>\n",
              "  </tbody>\n",
              "</table>\n",
              "</div>\n",
              "      <button class=\"colab-df-convert\" onclick=\"convertToInteractive('df-836286bf-b3fd-4dca-abc0-d40b82b88db8')\"\n",
              "              title=\"Convert this dataframe to an interactive table.\"\n",
              "              style=\"display:none;\">\n",
              "        \n",
              "  <svg xmlns=\"http://www.w3.org/2000/svg\" height=\"24px\"viewBox=\"0 0 24 24\"\n",
              "       width=\"24px\">\n",
              "    <path d=\"M0 0h24v24H0V0z\" fill=\"none\"/>\n",
              "    <path d=\"M18.56 5.44l.94 2.06.94-2.06 2.06-.94-2.06-.94-.94-2.06-.94 2.06-2.06.94zm-11 1L8.5 8.5l.94-2.06 2.06-.94-2.06-.94L8.5 2.5l-.94 2.06-2.06.94zm10 10l.94 2.06.94-2.06 2.06-.94-2.06-.94-.94-2.06-.94 2.06-2.06.94z\"/><path d=\"M17.41 7.96l-1.37-1.37c-.4-.4-.92-.59-1.43-.59-.52 0-1.04.2-1.43.59L10.3 9.45l-7.72 7.72c-.78.78-.78 2.05 0 2.83L4 21.41c.39.39.9.59 1.41.59.51 0 1.02-.2 1.41-.59l7.78-7.78 2.81-2.81c.8-.78.8-2.07 0-2.86zM5.41 20L4 18.59l7.72-7.72 1.47 1.35L5.41 20z\"/>\n",
              "  </svg>\n",
              "      </button>\n",
              "      \n",
              "  <style>\n",
              "    .colab-df-container {\n",
              "      display:flex;\n",
              "      flex-wrap:wrap;\n",
              "      gap: 12px;\n",
              "    }\n",
              "\n",
              "    .colab-df-convert {\n",
              "      background-color: #E8F0FE;\n",
              "      border: none;\n",
              "      border-radius: 50%;\n",
              "      cursor: pointer;\n",
              "      display: none;\n",
              "      fill: #1967D2;\n",
              "      height: 32px;\n",
              "      padding: 0 0 0 0;\n",
              "      width: 32px;\n",
              "    }\n",
              "\n",
              "    .colab-df-convert:hover {\n",
              "      background-color: #E2EBFA;\n",
              "      box-shadow: 0px 1px 2px rgba(60, 64, 67, 0.3), 0px 1px 3px 1px rgba(60, 64, 67, 0.15);\n",
              "      fill: #174EA6;\n",
              "    }\n",
              "\n",
              "    [theme=dark] .colab-df-convert {\n",
              "      background-color: #3B4455;\n",
              "      fill: #D2E3FC;\n",
              "    }\n",
              "\n",
              "    [theme=dark] .colab-df-convert:hover {\n",
              "      background-color: #434B5C;\n",
              "      box-shadow: 0px 1px 3px 1px rgba(0, 0, 0, 0.15);\n",
              "      filter: drop-shadow(0px 1px 2px rgba(0, 0, 0, 0.3));\n",
              "      fill: #FFFFFF;\n",
              "    }\n",
              "  </style>\n",
              "\n",
              "      <script>\n",
              "        const buttonEl =\n",
              "          document.querySelector('#df-836286bf-b3fd-4dca-abc0-d40b82b88db8 button.colab-df-convert');\n",
              "        buttonEl.style.display =\n",
              "          google.colab.kernel.accessAllowed ? 'block' : 'none';\n",
              "\n",
              "        async function convertToInteractive(key) {\n",
              "          const element = document.querySelector('#df-836286bf-b3fd-4dca-abc0-d40b82b88db8');\n",
              "          const dataTable =\n",
              "            await google.colab.kernel.invokeFunction('convertToInteractive',\n",
              "                                                     [key], {});\n",
              "          if (!dataTable) return;\n",
              "\n",
              "          const docLinkHtml = 'Like what you see? Visit the ' +\n",
              "            '<a target=\"_blank\" href=https://colab.research.google.com/notebooks/data_table.ipynb>data table notebook</a>'\n",
              "            + ' to learn more about interactive tables.';\n",
              "          element.innerHTML = '';\n",
              "          dataTable['output_type'] = 'display_data';\n",
              "          await google.colab.output.renderOutput(dataTable, element);\n",
              "          const docLink = document.createElement('div');\n",
              "          docLink.innerHTML = docLinkHtml;\n",
              "          element.appendChild(docLink);\n",
              "        }\n",
              "      </script>\n",
              "    </div>\n",
              "  </div>\n",
              "  "
            ]
          },
          "metadata": {},
          "execution_count": 613
        }
      ]
    },
    {
      "cell_type": "code",
      "source": [
        "# 훈련 자료 정보 \n",
        "train_df.info()"
      ],
      "metadata": {
        "colab": {
          "base_uri": "https://localhost:8080/"
        },
        "id": "5vG2e9r4ycAm",
        "outputId": "e6e7f690-ca05-49f6-a61a-ed06f15cfad1"
      },
      "execution_count": 614,
      "outputs": [
        {
          "output_type": "stream",
          "name": "stdout",
          "text": [
            "<class 'pandas.core.frame.DataFrame'>\n",
            "RangeIndex: 891 entries, 0 to 890\n",
            "Data columns (total 12 columns):\n",
            " #   Column       Non-Null Count  Dtype  \n",
            "---  ------       --------------  -----  \n",
            " 0   PassengerId  891 non-null    int64  \n",
            " 1   Survived     891 non-null    int64  \n",
            " 2   Pclass       891 non-null    int64  \n",
            " 3   Name         891 non-null    object \n",
            " 4   Sex          891 non-null    object \n",
            " 5   Age          714 non-null    float64\n",
            " 6   SibSp        891 non-null    int64  \n",
            " 7   Parch        891 non-null    int64  \n",
            " 8   Ticket       891 non-null    object \n",
            " 9   Fare         891 non-null    float64\n",
            " 10  Cabin        204 non-null    object \n",
            " 11  Embarked     889 non-null    object \n",
            "dtypes: float64(2), int64(5), object(5)\n",
            "memory usage: 83.7+ KB\n"
          ]
        }
      ]
    },
    {
      "cell_type": "code",
      "source": [
        "# 테스트 자료 정보 \n",
        "test_df.info() "
      ],
      "metadata": {
        "colab": {
          "base_uri": "https://localhost:8080/"
        },
        "id": "UZawrXOByiXC",
        "outputId": "0e505737-b052-47ee-c3f2-68360e1b463b"
      },
      "execution_count": 615,
      "outputs": [
        {
          "output_type": "stream",
          "name": "stdout",
          "text": [
            "<class 'pandas.core.frame.DataFrame'>\n",
            "RangeIndex: 418 entries, 0 to 417\n",
            "Data columns (total 11 columns):\n",
            " #   Column       Non-Null Count  Dtype  \n",
            "---  ------       --------------  -----  \n",
            " 0   PassengerId  418 non-null    int64  \n",
            " 1   Pclass       418 non-null    int64  \n",
            " 2   Name         418 non-null    object \n",
            " 3   Sex          418 non-null    object \n",
            " 4   Age          332 non-null    float64\n",
            " 5   SibSp        418 non-null    int64  \n",
            " 6   Parch        418 non-null    int64  \n",
            " 7   Ticket       418 non-null    object \n",
            " 8   Fare         417 non-null    float64\n",
            " 9   Cabin        91 non-null     object \n",
            " 10  Embarked     418 non-null    object \n",
            "dtypes: float64(2), int64(4), object(5)\n",
            "memory usage: 36.0+ KB\n"
          ]
        }
      ]
    },
    {
      "cell_type": "markdown",
      "source": [
        "* train set과 test set모두 Cabin colunm에 결측지가 많아 삭제를 시킴 "
      ],
      "metadata": {
        "id": "Soa_TRyL9j5S"
      }
    },
    {
      "cell_type": "code",
      "source": [
        "train_df = train_df.drop(columns = 'Cabin')\n",
        "test_df = test_df.drop(columns = 'Cabin')\n",
        "print(train_df.info())"
      ],
      "metadata": {
        "colab": {
          "base_uri": "https://localhost:8080/"
        },
        "id": "EjWvsm2F8WwX",
        "outputId": "0016b26a-353e-4a11-bf8d-eef30fe2771f"
      },
      "execution_count": 616,
      "outputs": [
        {
          "output_type": "stream",
          "name": "stdout",
          "text": [
            "<class 'pandas.core.frame.DataFrame'>\n",
            "RangeIndex: 891 entries, 0 to 890\n",
            "Data columns (total 11 columns):\n",
            " #   Column       Non-Null Count  Dtype  \n",
            "---  ------       --------------  -----  \n",
            " 0   PassengerId  891 non-null    int64  \n",
            " 1   Survived     891 non-null    int64  \n",
            " 2   Pclass       891 non-null    int64  \n",
            " 3   Name         891 non-null    object \n",
            " 4   Sex          891 non-null    object \n",
            " 5   Age          714 non-null    float64\n",
            " 6   SibSp        891 non-null    int64  \n",
            " 7   Parch        891 non-null    int64  \n",
            " 8   Ticket       891 non-null    object \n",
            " 9   Fare         891 non-null    float64\n",
            " 10  Embarked     889 non-null    object \n",
            "dtypes: float64(2), int64(5), object(4)\n",
            "memory usage: 76.7+ KB\n",
            "None\n"
          ]
        }
      ]
    },
    {
      "cell_type": "code",
      "source": [
        "# 훈련 자료 int, float 변수 통계치\n",
        "train_df.describe() # 누락데이터(NaN)는 제외되고 데이터 요약"
      ],
      "metadata": {
        "colab": {
          "base_uri": "https://localhost:8080/",
          "height": 0
        },
        "id": "lpRd7LwIyseb",
        "outputId": "e7421da0-d04f-44b8-e2c9-5d4b753d9b8a"
      },
      "execution_count": 617,
      "outputs": [
        {
          "output_type": "execute_result",
          "data": {
            "text/plain": [
              "       PassengerId    Survived      Pclass         Age       SibSp  \\\n",
              "count   891.000000  891.000000  891.000000  714.000000  891.000000   \n",
              "mean    446.000000    0.383838    2.308642   29.699118    0.523008   \n",
              "std     257.353842    0.486592    0.836071   14.526497    1.102743   \n",
              "min       1.000000    0.000000    1.000000    0.420000    0.000000   \n",
              "25%     223.500000    0.000000    2.000000   20.125000    0.000000   \n",
              "50%     446.000000    0.000000    3.000000   28.000000    0.000000   \n",
              "75%     668.500000    1.000000    3.000000   38.000000    1.000000   \n",
              "max     891.000000    1.000000    3.000000   80.000000    8.000000   \n",
              "\n",
              "            Parch        Fare  \n",
              "count  891.000000  891.000000  \n",
              "mean     0.381594   32.204208  \n",
              "std      0.806057   49.693429  \n",
              "min      0.000000    0.000000  \n",
              "25%      0.000000    7.910400  \n",
              "50%      0.000000   14.454200  \n",
              "75%      0.000000   31.000000  \n",
              "max      6.000000  512.329200  "
            ],
            "text/html": [
              "\n",
              "  <div id=\"df-0abcdfe8-a89a-4aa1-86ba-915fc2830bdd\">\n",
              "    <div class=\"colab-df-container\">\n",
              "      <div>\n",
              "<style scoped>\n",
              "    .dataframe tbody tr th:only-of-type {\n",
              "        vertical-align: middle;\n",
              "    }\n",
              "\n",
              "    .dataframe tbody tr th {\n",
              "        vertical-align: top;\n",
              "    }\n",
              "\n",
              "    .dataframe thead th {\n",
              "        text-align: right;\n",
              "    }\n",
              "</style>\n",
              "<table border=\"1\" class=\"dataframe\">\n",
              "  <thead>\n",
              "    <tr style=\"text-align: right;\">\n",
              "      <th></th>\n",
              "      <th>PassengerId</th>\n",
              "      <th>Survived</th>\n",
              "      <th>Pclass</th>\n",
              "      <th>Age</th>\n",
              "      <th>SibSp</th>\n",
              "      <th>Parch</th>\n",
              "      <th>Fare</th>\n",
              "    </tr>\n",
              "  </thead>\n",
              "  <tbody>\n",
              "    <tr>\n",
              "      <th>count</th>\n",
              "      <td>891.000000</td>\n",
              "      <td>891.000000</td>\n",
              "      <td>891.000000</td>\n",
              "      <td>714.000000</td>\n",
              "      <td>891.000000</td>\n",
              "      <td>891.000000</td>\n",
              "      <td>891.000000</td>\n",
              "    </tr>\n",
              "    <tr>\n",
              "      <th>mean</th>\n",
              "      <td>446.000000</td>\n",
              "      <td>0.383838</td>\n",
              "      <td>2.308642</td>\n",
              "      <td>29.699118</td>\n",
              "      <td>0.523008</td>\n",
              "      <td>0.381594</td>\n",
              "      <td>32.204208</td>\n",
              "    </tr>\n",
              "    <tr>\n",
              "      <th>std</th>\n",
              "      <td>257.353842</td>\n",
              "      <td>0.486592</td>\n",
              "      <td>0.836071</td>\n",
              "      <td>14.526497</td>\n",
              "      <td>1.102743</td>\n",
              "      <td>0.806057</td>\n",
              "      <td>49.693429</td>\n",
              "    </tr>\n",
              "    <tr>\n",
              "      <th>min</th>\n",
              "      <td>1.000000</td>\n",
              "      <td>0.000000</td>\n",
              "      <td>1.000000</td>\n",
              "      <td>0.420000</td>\n",
              "      <td>0.000000</td>\n",
              "      <td>0.000000</td>\n",
              "      <td>0.000000</td>\n",
              "    </tr>\n",
              "    <tr>\n",
              "      <th>25%</th>\n",
              "      <td>223.500000</td>\n",
              "      <td>0.000000</td>\n",
              "      <td>2.000000</td>\n",
              "      <td>20.125000</td>\n",
              "      <td>0.000000</td>\n",
              "      <td>0.000000</td>\n",
              "      <td>7.910400</td>\n",
              "    </tr>\n",
              "    <tr>\n",
              "      <th>50%</th>\n",
              "      <td>446.000000</td>\n",
              "      <td>0.000000</td>\n",
              "      <td>3.000000</td>\n",
              "      <td>28.000000</td>\n",
              "      <td>0.000000</td>\n",
              "      <td>0.000000</td>\n",
              "      <td>14.454200</td>\n",
              "    </tr>\n",
              "    <tr>\n",
              "      <th>75%</th>\n",
              "      <td>668.500000</td>\n",
              "      <td>1.000000</td>\n",
              "      <td>3.000000</td>\n",
              "      <td>38.000000</td>\n",
              "      <td>1.000000</td>\n",
              "      <td>0.000000</td>\n",
              "      <td>31.000000</td>\n",
              "    </tr>\n",
              "    <tr>\n",
              "      <th>max</th>\n",
              "      <td>891.000000</td>\n",
              "      <td>1.000000</td>\n",
              "      <td>3.000000</td>\n",
              "      <td>80.000000</td>\n",
              "      <td>8.000000</td>\n",
              "      <td>6.000000</td>\n",
              "      <td>512.329200</td>\n",
              "    </tr>\n",
              "  </tbody>\n",
              "</table>\n",
              "</div>\n",
              "      <button class=\"colab-df-convert\" onclick=\"convertToInteractive('df-0abcdfe8-a89a-4aa1-86ba-915fc2830bdd')\"\n",
              "              title=\"Convert this dataframe to an interactive table.\"\n",
              "              style=\"display:none;\">\n",
              "        \n",
              "  <svg xmlns=\"http://www.w3.org/2000/svg\" height=\"24px\"viewBox=\"0 0 24 24\"\n",
              "       width=\"24px\">\n",
              "    <path d=\"M0 0h24v24H0V0z\" fill=\"none\"/>\n",
              "    <path d=\"M18.56 5.44l.94 2.06.94-2.06 2.06-.94-2.06-.94-.94-2.06-.94 2.06-2.06.94zm-11 1L8.5 8.5l.94-2.06 2.06-.94-2.06-.94L8.5 2.5l-.94 2.06-2.06.94zm10 10l.94 2.06.94-2.06 2.06-.94-2.06-.94-.94-2.06-.94 2.06-2.06.94z\"/><path d=\"M17.41 7.96l-1.37-1.37c-.4-.4-.92-.59-1.43-.59-.52 0-1.04.2-1.43.59L10.3 9.45l-7.72 7.72c-.78.78-.78 2.05 0 2.83L4 21.41c.39.39.9.59 1.41.59.51 0 1.02-.2 1.41-.59l7.78-7.78 2.81-2.81c.8-.78.8-2.07 0-2.86zM5.41 20L4 18.59l7.72-7.72 1.47 1.35L5.41 20z\"/>\n",
              "  </svg>\n",
              "      </button>\n",
              "      \n",
              "  <style>\n",
              "    .colab-df-container {\n",
              "      display:flex;\n",
              "      flex-wrap:wrap;\n",
              "      gap: 12px;\n",
              "    }\n",
              "\n",
              "    .colab-df-convert {\n",
              "      background-color: #E8F0FE;\n",
              "      border: none;\n",
              "      border-radius: 50%;\n",
              "      cursor: pointer;\n",
              "      display: none;\n",
              "      fill: #1967D2;\n",
              "      height: 32px;\n",
              "      padding: 0 0 0 0;\n",
              "      width: 32px;\n",
              "    }\n",
              "\n",
              "    .colab-df-convert:hover {\n",
              "      background-color: #E2EBFA;\n",
              "      box-shadow: 0px 1px 2px rgba(60, 64, 67, 0.3), 0px 1px 3px 1px rgba(60, 64, 67, 0.15);\n",
              "      fill: #174EA6;\n",
              "    }\n",
              "\n",
              "    [theme=dark] .colab-df-convert {\n",
              "      background-color: #3B4455;\n",
              "      fill: #D2E3FC;\n",
              "    }\n",
              "\n",
              "    [theme=dark] .colab-df-convert:hover {\n",
              "      background-color: #434B5C;\n",
              "      box-shadow: 0px 1px 3px 1px rgba(0, 0, 0, 0.15);\n",
              "      filter: drop-shadow(0px 1px 2px rgba(0, 0, 0, 0.3));\n",
              "      fill: #FFFFFF;\n",
              "    }\n",
              "  </style>\n",
              "\n",
              "      <script>\n",
              "        const buttonEl =\n",
              "          document.querySelector('#df-0abcdfe8-a89a-4aa1-86ba-915fc2830bdd button.colab-df-convert');\n",
              "        buttonEl.style.display =\n",
              "          google.colab.kernel.accessAllowed ? 'block' : 'none';\n",
              "\n",
              "        async function convertToInteractive(key) {\n",
              "          const element = document.querySelector('#df-0abcdfe8-a89a-4aa1-86ba-915fc2830bdd');\n",
              "          const dataTable =\n",
              "            await google.colab.kernel.invokeFunction('convertToInteractive',\n",
              "                                                     [key], {});\n",
              "          if (!dataTable) return;\n",
              "\n",
              "          const docLinkHtml = 'Like what you see? Visit the ' +\n",
              "            '<a target=\"_blank\" href=https://colab.research.google.com/notebooks/data_table.ipynb>data table notebook</a>'\n",
              "            + ' to learn more about interactive tables.';\n",
              "          element.innerHTML = '';\n",
              "          dataTable['output_type'] = 'display_data';\n",
              "          await google.colab.output.renderOutput(dataTable, element);\n",
              "          const docLink = document.createElement('div');\n",
              "          docLink.innerHTML = docLinkHtml;\n",
              "          element.appendChild(docLink);\n",
              "        }\n",
              "      </script>\n",
              "    </div>\n",
              "  </div>\n",
              "  "
            ]
          },
          "metadata": {},
          "execution_count": 617
        }
      ]
    },
    {
      "cell_type": "code",
      "source": [
        "# 훈련 자료 object 변수 통계치 \n",
        "train_df.describe(include=['O'])"
      ],
      "metadata": {
        "colab": {
          "base_uri": "https://localhost:8080/",
          "height": 0
        },
        "id": "3GLHqCMMyuXK",
        "outputId": "da6bff6f-9ef8-45e6-cf96-a77a420f69d5"
      },
      "execution_count": 618,
      "outputs": [
        {
          "output_type": "execute_result",
          "data": {
            "text/plain": [
              "                           Name   Sex  Ticket Embarked\n",
              "count                       891   891     891      889\n",
              "unique                      891     2     681        3\n",
              "top     Braund, Mr. Owen Harris  male  347082        S\n",
              "freq                          1   577       7      644"
            ],
            "text/html": [
              "\n",
              "  <div id=\"df-eb0a07e0-15d8-4785-b715-739d09402145\">\n",
              "    <div class=\"colab-df-container\">\n",
              "      <div>\n",
              "<style scoped>\n",
              "    .dataframe tbody tr th:only-of-type {\n",
              "        vertical-align: middle;\n",
              "    }\n",
              "\n",
              "    .dataframe tbody tr th {\n",
              "        vertical-align: top;\n",
              "    }\n",
              "\n",
              "    .dataframe thead th {\n",
              "        text-align: right;\n",
              "    }\n",
              "</style>\n",
              "<table border=\"1\" class=\"dataframe\">\n",
              "  <thead>\n",
              "    <tr style=\"text-align: right;\">\n",
              "      <th></th>\n",
              "      <th>Name</th>\n",
              "      <th>Sex</th>\n",
              "      <th>Ticket</th>\n",
              "      <th>Embarked</th>\n",
              "    </tr>\n",
              "  </thead>\n",
              "  <tbody>\n",
              "    <tr>\n",
              "      <th>count</th>\n",
              "      <td>891</td>\n",
              "      <td>891</td>\n",
              "      <td>891</td>\n",
              "      <td>889</td>\n",
              "    </tr>\n",
              "    <tr>\n",
              "      <th>unique</th>\n",
              "      <td>891</td>\n",
              "      <td>2</td>\n",
              "      <td>681</td>\n",
              "      <td>3</td>\n",
              "    </tr>\n",
              "    <tr>\n",
              "      <th>top</th>\n",
              "      <td>Braund, Mr. Owen Harris</td>\n",
              "      <td>male</td>\n",
              "      <td>347082</td>\n",
              "      <td>S</td>\n",
              "    </tr>\n",
              "    <tr>\n",
              "      <th>freq</th>\n",
              "      <td>1</td>\n",
              "      <td>577</td>\n",
              "      <td>7</td>\n",
              "      <td>644</td>\n",
              "    </tr>\n",
              "  </tbody>\n",
              "</table>\n",
              "</div>\n",
              "      <button class=\"colab-df-convert\" onclick=\"convertToInteractive('df-eb0a07e0-15d8-4785-b715-739d09402145')\"\n",
              "              title=\"Convert this dataframe to an interactive table.\"\n",
              "              style=\"display:none;\">\n",
              "        \n",
              "  <svg xmlns=\"http://www.w3.org/2000/svg\" height=\"24px\"viewBox=\"0 0 24 24\"\n",
              "       width=\"24px\">\n",
              "    <path d=\"M0 0h24v24H0V0z\" fill=\"none\"/>\n",
              "    <path d=\"M18.56 5.44l.94 2.06.94-2.06 2.06-.94-2.06-.94-.94-2.06-.94 2.06-2.06.94zm-11 1L8.5 8.5l.94-2.06 2.06-.94-2.06-.94L8.5 2.5l-.94 2.06-2.06.94zm10 10l.94 2.06.94-2.06 2.06-.94-2.06-.94-.94-2.06-.94 2.06-2.06.94z\"/><path d=\"M17.41 7.96l-1.37-1.37c-.4-.4-.92-.59-1.43-.59-.52 0-1.04.2-1.43.59L10.3 9.45l-7.72 7.72c-.78.78-.78 2.05 0 2.83L4 21.41c.39.39.9.59 1.41.59.51 0 1.02-.2 1.41-.59l7.78-7.78 2.81-2.81c.8-.78.8-2.07 0-2.86zM5.41 20L4 18.59l7.72-7.72 1.47 1.35L5.41 20z\"/>\n",
              "  </svg>\n",
              "      </button>\n",
              "      \n",
              "  <style>\n",
              "    .colab-df-container {\n",
              "      display:flex;\n",
              "      flex-wrap:wrap;\n",
              "      gap: 12px;\n",
              "    }\n",
              "\n",
              "    .colab-df-convert {\n",
              "      background-color: #E8F0FE;\n",
              "      border: none;\n",
              "      border-radius: 50%;\n",
              "      cursor: pointer;\n",
              "      display: none;\n",
              "      fill: #1967D2;\n",
              "      height: 32px;\n",
              "      padding: 0 0 0 0;\n",
              "      width: 32px;\n",
              "    }\n",
              "\n",
              "    .colab-df-convert:hover {\n",
              "      background-color: #E2EBFA;\n",
              "      box-shadow: 0px 1px 2px rgba(60, 64, 67, 0.3), 0px 1px 3px 1px rgba(60, 64, 67, 0.15);\n",
              "      fill: #174EA6;\n",
              "    }\n",
              "\n",
              "    [theme=dark] .colab-df-convert {\n",
              "      background-color: #3B4455;\n",
              "      fill: #D2E3FC;\n",
              "    }\n",
              "\n",
              "    [theme=dark] .colab-df-convert:hover {\n",
              "      background-color: #434B5C;\n",
              "      box-shadow: 0px 1px 3px 1px rgba(0, 0, 0, 0.15);\n",
              "      filter: drop-shadow(0px 1px 2px rgba(0, 0, 0, 0.3));\n",
              "      fill: #FFFFFF;\n",
              "    }\n",
              "  </style>\n",
              "\n",
              "      <script>\n",
              "        const buttonEl =\n",
              "          document.querySelector('#df-eb0a07e0-15d8-4785-b715-739d09402145 button.colab-df-convert');\n",
              "        buttonEl.style.display =\n",
              "          google.colab.kernel.accessAllowed ? 'block' : 'none';\n",
              "\n",
              "        async function convertToInteractive(key) {\n",
              "          const element = document.querySelector('#df-eb0a07e0-15d8-4785-b715-739d09402145');\n",
              "          const dataTable =\n",
              "            await google.colab.kernel.invokeFunction('convertToInteractive',\n",
              "                                                     [key], {});\n",
              "          if (!dataTable) return;\n",
              "\n",
              "          const docLinkHtml = 'Like what you see? Visit the ' +\n",
              "            '<a target=\"_blank\" href=https://colab.research.google.com/notebooks/data_table.ipynb>data table notebook</a>'\n",
              "            + ' to learn more about interactive tables.';\n",
              "          element.innerHTML = '';\n",
              "          dataTable['output_type'] = 'display_data';\n",
              "          await google.colab.output.renderOutput(dataTable, element);\n",
              "          const docLink = document.createElement('div');\n",
              "          docLink.innerHTML = docLinkHtml;\n",
              "          element.appendChild(docLink);\n",
              "        }\n",
              "      </script>\n",
              "    </div>\n",
              "  </div>\n",
              "  "
            ]
          },
          "metadata": {},
          "execution_count": 618
        }
      ]
    },
    {
      "cell_type": "code",
      "source": [
        "sns.heatmap(train_df.corr(),annot=True,cmap='RdYlGn',linewidths=0.2) #data.corr()-->correlation matrix\n",
        "fig=plt.gcf()\n",
        "fig.set_size_inches(10,8)\n",
        "plt.show()"
      ],
      "metadata": {
        "colab": {
          "base_uri": "https://localhost:8080/",
          "height": 0
        },
        "id": "8NbVX7Td99ej",
        "outputId": "1e0a6982-e0f9-42af-9c9d-bb1b08c72124"
      },
      "execution_count": 619,
      "outputs": [
        {
          "output_type": "display_data",
          "data": {
            "text/plain": [
              "<Figure size 720x576 with 2 Axes>"
            ],
            "image/png": "[encoded data removed]"
          },
          "metadata": {}
        }
      ]
    },
    {
      "cell_type": "code",
      "source": [
        "labels = ['Survived', 'Dead']\n",
        "train_df['Survived'].value_counts().plot.pie(labels = labels, explode = [0,0.1], autopct = '%1.1f%%', shadow = True)\n",
        "plt.title('Survived')\n",
        "plt.ylabel('')\n",
        "plt.show()"
      ],
      "metadata": {
        "colab": {
          "base_uri": "https://localhost:8080/",
          "height": 0
        },
        "id": "e99Sk3tzy0Py",
        "outputId": "db6f25cc-108e-4b2e-e9e3-9916bd84abf3"
      },
      "execution_count": 620,
      "outputs": [
        {
          "output_type": "display_data",
          "data": {
            "text/plain": [
              "<Figure size 432x288 with 1 Axes>"
            ],
            "image/png": "[encoded data removed]"
          },
          "metadata": {}
        }
      ]
    },
    {
      "cell_type": "code",
      "source": [
        "# relation of Pclass and Survived   # 객실 등급이 높을수록 생존 비율이 높다. \n",
        "sns.set_style('whitegrid')\n",
        "sns.countplot(data=train_df, x='Pclass', hue='Survived')\n",
        "plt.title('Pclass and Survived')\n",
        "plt.ylabel('')\n",
        "plt.show()"
      ],
      "metadata": {
        "colab": {
          "base_uri": "https://localhost:8080/",
          "height": 0
        },
        "id": "Kd0jT5WGzCwT",
        "outputId": "fd541ca9-83d9-40a6-d3db-e30cd1fa4b34"
      },
      "execution_count": 621,
      "outputs": [
        {
          "output_type": "display_data",
          "data": {
            "text/plain": [
              "<Figure size 432x288 with 1 Axes>"
            ],
            "image/png": "[encoded data removed]"
          },
          "metadata": {}
        }
      ]
    },
    {
      "cell_type": "code",
      "source": [
        "# relation of name and Survived"
      ],
      "metadata": {
        "id": "LLTj4ZLTzIN_"
      },
      "execution_count": 622,
      "outputs": []
    },
    {
      "cell_type": "code",
      "source": [
        "# relation of Sex and Survived  # 남성보다 여성의 생존 비율이 높다.\n",
        "sns.set_style('whitegrid')\n",
        "sns.countplot(data=train_df, x='Sex', hue='Survived')\n",
        "plt.title('Sex and Survived')\n",
        "plt.ylabel('')\n",
        "plt.show()"
      ],
      "metadata": {
        "colab": {
          "base_uri": "https://localhost:8080/",
          "height": 0
        },
        "id": "u7qyjAqQzK_K",
        "outputId": "da7bfa42-1999-485c-98de-4d9d57e6fffd"
      },
      "execution_count": 623,
      "outputs": [
        {
          "output_type": "display_data",
          "data": {
            "text/plain": [
              "<Figure size 432x288 with 1 Axes>"
            ],
            "image/png": "[encoded data removed]"
          },
          "metadata": {}
        }
      ]
    },
    {
      "cell_type": "code",
      "source": [
        "figure = plt.figure(figsize=(12,6))\n",
        "cols, rows = 2,1\n",
        "\n",
        "# relation of Age and Survived  # 아기들의 생존 비율이 높다.\n",
        "figure.add_subplot(rows, cols, 1)\n",
        "train_df[train_df['Survived']==0].Age.plot.hist(bins=10)\n",
        "plt.title('Age and Dead')\n",
        "plt.xlabel('Age')\n",
        "plt.ylabel('')\n",
        "plt.ylim([0, 125])\n",
        "\n",
        "figure.add_subplot(rows, cols, 2)\n",
        "train_df[train_df['Survived']==1].Age.plot.hist(bins=10)\n",
        "plt.title('Age and Survived')\n",
        "plt.xlabel('Age')\n",
        "plt.ylabel('')\n",
        "plt.ylim([0, 125])\n",
        "\n",
        "plt.show()"
      ],
      "metadata": {
        "colab": {
          "base_uri": "https://localhost:8080/",
          "height": 0
        },
        "id": "13ni4nY_zSeq",
        "outputId": "354e9bbd-a71f-4ed4-bc21-5cc12c9f3ca1"
      },
      "execution_count": 624,
      "outputs": [
        {
          "output_type": "display_data",
          "data": {
            "text/plain": [
              "<Figure size 864x432 with 2 Axes>"
            ],
            "image/png": "[encoded data removed]"
          },
          "metadata": {}
        }
      ]
    },
    {
      "cell_type": "code",
      "source": [
        "figure = plt.figure(figsize=(12,6))\n",
        "cols, rows = 2,1\n",
        "\n",
        "# relation of SibSp and Survived    # 의외로 혼자 탄손님의 생존 비율이 낮고, 5명 이상 함께 탄 손님들은 모두 사망 하였다(여러명이 함께 타면 한명쯤은 생존할거 같은데...)\n",
        "figure.add_subplot(rows, cols, 1)\n",
        "sns.barplot('SibSp','Survived',data=train_df) \n",
        "plt.title('SibSp and Survived')\n",
        "plt.ylabel('Survived')\n",
        "\n",
        "# relation of SibSp and Pclass  # 이유 : 5명 이상 함께 탄 손님은 전부 3등급 객실 이용 \n",
        "figure.add_subplot(rows, cols, 2)\n",
        "sns.barplot('SibSp','Pclass',data=train_df)  \n",
        "plt.title('SibSp and Pclass')\n",
        "plt.ylabel('Pclass')\n",
        "\n",
        "plt.show()"
      ],
      "metadata": {
        "colab": {
          "base_uri": "https://localhost:8080/",
          "height": 0
        },
        "id": "lXbxQJs5z4hD",
        "outputId": "4f5b6a20-bed9-4eba-f0bc-6dafcf5120c9"
      },
      "execution_count": 625,
      "outputs": [
        {
          "output_type": "display_data",
          "data": {
            "text/plain": [
              "<Figure size 864x432 with 2 Axes>"
            ],
            "image/png": "[encoded data removed]"
          },
          "metadata": {}
        }
      ]
    },
    {
      "cell_type": "code",
      "source": [
        "figure = plt.figure(figsize=(12,6))\n",
        "cols, rows = 2,1\n",
        "\n",
        "# relation of Parch and Survived    # SibSp와 결과가 비슷 \n",
        "figure.add_subplot(rows, cols, 1)\n",
        "sns.barplot('Parch','Survived',data=train_df) \n",
        "plt.title('Parch and Survived')\n",
        "plt.ylabel('Survived')\n",
        "\n",
        "# relation of Parch and Pclass\n",
        "figure.add_subplot(rows, cols, 2)\n",
        "sns.barplot('Parch','Pclass',data=train_df)  \n",
        "plt.title('Parch and Pclass')\n",
        "plt.ylabel('Pclass')\n",
        "\n",
        "plt.show()"
      ],
      "metadata": {
        "colab": {
          "base_uri": "https://localhost:8080/",
          "height": 0
        },
        "id": "2XVljBJ10OqK",
        "outputId": "b1841c5b-2452-4b85-e4f2-de78c75a9fbb"
      },
      "execution_count": 626,
      "outputs": [
        {
          "output_type": "display_data",
          "data": {
            "text/plain": [
              "<Figure size 864x432 with 2 Axes>"
            ],
            "image/png": "[encoded data removed]"
          },
          "metadata": {}
        }
      ]
    },
    {
      "cell_type": "code",
      "source": [
        "figure = plt.figure(figsize=(12,6))\n",
        "cols, rows = 2,1\n",
        "\n",
        "# relation of Fare and Survived # 가격 저렴한 3등급 객실 손님이 많아 눈으로 비율을 비교하기 힘들다 해결방법은 모르겠다.\n",
        "figure.add_subplot(rows, cols, 1)\n",
        "train_df[train_df['Survived']==0].Fare.plot.hist(bins=10)\n",
        "plt.title('Fare and Dead')\n",
        "plt.xlabel('Fare')\n",
        "plt.ylabel('')\n",
        "plt.ylim([0, 500])\n",
        "\n",
        "figure.add_subplot(rows, cols, 2)\n",
        "train_df[train_df['Survived']==1].Fare.plot.hist(bins=10)\n",
        "plt.title('Fare and Survived')\n",
        "plt.xlabel('Fare')\n",
        "plt.ylabel('')\n",
        "plt.ylim([0, 500])\n",
        "\n",
        "plt.show()"
      ],
      "metadata": {
        "colab": {
          "base_uri": "https://localhost:8080/",
          "height": 0
        },
        "id": "vUXh5Qmm0eMj",
        "outputId": "c131151f-ca58-4c99-a246-4246a7f5d291"
      },
      "execution_count": 627,
      "outputs": [
        {
          "output_type": "display_data",
          "data": {
            "text/plain": [
              "<Figure size 864x432 with 2 Axes>"
            ],
            "image/png": "[encoded data removed]"
          },
          "metadata": {}
        }
      ]
    },
    {
      "cell_type": "code",
      "source": [
        "figure = plt.figure(figsize=(12,6))\n",
        "cols, rows = 2,1\n",
        "\n",
        "# relation of Embarked and Survived # C 항구에서 승선한 손님들의 생존 확률이 높다  \n",
        "figure.add_subplot(rows, cols, 1)\n",
        "sns.set_style('whitegrid')\n",
        "sns.countplot(data=train_df, x='Embarked', hue='Survived')\n",
        "plt.title('Embarked and Survived')\n",
        "plt.ylabel('')\n",
        "\n",
        "# relation of Embarked and Pclass   # C 항구의 객실 등급 평균이 낮다(좋은 객실에 탔다).\n",
        "figure.add_subplot(rows, cols, 2)\n",
        "sns.barplot('Embarked','Pclass',data=train_df)  \n",
        "plt.title('Embarked and Pclass')\n",
        "plt.ylabel('Pclass')\n",
        "\n",
        "plt.show()"
      ],
      "metadata": {
        "colab": {
          "base_uri": "https://localhost:8080/",
          "height": 0
        },
        "id": "tJ9VSY1p0qEC",
        "outputId": "4762ebcb-ec1c-48e6-a3c0-ba9be43f6ec8"
      },
      "execution_count": 628,
      "outputs": [
        {
          "output_type": "display_data",
          "data": {
            "text/plain": [
              "<Figure size 864x432 with 2 Axes>"
            ],
            "image/png": "[encoded data removed]"
          },
          "metadata": {}
        }
      ]
    },
    {
      "cell_type": "markdown",
      "source": [
        "# 데이터 전처리 "
      ],
      "metadata": {
        "id": "i-95LYcO-ivL"
      }
    },
    {
      "cell_type": "markdown",
      "source": [
        "* 전처리 하기전 결측지 부터 확인 "
      ],
      "metadata": {
        "id": "ZEUzFoik_D7u"
      }
    },
    {
      "cell_type": "code",
      "source": [
        "train_df.isnull().sum()"
      ],
      "metadata": {
        "colab": {
          "base_uri": "https://localhost:8080/"
        },
        "id": "zamaaQ3N-89Y",
        "outputId": "bb073b1d-6d7a-43fa-d627-8bc6a2bbaa04"
      },
      "execution_count": 629,
      "outputs": [
        {
          "output_type": "execute_result",
          "data": {
            "text/plain": [
              "PassengerId      0\n",
              "Survived         0\n",
              "Pclass           0\n",
              "Name             0\n",
              "Sex              0\n",
              "Age            177\n",
              "SibSp            0\n",
              "Parch            0\n",
              "Ticket           0\n",
              "Fare             0\n",
              "Embarked         2\n",
              "dtype: int64"
            ]
          },
          "metadata": {},
          "execution_count": 629
        }
      ]
    },
    {
      "cell_type": "markdown",
      "source": [
        "* 우선 age colunm에 결측치부터 채우자\n",
        "> * 사람의 이름을 기준으로 Age를 나눈다."
      ],
      "metadata": {
        "id": "9EYVqmGEBYD9"
      }
    },
    {
      "cell_type": "code",
      "source": [
        "train_df['Initial'] = train_df.Name.str.extract('([A-Za-z]+)\\.')    \n",
        "test_df['Initial'] = test_df.Name.str.extract('([A-Za-z]+)\\.')\n",
        "# A-Z 또는 a-z 사이에 있고 .(점)이 오는 문자열을 찾는다.\n",
        "# 중간에 위치한 title 찾는 코드 "
      ],
      "metadata": {
        "id": "Y32cUkj_A5Se"
      },
      "execution_count": 630,
      "outputs": []
    },
    {
      "cell_type": "code",
      "source": [
        "train_df[\"Initial\"]"
      ],
      "metadata": {
        "colab": {
          "base_uri": "https://localhost:8080/"
        },
        "id": "oyx5SyLFQkpc",
        "outputId": "efd235c0-d1c5-4f00-f1ad-55678f782206"
      },
      "execution_count": 631,
      "outputs": [
        {
          "output_type": "execute_result",
          "data": {
            "text/plain": [
              "0        Mr\n",
              "1       Mrs\n",
              "2      Miss\n",
              "3       Mrs\n",
              "4        Mr\n",
              "       ... \n",
              "886     Rev\n",
              "887    Miss\n",
              "888    Miss\n",
              "889      Mr\n",
              "890      Mr\n",
              "Name: Initial, Length: 891, dtype: object"
            ]
          },
          "metadata": {},
          "execution_count": 631
        }
      ]
    },
    {
      "cell_type": "code",
      "source": [
        "pd.crosstab(train_df.Initial,train_df.Sex).T.style.background_gradient(cmap = 'summer_r')"
      ],
      "metadata": {
        "colab": {
          "base_uri": "https://localhost:8080/",
          "height": 143
        },
        "id": "QMpOuYnhLvz0",
        "outputId": "cde21c26-fd75-41a7-c98a-987b6a481bb6"
      },
      "execution_count": 632,
      "outputs": [
        {
          "output_type": "execute_result",
          "data": {
            "text/plain": [
              "<pandas.io.formats.style.Styler at 0x7fe413850310>"
            ],
            "text/html": [
              "<style type=\"text/css\">\n",
              "#T_c9e46_row0_col0, #T_c9e46_row0_col1, #T_c9e46_row0_col3, #T_c9e46_row0_col4, #T_c9e46_row0_col5, #T_c9e46_row0_col7, #T_c9e46_row0_col8, #T_c9e46_row0_col12, #T_c9e46_row0_col15, #T_c9e46_row0_col16, #T_c9e46_row1_col2, #T_c9e46_row1_col6, #T_c9e46_row1_col9, #T_c9e46_row1_col10, #T_c9e46_row1_col11, #T_c9e46_row1_col13, #T_c9e46_row1_col14 {\n",
              "  background-color: #ffff66;\n",
              "  color: #000000;\n",
              "}\n",
              "#T_c9e46_row0_col2, #T_c9e46_row0_col6, #T_c9e46_row0_col9, #T_c9e46_row0_col10, #T_c9e46_row0_col11, #T_c9e46_row0_col13, #T_c9e46_row0_col14, #T_c9e46_row1_col0, #T_c9e46_row1_col1, #T_c9e46_row1_col3, #T_c9e46_row1_col4, #T_c9e46_row1_col5, #T_c9e46_row1_col7, #T_c9e46_row1_col8, #T_c9e46_row1_col12, #T_c9e46_row1_col15, #T_c9e46_row1_col16 {\n",
              "  background-color: #008066;\n",
              "  color: #f1f1f1;\n",
              "}\n",
              "</style>\n",
              "<table id=\"T_c9e46_\" class=\"dataframe\">\n",
              "  <thead>\n",
              "    <tr>\n",
              "      <th class=\"index_name level0\" >Initial</th>\n",
              "      <th class=\"col_heading level0 col0\" >Capt</th>\n",
              "      <th class=\"col_heading level0 col1\" >Col</th>\n",
              "      <th class=\"col_heading level0 col2\" >Countess</th>\n",
              "      <th class=\"col_heading level0 col3\" >Don</th>\n",
              "      <th class=\"col_heading level0 col4\" >Dr</th>\n",
              "      <th class=\"col_heading level0 col5\" >Jonkheer</th>\n",
              "      <th class=\"col_heading level0 col6\" >Lady</th>\n",
              "      <th class=\"col_heading level0 col7\" >Major</th>\n",
              "      <th class=\"col_heading level0 col8\" >Master</th>\n",
              "      <th class=\"col_heading level0 col9\" >Miss</th>\n",
              "      <th class=\"col_heading level0 col10\" >Mlle</th>\n",
              "      <th class=\"col_heading level0 col11\" >Mme</th>\n",
              "      <th class=\"col_heading level0 col12\" >Mr</th>\n",
              "      <th class=\"col_heading level0 col13\" >Mrs</th>\n",
              "      <th class=\"col_heading level0 col14\" >Ms</th>\n",
              "      <th class=\"col_heading level0 col15\" >Rev</th>\n",
              "      <th class=\"col_heading level0 col16\" >Sir</th>\n",
              "    </tr>\n",
              "    <tr>\n",
              "      <th class=\"index_name level0\" >Sex</th>\n",
              "      <th class=\"blank col0\" >&nbsp;</th>\n",
              "      <th class=\"blank col1\" >&nbsp;</th>\n",
              "      <th class=\"blank col2\" >&nbsp;</th>\n",
              "      <th class=\"blank col3\" >&nbsp;</th>\n",
              "      <th class=\"blank col4\" >&nbsp;</th>\n",
              "      <th class=\"blank col5\" >&nbsp;</th>\n",
              "      <th class=\"blank col6\" >&nbsp;</th>\n",
              "      <th class=\"blank col7\" >&nbsp;</th>\n",
              "      <th class=\"blank col8\" >&nbsp;</th>\n",
              "      <th class=\"blank col9\" >&nbsp;</th>\n",
              "      <th class=\"blank col10\" >&nbsp;</th>\n",
              "      <th class=\"blank col11\" >&nbsp;</th>\n",
              "      <th class=\"blank col12\" >&nbsp;</th>\n",
              "      <th class=\"blank col13\" >&nbsp;</th>\n",
              "      <th class=\"blank col14\" >&nbsp;</th>\n",
              "      <th class=\"blank col15\" >&nbsp;</th>\n",
              "      <th class=\"blank col16\" >&nbsp;</th>\n",
              "    </tr>\n",
              "  </thead>\n",
              "  <tbody>\n",
              "    <tr>\n",
              "      <th id=\"T_c9e46_level0_row0\" class=\"row_heading level0 row0\" >female</th>\n",
              "      <td id=\"T_c9e46_row0_col0\" class=\"data row0 col0\" >0</td>\n",
              "      <td id=\"T_c9e46_row0_col1\" class=\"data row0 col1\" >0</td>\n",
              "      <td id=\"T_c9e46_row0_col2\" class=\"data row0 col2\" >1</td>\n",
              "      <td id=\"T_c9e46_row0_col3\" class=\"data row0 col3\" >0</td>\n",
              "      <td id=\"T_c9e46_row0_col4\" class=\"data row0 col4\" >1</td>\n",
              "      <td id=\"T_c9e46_row0_col5\" class=\"data row0 col5\" >0</td>\n",
              "      <td id=\"T_c9e46_row0_col6\" class=\"data row0 col6\" >1</td>\n",
              "      <td id=\"T_c9e46_row0_col7\" class=\"data row0 col7\" >0</td>\n",
              "      <td id=\"T_c9e46_row0_col8\" class=\"data row0 col8\" >0</td>\n",
              "      <td id=\"T_c9e46_row0_col9\" class=\"data row0 col9\" >182</td>\n",
              "      <td id=\"T_c9e46_row0_col10\" class=\"data row0 col10\" >2</td>\n",
              "      <td id=\"T_c9e46_row0_col11\" class=\"data row0 col11\" >1</td>\n",
              "      <td id=\"T_c9e46_row0_col12\" class=\"data row0 col12\" >0</td>\n",
              "      <td id=\"T_c9e46_row0_col13\" class=\"data row0 col13\" >125</td>\n",
              "      <td id=\"T_c9e46_row0_col14\" class=\"data row0 col14\" >1</td>\n",
              "      <td id=\"T_c9e46_row0_col15\" class=\"data row0 col15\" >0</td>\n",
              "      <td id=\"T_c9e46_row0_col16\" class=\"data row0 col16\" >0</td>\n",
              "    </tr>\n",
              "    <tr>\n",
              "      <th id=\"T_c9e46_level0_row1\" class=\"row_heading level0 row1\" >male</th>\n",
              "      <td id=\"T_c9e46_row1_col0\" class=\"data row1 col0\" >1</td>\n",
              "      <td id=\"T_c9e46_row1_col1\" class=\"data row1 col1\" >2</td>\n",
              "      <td id=\"T_c9e46_row1_col2\" class=\"data row1 col2\" >0</td>\n",
              "      <td id=\"T_c9e46_row1_col3\" class=\"data row1 col3\" >1</td>\n",
              "      <td id=\"T_c9e46_row1_col4\" class=\"data row1 col4\" >6</td>\n",
              "      <td id=\"T_c9e46_row1_col5\" class=\"data row1 col5\" >1</td>\n",
              "      <td id=\"T_c9e46_row1_col6\" class=\"data row1 col6\" >0</td>\n",
              "      <td id=\"T_c9e46_row1_col7\" class=\"data row1 col7\" >2</td>\n",
              "      <td id=\"T_c9e46_row1_col8\" class=\"data row1 col8\" >40</td>\n",
              "      <td id=\"T_c9e46_row1_col9\" class=\"data row1 col9\" >0</td>\n",
              "      <td id=\"T_c9e46_row1_col10\" class=\"data row1 col10\" >0</td>\n",
              "      <td id=\"T_c9e46_row1_col11\" class=\"data row1 col11\" >0</td>\n",
              "      <td id=\"T_c9e46_row1_col12\" class=\"data row1 col12\" >517</td>\n",
              "      <td id=\"T_c9e46_row1_col13\" class=\"data row1 col13\" >0</td>\n",
              "      <td id=\"T_c9e46_row1_col14\" class=\"data row1 col14\" >0</td>\n",
              "      <td id=\"T_c9e46_row1_col15\" class=\"data row1 col15\" >6</td>\n",
              "      <td id=\"T_c9e46_row1_col16\" class=\"data row1 col16\" >1</td>\n",
              "    </tr>\n",
              "  </tbody>\n",
              "</table>\n"
            ]
          },
          "metadata": {},
          "execution_count": 632
        }
      ]
    },
    {
      "cell_type": "markdown",
      "source": [
        "* 여성은 Miss와 Mrs를 제일 많이 쓰고, 남성은 Mr와 Master를 많이 사용한다.\n",
        "> * 누락된 데이터 중에서 Miss와 Mrs, Mr와 Master를 title로 갖는 값에 어떤 값을 채워야 될까?\n",
        "> * 채워야 하는 값을 생각하기에 앞서, Miss, Mrs, Mr, Master와 같은 유의미하게 많은 데이터가 아닌 것들을 유의미한 데이터에 병합 시킨다.\n",
        "> * 여기서 Mlle과 mme은 Miss의 오타로 추정되기 때문에 Miss로 들어간다.  "
      ],
      "metadata": {
        "id": "IadEPFi6MKYb"
      }
    },
    {
      "cell_type": "code",
      "source": [
        "# title을 유의미한 데이터로 대체\n",
        "train_df['Initial'].replace(['Mlle','Mme','Ms','Dr','Major','Lady','Countess','Jonkheer','Col','Rev','Capt','Sir','Don'],['Miss','Miss','Miss','Mr','Mr','Mrs','Mrs','Other','Other','Other','Mr','Mr','Mr'],inplace=True)\n",
        "test_df['Initial'].replace(['Mlle','Mme','Ms','Dr','Major','Lady','Countess','Jonkheer','Col','Rev','Capt','Sir','Don'],['Miss','Miss','Miss','Mr','Mr','Mrs','Mrs','Other','Other','Other','Mr','Mr','Mr'],inplace=True)"
      ],
      "metadata": {
        "id": "cjmoTiuSOO-N"
      },
      "execution_count": 633,
      "outputs": []
    },
    {
      "cell_type": "code",
      "source": [
        "# 확인\n",
        "pd.crosstab(train_df.Initial,train_df.Sex).T.style.background_gradient(cmap = 'summer_r')"
      ],
      "metadata": {
        "colab": {
          "base_uri": "https://localhost:8080/",
          "height": 143
        },
        "id": "2frl9_roPFNk",
        "outputId": "7b148ba5-a7c1-4890-f3fa-b2f00a3ccd9f"
      },
      "execution_count": 634,
      "outputs": [
        {
          "output_type": "execute_result",
          "data": {
            "text/plain": [
              "<pandas.io.formats.style.Styler at 0x7fe41344bd50>"
            ],
            "text/html": [
              "<style type=\"text/css\">\n",
              "#T_3afbc_row0_col0, #T_3afbc_row0_col2, #T_3afbc_row0_col4, #T_3afbc_row1_col1, #T_3afbc_row1_col3 {\n",
              "  background-color: #ffff66;\n",
              "  color: #000000;\n",
              "}\n",
              "#T_3afbc_row0_col1, #T_3afbc_row0_col3, #T_3afbc_row1_col0, #T_3afbc_row1_col2, #T_3afbc_row1_col4 {\n",
              "  background-color: #008066;\n",
              "  color: #f1f1f1;\n",
              "}\n",
              "</style>\n",
              "<table id=\"T_3afbc_\" class=\"dataframe\">\n",
              "  <thead>\n",
              "    <tr>\n",
              "      <th class=\"index_name level0\" >Initial</th>\n",
              "      <th class=\"col_heading level0 col0\" >Master</th>\n",
              "      <th class=\"col_heading level0 col1\" >Miss</th>\n",
              "      <th class=\"col_heading level0 col2\" >Mr</th>\n",
              "      <th class=\"col_heading level0 col3\" >Mrs</th>\n",
              "      <th class=\"col_heading level0 col4\" >Other</th>\n",
              "    </tr>\n",
              "    <tr>\n",
              "      <th class=\"index_name level0\" >Sex</th>\n",
              "      <th class=\"blank col0\" >&nbsp;</th>\n",
              "      <th class=\"blank col1\" >&nbsp;</th>\n",
              "      <th class=\"blank col2\" >&nbsp;</th>\n",
              "      <th class=\"blank col3\" >&nbsp;</th>\n",
              "      <th class=\"blank col4\" >&nbsp;</th>\n",
              "    </tr>\n",
              "  </thead>\n",
              "  <tbody>\n",
              "    <tr>\n",
              "      <th id=\"T_3afbc_level0_row0\" class=\"row_heading level0 row0\" >female</th>\n",
              "      <td id=\"T_3afbc_row0_col0\" class=\"data row0 col0\" >0</td>\n",
              "      <td id=\"T_3afbc_row0_col1\" class=\"data row0 col1\" >186</td>\n",
              "      <td id=\"T_3afbc_row0_col2\" class=\"data row0 col2\" >1</td>\n",
              "      <td id=\"T_3afbc_row0_col3\" class=\"data row0 col3\" >127</td>\n",
              "      <td id=\"T_3afbc_row0_col4\" class=\"data row0 col4\" >0</td>\n",
              "    </tr>\n",
              "    <tr>\n",
              "      <th id=\"T_3afbc_level0_row1\" class=\"row_heading level0 row1\" >male</th>\n",
              "      <td id=\"T_3afbc_row1_col0\" class=\"data row1 col0\" >40</td>\n",
              "      <td id=\"T_3afbc_row1_col1\" class=\"data row1 col1\" >0</td>\n",
              "      <td id=\"T_3afbc_row1_col2\" class=\"data row1 col2\" >528</td>\n",
              "      <td id=\"T_3afbc_row1_col3\" class=\"data row1 col3\" >0</td>\n",
              "      <td id=\"T_3afbc_row1_col4\" class=\"data row1 col4\" >9</td>\n",
              "    </tr>\n",
              "  </tbody>\n",
              "</table>\n"
            ]
          },
          "metadata": {},
          "execution_count": 634
        }
      ]
    },
    {
      "cell_type": "code",
      "source": [
        "# Initial에 따라 나이 결측치를 평균값으로 넣으려고 한다. \n",
        "train_df.groupby(\"Initial\")[\"Age\"].mean()   # groupby : 그룹별로 데이터를 집계하는 매서드"
      ],
      "metadata": {
        "colab": {
          "base_uri": "https://localhost:8080/"
        },
        "id": "tq3Q5U-IQx8j",
        "outputId": "d895ca48-c701-42bd-ae56-fdfe98171f86"
      },
      "execution_count": 635,
      "outputs": [
        {
          "output_type": "execute_result",
          "data": {
            "text/plain": [
              "Initial\n",
              "Master     4.574167\n",
              "Miss      21.860000\n",
              "Mr        32.739609\n",
              "Mrs       35.981818\n",
              "Other     45.888889\n",
              "Name: Age, dtype: float64"
            ]
          },
          "metadata": {},
          "execution_count": 635
        }
      ]
    },
    {
      "cell_type": "code",
      "source": [
        "train_df.loc[(train_df.Age.isnull())&(train_df.Initial == 'Master'),\"Age\"] = 5     # loc(a,b) : a를 만족하는 b에서의 값\n",
        "train_df.loc[(train_df.Age.isnull())&(train_df.Initial == 'Miss'),\"Age\"] = 22\n",
        "train_df.loc[(train_df.Age.isnull())&(train_df.Initial == 'Mr'),\"Age\"] = 33\n",
        "train_df.loc[(train_df.Age.isnull())&(train_df.Initial == 'Mrs'),\"Age\"] = 36\n",
        "train_df.loc[(train_df.Age.isnull())&(train_df.Initial == 'Other'),\"Age\"] = 46\n",
        "\n",
        "test_df.loc[(test_df.Age.isnull())&(test_df.Initial == 'Master'),\"Age\"] = 5     # loc(a,b) : a를 만족하는 b에서의 값\n",
        "test_df.loc[(test_df.Age.isnull())&(test_df.Initial == 'Miss'),\"Age\"] = 22\n",
        "test_df.loc[(test_df.Age.isnull())&(test_df.Initial == 'Mr'),\"Age\"] = 33\n",
        "test_df.loc[(test_df.Age.isnull())&(test_df.Initial == 'Mrs'),\"Age\"] = 36\n",
        "test_df.loc[(test_df.Age.isnull())&(test_df.Initial == 'Other'),\"Age\"] = 46"
      ],
      "metadata": {
        "id": "F65gdunaSBgr"
      },
      "execution_count": 636,
      "outputs": []
    },
    {
      "cell_type": "markdown",
      "source": [
        "* Null 값이 없는지 확인 "
      ],
      "metadata": {
        "id": "Yv9v50JoUrDy"
      }
    },
    {
      "cell_type": "code",
      "source": [
        "train_df.Age.isnull().sum()"
      ],
      "metadata": {
        "colab": {
          "base_uri": "https://localhost:8080/"
        },
        "id": "2zCLRRzHUbC_",
        "outputId": "84ee269d-adf0-47f2-ceaf-ec91f8b53918"
      },
      "execution_count": 637,
      "outputs": [
        {
          "output_type": "execute_result",
          "data": {
            "text/plain": [
              "0"
            ]
          },
          "metadata": {},
          "execution_count": 637
        }
      ]
    },
    {
      "cell_type": "code",
      "source": [
        "test_df.Age.isnull().sum()"
      ],
      "metadata": {
        "colab": {
          "base_uri": "https://localhost:8080/"
        },
        "id": "RIzQHD9hUyaY",
        "outputId": "fde9fcba-1a57-4934-911d-d4a5879fcd0f"
      },
      "execution_count": 638,
      "outputs": [
        {
          "output_type": "execute_result",
          "data": {
            "text/plain": [
              "0"
            ]
          },
          "metadata": {},
          "execution_count": 638
        }
      ]
    },
    {
      "cell_type": "markdown",
      "source": [
        "* 이제 Embarked colunm을 채워 주자"
      ],
      "metadata": {
        "id": "8yv6ejdAU_2J"
      }
    },
    {
      "cell_type": "code",
      "source": [
        "train_df.Embarked.isnull().sum()"
      ],
      "metadata": {
        "colab": {
          "base_uri": "https://localhost:8080/"
        },
        "id": "yCosTaMYWuKv",
        "outputId": "7f0c2bf7-c547-4e52-8d77-965df20ff92e"
      },
      "execution_count": 639,
      "outputs": [
        {
          "output_type": "execute_result",
          "data": {
            "text/plain": [
              "2"
            ]
          },
          "metadata": {},
          "execution_count": 639
        }
      ]
    },
    {
      "cell_type": "code",
      "source": [
        "test_df.Embarked.isnull().sum()"
      ],
      "metadata": {
        "colab": {
          "base_uri": "https://localhost:8080/"
        },
        "id": "GqBePGiEWnfy",
        "outputId": "a88c3472-c45b-44ad-ff45-6f85c170c671"
      },
      "execution_count": 640,
      "outputs": [
        {
          "output_type": "execute_result",
          "data": {
            "text/plain": [
              "0"
            ]
          },
          "metadata": {},
          "execution_count": 640
        }
      ]
    },
    {
      "cell_type": "markdown",
      "source": [
        "* 결측치가 2개만 있으므로 가장 많은 S로 채워 주겠다."
      ],
      "metadata": {
        "id": "dDYWadzmWwrF"
      }
    },
    {
      "cell_type": "code",
      "source": [
        "train_df['Embarked'].value_counts()"
      ],
      "metadata": {
        "colab": {
          "base_uri": "https://localhost:8080/"
        },
        "id": "muUoEI__U38j",
        "outputId": "c1093d8b-770d-4c53-a69c-735fc77fa351"
      },
      "execution_count": 641,
      "outputs": [
        {
          "output_type": "execute_result",
          "data": {
            "text/plain": [
              "S    644\n",
              "C    168\n",
              "Q     77\n",
              "Name: Embarked, dtype: int64"
            ]
          },
          "metadata": {},
          "execution_count": 641
        }
      ]
    },
    {
      "cell_type": "code",
      "source": [
        "train_df[\"Embarked\"].fillna(\"S\",inplace = True)\n",
        "train_df.Embarked.isnull().sum()"
      ],
      "metadata": {
        "colab": {
          "base_uri": "https://localhost:8080/"
        },
        "id": "sCSOCt6kWwTK",
        "outputId": "bbfb8663-2fd1-4487-9231-9fa52686f234"
      },
      "execution_count": 642,
      "outputs": [
        {
          "output_type": "execute_result",
          "data": {
            "text/plain": [
              "0"
            ]
          },
          "metadata": {},
          "execution_count": 642
        }
      ]
    },
    {
      "cell_type": "markdown",
      "source": [
        "* 성별을 숫자로 변환"
      ],
      "metadata": {
        "id": "-Pik4SPRrZmP"
      }
    },
    {
      "cell_type": "code",
      "source": [
        "train_test_data = [train_df, test_df]\n",
        "\n",
        "sex_mapping = {\"male\":0, \"female\":1}\n",
        "for dataset in train_test_data:\n",
        "    dataset['Sex'] = dataset['Sex'].map(sex_mapping)"
      ],
      "metadata": {
        "id": "oywxvNvDrdTj"
      },
      "execution_count": 643,
      "outputs": []
    },
    {
      "cell_type": "markdown",
      "source": [
        "* 탑승지를 숫자로 변환"
      ],
      "metadata": {
        "id": "qimSfBdNrtCf"
      }
    },
    {
      "cell_type": "code",
      "source": [
        "embarked_mapping = {'S':0, 'C':1, 'Q':2}\n",
        "for dataset in train_test_data:\n",
        "    dataset['Embarked'] = dataset['Embarked'].map(embarked_mapping)"
      ],
      "metadata": {
        "id": "1qXVQkpprtCf"
      },
      "execution_count": 644,
      "outputs": []
    },
    {
      "cell_type": "markdown",
      "source": [
        "* test set 결측치 추가"
      ],
      "metadata": {
        "id": "x92iQbNNxxYh"
      }
    },
    {
      "cell_type": "code",
      "source": [
        "for dataset in train_test_data:\n",
        "    dataset[\"Fare\"].fillna(dataset.groupby(\"Pclass\")[\"Fare\"].transform(\"median\"), inplace=True)"
      ],
      "metadata": {
        "id": "vWGEQqpax1bK"
      },
      "execution_count": 645,
      "outputs": []
    },
    {
      "cell_type": "markdown",
      "source": [
        "# 모델 학습"
      ],
      "metadata": {
        "id": "B8tcSuB_Xf1Y"
      }
    },
    {
      "cell_type": "markdown",
      "source": [
        "* PassengerId는 승객들 연번에 불과 하므로 학습시키지 않는다.\n",
        "* Initial, Ticket, Name도 학습시키지 않는다."
      ],
      "metadata": {
        "id": "yV9lWz5kbg9g"
      }
    },
    {
      "cell_type": "code",
      "source": [
        "train_df.drop(columns = 'PassengerId', inplace = True)\n",
        "train_df.drop(columns = 'Initial', inplace = True)\n",
        "train_df.drop(columns = 'Ticket', inplace = True)\n",
        "train_df.drop(columns = 'Name', inplace = True)\n",
        "\n",
        "testPass = test_df['PassengerId']\n",
        "test_df.drop(columns = 'PassengerId', inplace = True)\n",
        "test_df.drop(columns = 'Initial', inplace = True)\n",
        "test_df.drop(columns = 'Ticket', inplace = True)\n",
        "test_df.drop(columns = 'Name', inplace = True)"
      ],
      "metadata": {
        "id": "a1J0h6DFaAUN"
      },
      "execution_count": 646,
      "outputs": []
    },
    {
      "cell_type": "code",
      "source": [
        "train_df.info()"
      ],
      "metadata": {
        "colab": {
          "base_uri": "https://localhost:8080/"
        },
        "id": "ZhlyotV0anIl",
        "outputId": "8e02d3f6-560f-4ec3-84f8-4b94395202e3"
      },
      "execution_count": 647,
      "outputs": [
        {
          "output_type": "stream",
          "name": "stdout",
          "text": [
            "<class 'pandas.core.frame.DataFrame'>\n",
            "RangeIndex: 891 entries, 0 to 890\n",
            "Data columns (total 8 columns):\n",
            " #   Column    Non-Null Count  Dtype  \n",
            "---  ------    --------------  -----  \n",
            " 0   Survived  891 non-null    int64  \n",
            " 1   Pclass    891 non-null    int64  \n",
            " 2   Sex       891 non-null    int64  \n",
            " 3   Age       891 non-null    float64\n",
            " 4   SibSp     891 non-null    int64  \n",
            " 5   Parch     891 non-null    int64  \n",
            " 6   Fare      891 non-null    float64\n",
            " 7   Embarked  891 non-null    int64  \n",
            "dtypes: float64(2), int64(6)\n",
            "memory usage: 55.8 KB\n"
          ]
        }
      ]
    },
    {
      "cell_type": "markdown",
      "source": [
        "* 우선 train set에서 label 분리 \n"
      ],
      "metadata": {
        "id": "DEAQtJtVZc6q"
      }
    },
    {
      "cell_type": "code",
      "source": [
        "train = train_df.drop(columns = 'Survived')\n",
        "y = train_df['Survived']"
      ],
      "metadata": {
        "id": "NXZ8OxybqXDm"
      },
      "execution_count": 648,
      "outputs": []
    },
    {
      "cell_type": "markdown",
      "source": [
        "* 스케일 조정"
      ],
      "metadata": {
        "id": "MRCGNiVRssRm"
      }
    },
    {
      "cell_type": "code",
      "source": [
        "from sklearn.preprocessing import StandardScaler\n",
        "\n",
        "scaler = StandardScaler()\n",
        "\n",
        "train_scaled = scaler.fit_transform(train)\n",
        "test_scaled = scaler.transform(test_df)"
      ],
      "metadata": {
        "id": "um6O7UlksvJJ"
      },
      "execution_count": 649,
      "outputs": []
    },
    {
      "cell_type": "code",
      "source": [
        "from sklearn.linear_model import SGDClassifier\n",
        "\n",
        "sgd_clf = SGDClassifier(random_state = 42)\n",
        "sgd_clf.fit(train_scaled,y)"
      ],
      "metadata": {
        "colab": {
          "base_uri": "https://localhost:8080/"
        },
        "id": "j7h_zMb5XlTT",
        "outputId": "1a1e7ec9-4cf9-4499-bc3a-987fa8326f01"
      },
      "execution_count": 650,
      "outputs": [
        {
          "output_type": "execute_result",
          "data": {
            "text/plain": [
              "SGDClassifier(random_state=42)"
            ]
          },
          "metadata": {},
          "execution_count": 650
        }
      ]
    },
    {
      "cell_type": "markdown",
      "source": [
        "* 성능 측정"
      ],
      "metadata": {
        "id": "dCE8RfPMct8F"
      }
    },
    {
      "cell_type": "code",
      "source": [
        "sgd_clf.score(train_scaled, y)"
      ],
      "metadata": {
        "colab": {
          "base_uri": "https://localhost:8080/"
        },
        "id": "6_6NeTGEupbm",
        "outputId": "4ac3b22c-2391-4e81-9f12-940ca296c240"
      },
      "execution_count": 651,
      "outputs": [
        {
          "output_type": "execute_result",
          "data": {
            "text/plain": [
              "0.8013468013468014"
            ]
          },
          "metadata": {},
          "execution_count": 651
        }
      ]
    },
    {
      "cell_type": "code",
      "source": [
        "from sklearn.svm import LinearSVC\n",
        "\n",
        "lin_svc = LinearSVC(random_state = 42)\n",
        "lin_svc.fit(train_scaled,y)"
      ],
      "metadata": {
        "colab": {
          "base_uri": "https://localhost:8080/"
        },
        "id": "dIAnlfy8pZz9",
        "outputId": "1b94d099-8700-490c-f567-d3bf5d967759"
      },
      "execution_count": 652,
      "outputs": [
        {
          "output_type": "execute_result",
          "data": {
            "text/plain": [
              "LinearSVC(random_state=42)"
            ]
          },
          "metadata": {},
          "execution_count": 652
        }
      ]
    },
    {
      "cell_type": "markdown",
      "source": [
        "* 성능 측정"
      ],
      "metadata": {
        "id": "ZgwAKSqAqKin"
      }
    },
    {
      "cell_type": "code",
      "source": [
        "lin_svc.score(train_scaled, y)"
      ],
      "metadata": {
        "outputId": "2af5e455-9ae2-4d94-c7ab-9a70ae8da306",
        "colab": {
          "base_uri": "https://localhost:8080/"
        },
        "id": "HQ1dOqsTqKiq"
      },
      "execution_count": 653,
      "outputs": [
        {
          "output_type": "execute_result",
          "data": {
            "text/plain": [
              "0.8002244668911336"
            ]
          },
          "metadata": {},
          "execution_count": 653
        }
      ]
    },
    {
      "cell_type": "code",
      "source": [
        "from sklearn.svm import SVC\n",
        "\n",
        "svc = SVC(random_state = 42)\n",
        "svc.fit(train_scaled,y)"
      ],
      "metadata": {
        "outputId": "85a540b2-39f4-41c8-e2a9-e8e96f307d2a",
        "colab": {
          "base_uri": "https://localhost:8080/"
        },
        "id": "-1uBSsqPvCkZ"
      },
      "execution_count": 654,
      "outputs": [
        {
          "output_type": "execute_result",
          "data": {
            "text/plain": [
              "SVC(random_state=42)"
            ]
          },
          "metadata": {},
          "execution_count": 654
        }
      ]
    },
    {
      "cell_type": "markdown",
      "source": [
        "* 성능 측정"
      ],
      "metadata": {
        "id": "4I7_uZYTvCkZ"
      }
    },
    {
      "cell_type": "code",
      "source": [
        "svc.score(train_scaled, y)"
      ],
      "metadata": {
        "outputId": "b3ce8e3d-c45d-472d-ab33-8896d7671ee1",
        "colab": {
          "base_uri": "https://localhost:8080/"
        },
        "id": "E7UW1jmMvCka"
      },
      "execution_count": 655,
      "outputs": [
        {
          "output_type": "execute_result",
          "data": {
            "text/plain": [
              "0.8473625140291807"
            ]
          },
          "metadata": {},
          "execution_count": 655
        }
      ]
    },
    {
      "cell_type": "markdown",
      "source": [
        "* SVC가 가장 높다.\n",
        "> * SVC의 가장 좋은 parameter을 찾아보자"
      ],
      "metadata": {
        "id": "hIdNCs2IvOFZ"
      }
    },
    {
      "cell_type": "code",
      "source": [
        "from sklearn.model_selection import RandomizedSearchCV\n",
        "from scipy.stats import reciprocal, uniform\n",
        "\n",
        "param_distributions = { \"gamma\": reciprocal(0.001, 0.1), \"C\": uniform(1, 10)}\n",
        "rnd_search_cv = RandomizedSearchCV(svc, param_distributions, n_iter=100, verbose=2, cv=3)\n",
        "rnd_search_cv.fit(train_scaled, y)"
      ],
      "metadata": {
        "colab": {
          "base_uri": "https://localhost:8080/"
        },
        "id": "eXnThFXIvjJW",
        "outputId": "3afe7b54-2d80-4028-ee3e-038b5d4be16d"
      },
      "execution_count": 656,
      "outputs": [
        {
          "output_type": "stream",
          "name": "stdout",
          "text": [
            "Fitting 3 folds for each of 100 candidates, totalling 300 fits\n",
            "[CV] END .....C=6.679284518710341, gamma=0.04935308253177325; total time=   0.0s\n",
            "[CV] END .....C=6.679284518710341, gamma=0.04935308253177325; total time=   0.0s\n",
            "[CV] END .....C=6.679284518710341, gamma=0.04935308253177325; total time=   0.0s\n",
            "[CV] END ....C=2.686697093256375, gamma=0.015461941089105211; total time=   0.0s\n",
            "[CV] END ....C=2.686697093256375, gamma=0.015461941089105211; total time=   0.0s\n",
            "[CV] END ....C=2.686697093256375, gamma=0.015461941089105211; total time=   0.0s\n",
            "[CV] END ...C=3.3151771941724677, gamma=0.058920210893834556; total time=   0.0s\n",
            "[CV] END ...C=3.3151771941724677, gamma=0.058920210893834556; total time=   0.0s\n",
            "[CV] END ...C=3.3151771941724677, gamma=0.058920210893834556; total time=   0.0s\n",
            "[CV] END ......C=8.49706392778891, gamma=0.02004816425776984; total time=   0.0s\n",
            "[CV] END ......C=8.49706392778891, gamma=0.02004816425776984; total time=   0.0s\n",
            "[CV] END ......C=8.49706392778891, gamma=0.02004816425776984; total time=   0.0s\n",
            "[CV] END ...C=4.641919752590543, gamma=0.0019117530639653068; total time=   0.0s\n",
            "[CV] END ...C=4.641919752590543, gamma=0.0019117530639653068; total time=   0.0s\n",
            "[CV] END ...C=4.641919752590543, gamma=0.0019117530639653068; total time=   0.0s\n",
            "[CV] END ....C=4.095328995361348, gamma=0.008700490495616981; total time=   0.0s\n",
            "[CV] END ....C=4.095328995361348, gamma=0.008700490495616981; total time=   0.0s\n",
            "[CV] END ....C=4.095328995361348, gamma=0.008700490495616981; total time=   0.0s\n",
            "[CV] END ..C=3.4253176495840476, gamma=0.0011614774268470529; total time=   0.0s\n",
            "[CV] END ..C=3.4253176495840476, gamma=0.0011614774268470529; total time=   0.0s\n",
            "[CV] END ..C=3.4253176495840476, gamma=0.0011614774268470529; total time=   0.0s\n",
            "[CV] END .....C=2.290736994611472, gamma=0.01118948984656689; total time=   0.0s\n",
            "[CV] END .....C=2.290736994611472, gamma=0.01118948984656689; total time=   0.0s\n",
            "[CV] END .....C=2.290736994611472, gamma=0.01118948984656689; total time=   0.0s\n",
            "[CV] END ......C=1.526855384123941, gamma=0.0814228733059736; total time=   0.0s\n",
            "[CV] END ......C=1.526855384123941, gamma=0.0814228733059736; total time=   0.0s\n",
            "[CV] END ......C=1.526855384123941, gamma=0.0814228733059736; total time=   0.0s\n",
            "[CV] END ....C=6.766962387157147, gamma=0.027593580972561826; total time=   0.0s\n",
            "[CV] END ....C=6.766962387157147, gamma=0.027593580972561826; total time=   0.0s\n",
            "[CV] END ....C=6.766962387157147, gamma=0.027593580972561826; total time=   0.0s\n",
            "[CV] END .....C=6.270564637861899, gamma=0.04954533815868618; total time=   0.0s\n",
            "[CV] END .....C=6.270564637861899, gamma=0.04954533815868618; total time=   0.0s\n",
            "[CV] END .....C=6.270564637861899, gamma=0.04954533815868618; total time=   0.0s\n",
            "[CV] END ...C=10.744976652578526, gamma=0.005790992349097061; total time=   0.0s\n",
            "[CV] END ...C=10.744976652578526, gamma=0.005790992349097061; total time=   0.0s\n",
            "[CV] END ...C=10.744976652578526, gamma=0.005790992349097061; total time=   0.0s\n",
            "[CV] END ...C=7.563909629402382, gamma=0.0010139494307459295; total time=   0.0s\n",
            "[CV] END ...C=7.563909629402382, gamma=0.0010139494307459295; total time=   0.0s\n",
            "[CV] END ...C=7.563909629402382, gamma=0.0010139494307459295; total time=   0.0s\n",
            "[CV] END ....C=1.5908032530301066, gamma=0.00104979824363426; total time=   0.0s\n",
            "[CV] END ....C=1.5908032530301066, gamma=0.00104979824363426; total time=   0.0s\n",
            "[CV] END ....C=1.5908032530301066, gamma=0.00104979824363426; total time=   0.0s\n",
            "[CV] END .....C=7.72092285654069, gamma=0.001039236843121959; total time=   0.0s\n",
            "[CV] END .....C=7.72092285654069, gamma=0.001039236843121959; total time=   0.0s\n",
            "[CV] END .....C=7.72092285654069, gamma=0.001039236843121959; total time=   0.0s\n",
            "[CV] END ..C=10.268563939318518, gamma=0.0016897031506596931; total time=   0.0s\n",
            "[CV] END ..C=10.268563939318518, gamma=0.0016897031506596931; total time=   0.0s\n",
            "[CV] END ..C=10.268563939318518, gamma=0.0016897031506596931; total time=   0.0s\n",
            "[CV] END ......C=9.690317325235618, gamma=0.0672948172952369; total time=   0.0s\n",
            "[CV] END ......C=9.690317325235618, gamma=0.0672948172952369; total time=   0.0s\n",
            "[CV] END ......C=9.690317325235618, gamma=0.0672948172952369; total time=   0.0s\n",
            "[CV] END ....C=7.528493451796446, gamma=0.004616515722562826; total time=   0.0s\n",
            "[CV] END ....C=7.528493451796446, gamma=0.004616515722562826; total time=   0.0s\n",
            "[CV] END ....C=7.528493451796446, gamma=0.004616515722562826; total time=   0.0s\n",
            "[CV] END .....C=9.47202014899472, gamma=0.005846524621703355; total time=   0.0s\n",
            "[CV] END .....C=9.47202014899472, gamma=0.005846524621703355; total time=   0.0s\n",
            "[CV] END .....C=9.47202014899472, gamma=0.005846524621703355; total time=   0.0s\n",
            "[CV] END ...C=1.1601257849575044, gamma=0.011370949750499766; total time=   0.0s\n",
            "[CV] END ...C=1.1601257849575044, gamma=0.011370949750499766; total time=   0.0s\n",
            "[CV] END ...C=1.1601257849575044, gamma=0.011370949750499766; total time=   0.0s\n",
            "[CV] END ....C=2.3980693627338914, gamma=0.04446070975686246; total time=   0.0s\n",
            "[CV] END ....C=2.3980693627338914, gamma=0.04446070975686246; total time=   0.0s\n",
            "[CV] END ....C=2.3980693627338914, gamma=0.04446070975686246; total time=   0.0s\n",
            "[CV] END ...C=4.6138442329107185, gamma=0.020073958991087267; total time=   0.0s\n",
            "[CV] END ...C=4.6138442329107185, gamma=0.020073958991087267; total time=   0.0s\n",
            "[CV] END ...C=4.6138442329107185, gamma=0.020073958991087267; total time=   0.0s\n",
            "[CV] END .....C=5.415398787524544, gamma=0.00225485732591006; total time=   0.0s\n",
            "[CV] END .....C=5.415398787524544, gamma=0.00225485732591006; total time=   0.0s\n",
            "[CV] END .....C=5.415398787524544, gamma=0.00225485732591006; total time=   0.0s\n",
            "[CV] END ...C=5.199441287945832, gamma=0.0024720391046409145; total time=   0.0s\n",
            "[CV] END ...C=5.199441287945832, gamma=0.0024720391046409145; total time=   0.0s\n",
            "[CV] END ...C=5.199441287945832, gamma=0.0024720391046409145; total time=   0.0s\n",
            "[CV] END .....C=4.313055018873859, gamma=0.06244345384848705; total time=   0.0s\n",
            "[CV] END .....C=4.313055018873859, gamma=0.06244345384848705; total time=   0.0s\n",
            "[CV] END .....C=4.313055018873859, gamma=0.06244345384848705; total time=   0.0s\n",
            "[CV] END ....C=4.431115823258527, gamma=0.014250277547173298; total time=   0.0s\n",
            "[CV] END ....C=4.431115823258527, gamma=0.014250277547173298; total time=   0.0s\n",
            "[CV] END ....C=4.431115823258527, gamma=0.014250277547173298; total time=   0.0s\n",
            "[CV] END .....C=9.900358758451288, gamma=0.07625815531682374; total time=   0.0s\n",
            "[CV] END .....C=9.900358758451288, gamma=0.07625815531682374; total time=   0.0s\n",
            "[CV] END .....C=9.900358758451288, gamma=0.07625815531682374; total time=   0.0s\n",
            "[CV] END ...C=3.0483231587831208, gamma=0.003720374659897378; total time=   0.0s\n",
            "[CV] END ...C=3.0483231587831208, gamma=0.003720374659897378; total time=   0.0s\n",
            "[CV] END ...C=3.0483231587831208, gamma=0.003720374659897378; total time=   0.0s\n",
            "[CV] END ..C=1.5218194871622062, gamma=0.0011367964907254256; total time=   0.0s\n",
            "[CV] END ..C=1.5218194871622062, gamma=0.0011367964907254256; total time=   0.0s\n",
            "[CV] END ..C=1.5218194871622062, gamma=0.0011367964907254256; total time=   0.0s\n",
            "[CV] END ....C=8.102541080894957, gamma=0.026283827771749077; total time=   0.0s\n",
            "[CV] END ....C=8.102541080894957, gamma=0.026283827771749077; total time=   0.0s\n",
            "[CV] END ....C=8.102541080894957, gamma=0.026283827771749077; total time=   0.0s\n",
            "[CV] END ....C=6.244710938872702, gamma=0.007559518349979597; total time=   0.0s\n",
            "[CV] END ....C=6.244710938872702, gamma=0.007559518349979597; total time=   0.0s\n",
            "[CV] END ....C=6.244710938872702, gamma=0.007559518349979597; total time=   0.0s\n",
            "[CV] END ....C=7.751462701272287, gamma=0.027556022174219583; total time=   0.0s\n",
            "[CV] END ....C=7.751462701272287, gamma=0.027556022174219583; total time=   0.0s\n",
            "[CV] END ....C=7.751462701272287, gamma=0.027556022174219583; total time=   0.0s\n",
            "[CV] END .....C=2.925456702711993, gamma=0.01319916898489555; total time=   0.0s\n",
            "[CV] END .....C=2.925456702711993, gamma=0.01319916898489555; total time=   0.0s\n",
            "[CV] END .....C=2.925456702711993, gamma=0.01319916898489555; total time=   0.0s\n",
            "[CV] END ...C=1.9254812524714784, gamma=0.016567895097925653; total time=   0.0s\n",
            "[CV] END ...C=1.9254812524714784, gamma=0.016567895097925653; total time=   0.0s\n",
            "[CV] END ...C=1.9254812524714784, gamma=0.016567895097925653; total time=   0.0s\n",
            "[CV] END .....C=2.3874435068363056, gamma=0.0850664155010882; total time=   0.0s\n",
            "[CV] END .....C=2.3874435068363056, gamma=0.0850664155010882; total time=   0.0s\n",
            "[CV] END .....C=2.3874435068363056, gamma=0.0850664155010882; total time=   0.0s\n",
            "[CV] END .....C=6.642458549542989, gamma=0.02053920181316168; total time=   0.0s\n",
            "[CV] END .....C=6.642458549542989, gamma=0.02053920181316168; total time=   0.0s\n",
            "[CV] END .....C=6.642458549542989, gamma=0.02053920181316168; total time=   0.0s\n",
            "[CV] END ...C=8.931973622067712, gamma=0.0010958820722187467; total time=   0.0s\n",
            "[CV] END ...C=8.931973622067712, gamma=0.0010958820722187467; total time=   0.0s\n",
            "[CV] END ...C=8.931973622067712, gamma=0.0010958820722187467; total time=   0.0s\n",
            "[CV] END ....C=4.763644710854756, gamma=0.027093683073385787; total time=   0.0s\n",
            "[CV] END ....C=4.763644710854756, gamma=0.027093683073385787; total time=   0.0s\n",
            "[CV] END ....C=4.763644710854756, gamma=0.027093683073385787; total time=   0.0s\n",
            "[CV] END ...C=1.1433604131216515, gamma=0.017247386242832174; total time=   0.0s\n",
            "[CV] END ...C=1.1433604131216515, gamma=0.017247386242832174; total time=   0.0s\n",
            "[CV] END ...C=1.1433604131216515, gamma=0.017247386242832174; total time=   0.0s\n",
            "[CV] END ....C=3.0654358469456966, gamma=0.05115094917596563; total time=   0.0s\n",
            "[CV] END ....C=3.0654358469456966, gamma=0.05115094917596563; total time=   0.0s\n",
            "[CV] END ....C=3.0654358469456966, gamma=0.05115094917596563; total time=   0.0s\n",
            "[CV] END ....C=4.743395594018269, gamma=0.009971103813427527; total time=   0.0s\n",
            "[CV] END ....C=4.743395594018269, gamma=0.009971103813427527; total time=   0.0s\n",
            "[CV] END ....C=4.743395594018269, gamma=0.009971103813427527; total time=   0.0s\n",
            "[CV] END ....C=9.838369264964617, gamma=0.005988229753920805; total time=   0.0s\n",
            "[CV] END ....C=9.838369264964617, gamma=0.005988229753920805; total time=   0.0s\n",
            "[CV] END ....C=9.838369264964617, gamma=0.005988229753920805; total time=   0.0s\n",
            "[CV] END ....C=5.637279961773105, gamma=0.021039384891886156; total time=   0.0s\n",
            "[CV] END ....C=5.637279961773105, gamma=0.021039384891886156; total time=   0.0s\n",
            "[CV] END ....C=5.637279961773105, gamma=0.021039384891886156; total time=   0.0s\n",
            "[CV] END ...C=5.1376973821807495, gamma=0.017608571536075573; total time=   0.0s\n",
            "[CV] END ...C=5.1376973821807495, gamma=0.017608571536075573; total time=   0.0s\n",
            "[CV] END ...C=5.1376973821807495, gamma=0.017608571536075573; total time=   0.0s\n",
            "[CV] END ....C=7.665308910565267, gamma=0.003960799760090599; total time=   0.0s\n",
            "[CV] END ....C=7.665308910565267, gamma=0.003960799760090599; total time=   0.0s\n",
            "[CV] END ....C=7.665308910565267, gamma=0.003960799760090599; total time=   0.0s\n",
            "[CV] END ....C=9.706501434917154, gamma=0.010155248064778988; total time=   0.0s\n",
            "[CV] END ....C=9.706501434917154, gamma=0.010155248064778988; total time=   0.0s\n",
            "[CV] END ....C=9.706501434917154, gamma=0.010155248064778988; total time=   0.0s\n",
            "[CV] END ......C=4.175257065357502, gamma=0.0458325098685287; total time=   0.0s\n",
            "[CV] END ......C=4.175257065357502, gamma=0.0458325098685287; total time=   0.0s\n",
            "[CV] END ......C=4.175257065357502, gamma=0.0458325098685287; total time=   0.0s\n",
            "[CV] END ....C=5.624918894088115, gamma=0.003856002611301593; total time=   0.0s\n",
            "[CV] END ....C=5.624918894088115, gamma=0.003856002611301593; total time=   0.0s\n",
            "[CV] END ....C=5.624918894088115, gamma=0.003856002611301593; total time=   0.0s\n",
            "[CV] END ....C=3.789581451935109, gamma=0.012826772349620777; total time=   0.0s\n",
            "[CV] END ....C=3.789581451935109, gamma=0.012826772349620777; total time=   0.0s\n",
            "[CV] END ....C=3.789581451935109, gamma=0.012826772349620777; total time=   0.0s\n",
            "[CV] END ....C=4.984712585416173, gamma=0.022003385570610174; total time=   0.0s\n",
            "[CV] END ....C=4.984712585416173, gamma=0.022003385570610174; total time=   0.0s\n",
            "[CV] END ....C=4.984712585416173, gamma=0.022003385570610174; total time=   0.0s\n",
            "[CV] END .....C=2.026626465148518, gamma=0.03600731462604689; total time=   0.0s\n",
            "[CV] END .....C=2.026626465148518, gamma=0.03600731462604689; total time=   0.0s\n",
            "[CV] END .....C=2.026626465148518, gamma=0.03600731462604689; total time=   0.0s\n",
            "[CV] END ....C=4.891828896177935, gamma=0.033846022166232254; total time=   0.0s\n",
            "[CV] END ....C=4.891828896177935, gamma=0.033846022166232254; total time=   0.0s\n",
            "[CV] END ....C=4.891828896177935, gamma=0.033846022166232254; total time=   0.0s\n",
            "[CV] END ....C=4.669829192873807, gamma=0.009413973893106482; total time=   0.0s\n",
            "[CV] END ....C=4.669829192873807, gamma=0.009413973893106482; total time=   0.0s\n",
            "[CV] END ....C=4.669829192873807, gamma=0.009413973893106482; total time=   0.0s\n",
            "[CV] END ....C=8.312569988275564, gamma=0.006045625519656611; total time=   0.0s\n",
            "[CV] END ....C=8.312569988275564, gamma=0.006045625519656611; total time=   0.0s\n",
            "[CV] END ....C=8.312569988275564, gamma=0.006045625519656611; total time=   0.0s\n",
            "[CV] END ....C=7.988613266786365, gamma=0.040855392195007216; total time=   0.0s\n",
            "[CV] END ....C=7.988613266786365, gamma=0.040855392195007216; total time=   0.0s\n",
            "[CV] END ....C=7.988613266786365, gamma=0.040855392195007216; total time=   0.0s\n",
            "[CV] END .....C=8.353179492104971, gamma=0.06606341312172236; total time=   0.0s\n",
            "[CV] END .....C=8.353179492104971, gamma=0.06606341312172236; total time=   0.0s\n",
            "[CV] END .....C=8.353179492104971, gamma=0.06606341312172236; total time=   0.0s\n",
            "[CV] END ....C=7.6292358938543705, gamma=0.04302796004638102; total time=   0.0s\n",
            "[CV] END ....C=7.6292358938543705, gamma=0.04302796004638102; total time=   0.0s\n",
            "[CV] END ....C=7.6292358938543705, gamma=0.04302796004638102; total time=   0.0s\n",
            "[CV] END ...C=9.249636667016809, gamma=0.0017987530800214217; total time=   0.0s\n",
            "[CV] END ...C=9.249636667016809, gamma=0.0017987530800214217; total time=   0.0s\n",
            "[CV] END ...C=9.249636667016809, gamma=0.0017987530800214217; total time=   0.0s\n",
            "[CV] END .....C=9.768550499255555, gamma=0.08727196254604376; total time=   0.0s\n",
            "[CV] END .....C=9.768550499255555, gamma=0.08727196254604376; total time=   0.0s\n",
            "[CV] END .....C=9.768550499255555, gamma=0.08727196254604376; total time=   0.0s\n",
            "[CV] END ....C=7.0569748440548645, gamma=0.05054431373994754; total time=   0.0s\n",
            "[CV] END ....C=7.0569748440548645, gamma=0.05054431373994754; total time=   0.0s\n",
            "[CV] END ....C=7.0569748440548645, gamma=0.05054431373994754; total time=   0.0s\n",
            "[CV] END ...C=1.546643263115838, gamma=0.0014197059726978607; total time=   0.0s\n",
            "[CV] END ...C=1.546643263115838, gamma=0.0014197059726978607; total time=   0.0s\n",
            "[CV] END ...C=1.546643263115838, gamma=0.0014197059726978607; total time=   0.0s\n",
            "[CV] END .....C=3.965179962411465, gamma=0.03841300896667665; total time=   0.0s\n",
            "[CV] END .....C=3.965179962411465, gamma=0.03841300896667665; total time=   0.0s\n",
            "[CV] END .....C=3.965179962411465, gamma=0.03841300896667665; total time=   0.0s\n",
            "[CV] END ...C=6.3813408716927285, gamma=0.009498513207104809; total time=   0.0s\n",
            "[CV] END ...C=6.3813408716927285, gamma=0.009498513207104809; total time=   0.0s\n",
            "[CV] END ...C=6.3813408716927285, gamma=0.009498513207104809; total time=   0.0s\n",
            "[CV] END .....C=8.50610201868487, gamma=0.012553000118585659; total time=   0.0s\n",
            "[CV] END .....C=8.50610201868487, gamma=0.012553000118585659; total time=   0.0s\n",
            "[CV] END .....C=8.50610201868487, gamma=0.012553000118585659; total time=   0.0s\n",
            "[CV] END ...C=7.557703813760055, gamma=0.0026165814773022543; total time=   0.0s\n",
            "[CV] END ...C=7.557703813760055, gamma=0.0026165814773022543; total time=   0.0s\n",
            "[CV] END ...C=7.557703813760055, gamma=0.0026165814773022543; total time=   0.0s\n",
            "[CV] END ..C=10.348706000697414, gamma=0.0017516680898538627; total time=   0.0s\n",
            "[CV] END ..C=10.348706000697414, gamma=0.0017516680898538627; total time=   0.0s\n",
            "[CV] END ..C=10.348706000697414, gamma=0.0017516680898538627; total time=   0.0s\n",
            "[CV] END ..C=3.1405396190727943, gamma=0.0013624573984364213; total time=   0.0s\n",
            "[CV] END ..C=3.1405396190727943, gamma=0.0013624573984364213; total time=   0.0s\n",
            "[CV] END ..C=3.1405396190727943, gamma=0.0013624573984364213; total time=   0.0s\n",
            "[CV] END .....C=6.2626290391383, gamma=0.0012252821309768093; total time=   0.0s\n",
            "[CV] END .....C=6.2626290391383, gamma=0.0012252821309768093; total time=   0.0s\n",
            "[CV] END .....C=6.2626290391383, gamma=0.0012252821309768093; total time=   0.0s\n",
            "[CV] END .....C=2.858212344006529, gamma=0.00243688321584645; total time=   0.0s\n",
            "[CV] END .....C=2.858212344006529, gamma=0.00243688321584645; total time=   0.0s\n",
            "[CV] END .....C=2.858212344006529, gamma=0.00243688321584645; total time=   0.0s\n",
            "[CV] END ...C=1.1919559966110673, gamma=0.048451814417172986; total time=   0.0s\n",
            "[CV] END ...C=1.1919559966110673, gamma=0.048451814417172986; total time=   0.0s\n",
            "[CV] END ...C=1.1919559966110673, gamma=0.048451814417172986; total time=   0.0s\n",
            "[CV] END ...C=8.557346020331522, gamma=0.0015365280431296228; total time=   0.0s\n",
            "[CV] END ...C=8.557346020331522, gamma=0.0015365280431296228; total time=   0.0s\n",
            "[CV] END ...C=8.557346020331522, gamma=0.0015365280431296228; total time=   0.0s\n",
            "[CV] END ...C=4.246534244744579, gamma=0.0031083566545485187; total time=   0.0s\n",
            "[CV] END ...C=4.246534244744579, gamma=0.0031083566545485187; total time=   0.0s\n",
            "[CV] END ...C=4.246534244744579, gamma=0.0031083566545485187; total time=   0.0s\n",
            "[CV] END ..C=3.5690406298435464, gamma=0.0010386949832032024; total time=   0.0s\n",
            "[CV] END ..C=3.5690406298435464, gamma=0.0010386949832032024; total time=   0.0s\n",
            "[CV] END ..C=3.5690406298435464, gamma=0.0010386949832032024; total time=   0.0s\n",
            "[CV] END ..C=2.3060525047467353, gamma=0.0012471864867535192; total time=   0.0s\n",
            "[CV] END ..C=2.3060525047467353, gamma=0.0012471864867535192; total time=   0.0s\n",
            "[CV] END ..C=2.3060525047467353, gamma=0.0012471864867535192; total time=   0.0s\n",
            "[CV] END .....C=10.48304472533586, gamma=0.05239687913240514; total time=   0.0s\n",
            "[CV] END .....C=10.48304472533586, gamma=0.05239687913240514; total time=   0.0s\n",
            "[CV] END .....C=10.48304472533586, gamma=0.05239687913240514; total time=   0.0s\n",
            "[CV] END ...C=3.8514164931302544, gamma=0.001853015561586788; total time=   0.0s\n",
            "[CV] END ...C=3.8514164931302544, gamma=0.001853015561586788; total time=   0.0s\n",
            "[CV] END ...C=3.8514164931302544, gamma=0.001853015561586788; total time=   0.0s\n",
            "[CV] END ...C=1.6125512326276472, gamma=0.032662847911607056; total time=   0.0s\n",
            "[CV] END ...C=1.6125512326276472, gamma=0.032662847911607056; total time=   0.0s\n",
            "[CV] END ...C=1.6125512326276472, gamma=0.032662847911607056; total time=   0.0s\n",
            "[CV] END ...C=10.112122232080512, gamma=0.013233114097027609; total time=   0.0s\n",
            "[CV] END ...C=10.112122232080512, gamma=0.013233114097027609; total time=   0.0s\n",
            "[CV] END ...C=10.112122232080512, gamma=0.013233114097027609; total time=   0.0s\n",
            "[CV] END ....C=4.561546696212956, gamma=0.011453612404346804; total time=   0.0s\n",
            "[CV] END ....C=4.561546696212956, gamma=0.011453612404346804; total time=   0.0s\n",
            "[CV] END ....C=4.561546696212956, gamma=0.011453612404346804; total time=   0.0s\n",
            "[CV] END ....C=10.86454204032786, gamma=0.035577214353477354; total time=   0.0s\n",
            "[CV] END ....C=10.86454204032786, gamma=0.035577214353477354; total time=   0.0s\n",
            "[CV] END ....C=10.86454204032786, gamma=0.035577214353477354; total time=   0.0s\n",
            "[CV] END .....C=8.406169205128416, gamma=0.00111243170744792; total time=   0.0s\n",
            "[CV] END .....C=8.406169205128416, gamma=0.00111243170744792; total time=   0.0s\n",
            "[CV] END .....C=8.406169205128416, gamma=0.00111243170744792; total time=   0.0s\n",
            "[CV] END ......C=9.230937978279444, gamma=0.0823549545124002; total time=   0.0s\n",
            "[CV] END ......C=9.230937978279444, gamma=0.0823549545124002; total time=   0.0s\n",
            "[CV] END ......C=9.230937978279444, gamma=0.0823549545124002; total time=   0.0s\n",
            "[CV] END .....C=8.091309846644439, gamma=0.01600906307547534; total time=   0.0s\n",
            "[CV] END .....C=8.091309846644439, gamma=0.01600906307547534; total time=   0.0s\n",
            "[CV] END .....C=8.091309846644439, gamma=0.01600906307547534; total time=   0.0s\n",
            "[CV] END .....C=1.9317953869689055, gamma=0.0111329810414227; total time=   0.0s\n",
            "[CV] END .....C=1.9317953869689055, gamma=0.0111329810414227; total time=   0.0s\n",
            "[CV] END .....C=1.9317953869689055, gamma=0.0111329810414227; total time=   0.0s\n",
            "[CV] END ....C=5.03986490906136, gamma=0.0030764000045262205; total time=   0.0s\n",
            "[CV] END ....C=5.03986490906136, gamma=0.0030764000045262205; total time=   0.0s\n",
            "[CV] END ....C=5.03986490906136, gamma=0.0030764000045262205; total time=   0.0s\n",
            "[CV] END ...C=5.6116669746526515, gamma=0.050977452875608634; total time=   0.0s\n",
            "[CV] END ...C=5.6116669746526515, gamma=0.050977452875608634; total time=   0.0s\n",
            "[CV] END ...C=5.6116669746526515, gamma=0.050977452875608634; total time=   0.0s\n",
            "[CV] END ....C=6.630755276334368, gamma=0.011734454212601973; total time=   0.0s\n",
            "[CV] END ....C=6.630755276334368, gamma=0.011734454212601973; total time=   0.0s\n",
            "[CV] END ....C=6.630755276334368, gamma=0.011734454212601973; total time=   0.0s\n",
            "[CV] END .....C=9.934725088817249, gamma=0.07256860406199431; total time=   0.0s\n",
            "[CV] END .....C=9.934725088817249, gamma=0.07256860406199431; total time=   0.0s\n",
            "[CV] END .....C=9.934725088817249, gamma=0.07256860406199431; total time=   0.0s\n",
            "[CV] END .....C=3.030468622515661, gamma=0.01960442805094685; total time=   0.0s\n",
            "[CV] END .....C=3.030468622515661, gamma=0.01960442805094685; total time=   0.0s\n",
            "[CV] END .....C=3.030468622515661, gamma=0.01960442805094685; total time=   0.0s\n",
            "[CV] END ...C=4.318847358755727, gamma=0.0016598194904612733; total time=   0.0s\n",
            "[CV] END ...C=4.318847358755727, gamma=0.0016598194904612733; total time=   0.0s\n",
            "[CV] END ...C=4.318847358755727, gamma=0.0016598194904612733; total time=   0.0s\n",
            "[CV] END ....C=2.317154624490465, gamma=0.021358514944935614; total time=   0.0s\n",
            "[CV] END ....C=2.317154624490465, gamma=0.021358514944935614; total time=   0.0s\n",
            "[CV] END ....C=2.317154624490465, gamma=0.021358514944935614; total time=   0.0s\n",
            "[CV] END .....C=9.940912675090763, gamma=0.07763747631984831; total time=   0.0s\n",
            "[CV] END .....C=9.940912675090763, gamma=0.07763747631984831; total time=   0.0s\n",
            "[CV] END .....C=9.940912675090763, gamma=0.07763747631984831; total time=   0.0s\n",
            "[CV] END ....C=7.654204261473977, gamma=0.028654246066788375; total time=   0.0s\n",
            "[CV] END ....C=7.654204261473977, gamma=0.028654246066788375; total time=   0.0s\n",
            "[CV] END ....C=7.654204261473977, gamma=0.028654246066788375; total time=   0.0s\n",
            "[CV] END ...C=7.288026325039537, gamma=0.0010548192569958513; total time=   0.0s\n",
            "[CV] END ...C=7.288026325039537, gamma=0.0010548192569958513; total time=   0.0s\n",
            "[CV] END ...C=7.288026325039537, gamma=0.0010548192569958513; total time=   0.0s\n",
            "[CV] END ...C=5.466636484526012, gamma=0.0013767278152020815; total time=   0.0s\n",
            "[CV] END ...C=5.466636484526012, gamma=0.0013767278152020815; total time=   0.0s\n",
            "[CV] END ...C=5.466636484526012, gamma=0.0013767278152020815; total time=   0.0s\n",
            "[CV] END ....C=6.685354664022821, gamma=0.006443820085296767; total time=   0.0s\n",
            "[CV] END ....C=6.685354664022821, gamma=0.006443820085296767; total time=   0.0s\n",
            "[CV] END ....C=6.685354664022821, gamma=0.006443820085296767; total time=   0.0s\n",
            "[CV] END ...C=3.7342731001446205, gamma=0.007498560308096987; total time=   0.0s\n",
            "[CV] END ...C=3.7342731001446205, gamma=0.007498560308096987; total time=   0.0s\n",
            "[CV] END ...C=3.7342731001446205, gamma=0.007498560308096987; total time=   0.0s\n",
            "[CV] END ....C=8.718092759638326, gamma=0.004997759732646484; total time=   0.0s\n",
            "[CV] END ....C=8.718092759638326, gamma=0.004997759732646484; total time=   0.0s\n",
            "[CV] END ....C=8.718092759638326, gamma=0.004997759732646484; total time=   0.0s\n",
            "[CV] END ...C=10.285988672014074, gamma=0.004200546687004829; total time=   0.0s\n",
            "[CV] END ...C=10.285988672014074, gamma=0.004200546687004829; total time=   0.0s\n",
            "[CV] END ...C=10.285988672014074, gamma=0.004200546687004829; total time=   0.0s\n",
            "[CV] END ...C=2.7457125786163594, gamma=0.008262030194738505; total time=   0.0s\n",
            "[CV] END ...C=2.7457125786163594, gamma=0.008262030194738505; total time=   0.0s\n",
            "[CV] END ...C=2.7457125786163594, gamma=0.008262030194738505; total time=   0.0s\n"
          ]
        },
        {
          "output_type": "execute_result",
          "data": {
            "text/plain": [
              "RandomizedSearchCV(cv=3, estimator=SVC(random_state=42), n_iter=100,\n",
              "                   param_distributions={'C': <scipy.stats._distn_infrastructure.rv_frozen object at 0x7fe41311db90>,\n",
              "                                        'gamma': <scipy.stats._distn_infrastructure.rv_frozen object at 0x7fe4131bd1d0>},\n",
              "                   verbose=2)"
            ]
          },
          "metadata": {},
          "execution_count": 656
        }
      ]
    },
    {
      "cell_type": "code",
      "source": [
        "rnd_search_cv.best_estimator_"
      ],
      "metadata": {
        "colab": {
          "base_uri": "https://localhost:8080/"
        },
        "id": "BcDqZ96mwGQ5",
        "outputId": "924b1d65-d9d7-4e4c-b630-6ff8a4e81748"
      },
      "execution_count": 657,
      "outputs": [
        {
          "output_type": "execute_result",
          "data": {
            "text/plain": [
              "SVC(C=4.175257065357502, gamma=0.0458325098685287, random_state=42)"
            ]
          },
          "metadata": {},
          "execution_count": 657
        }
      ]
    },
    {
      "cell_type": "code",
      "source": [
        "rnd_search_cv.best_estimator_.fit(train_scaled, y)"
      ],
      "metadata": {
        "colab": {
          "base_uri": "https://localhost:8080/"
        },
        "id": "HRhclm8ewSnS",
        "outputId": "dc73b281-d315-4f0b-83c6-0140e0c12584"
      },
      "execution_count": 658,
      "outputs": [
        {
          "output_type": "execute_result",
          "data": {
            "text/plain": [
              "SVC(C=4.175257065357502, gamma=0.0458325098685287, random_state=42)"
            ]
          },
          "metadata": {},
          "execution_count": 658
        }
      ]
    },
    {
      "cell_type": "code",
      "source": [
        "rnd_search_cv.best_estimator_.score(train_scaled, y)"
      ],
      "metadata": {
        "colab": {
          "base_uri": "https://localhost:8080/"
        },
        "id": "BMCOLKL7wZzN",
        "outputId": "e08e3c47-d25a-470b-c831-aa676debeeae"
      },
      "execution_count": 659,
      "outputs": [
        {
          "output_type": "execute_result",
          "data": {
            "text/plain": [
              "0.8439955106621774"
            ]
          },
          "metadata": {},
          "execution_count": 659
        }
      ]
    },
    {
      "cell_type": "markdown",
      "source": [
        "* svc가 가장 높다!"
      ],
      "metadata": {
        "id": "zPRiZwK3w4Ec"
      }
    },
    {
      "cell_type": "markdown",
      "source": [
        "* test set 모델 예측"
      ],
      "metadata": {
        "id": "6loTEqKazUM5"
      }
    },
    {
      "cell_type": "code",
      "source": [
        "y_pred = rnd_search_cv.best_estimator_.predict(test_scaled)"
      ],
      "metadata": {
        "id": "UfLhCAwFw7pp"
      },
      "execution_count": 660,
      "outputs": []
    },
    {
      "cell_type": "markdown",
      "source": [
        "* csv파일 저장"
      ],
      "metadata": {
        "id": "H1CqdKV7za0G"
      }
    },
    {
      "cell_type": "code",
      "source": [
        "submission = pd.DataFrame({\n",
        "    'PassengerId' : testPass,\n",
        "    'Survived' : y_pred})\n",
        "\n",
        "submission.to_csv('submission.csv', index=False)"
      ],
      "metadata": {
        "id": "s1FM19P7yaa2"
      },
      "execution_count": 662,
      "outputs": []
    },
    {
      "cell_type": "code",
      "source": [
        "submission = pd.read_csv(\"submission.csv\")\n",
        "submission.head()"
      ],
      "metadata": {
        "colab": {
          "base_uri": "https://localhost:8080/",
          "height": 206
        },
        "id": "DQWJXOkKzOe1",
        "outputId": "f14786e0-7da3-4be8-b4b9-548519701cff"
      },
      "execution_count": 663,
      "outputs": [
        {
          "output_type": "execute_result",
          "data": {
            "text/plain": [
              "   PassengerId  Survived\n",
              "0          892         0\n",
              "1          893         1\n",
              "2          894         0\n",
              "3          895         0\n",
              "4          896         0"
            ],
            "text/html": [
              "\n",
              "  <div id=\"df-35f074de-6333-4581-ae0e-c23e9264b801\">\n",
              "    <div class=\"colab-df-container\">\n",
              "      <div>\n",
              "<style scoped>\n",
              "    .dataframe tbody tr th:only-of-type {\n",
              "        vertical-align: middle;\n",
              "    }\n",
              "\n",
              "    .dataframe tbody tr th {\n",
              "        vertical-align: top;\n",
              "    }\n",
              "\n",
              "    .dataframe thead th {\n",
              "        text-align: right;\n",
              "    }\n",
              "</style>\n",
              "<table border=\"1\" class=\"dataframe\">\n",
              "  <thead>\n",
              "    <tr style=\"text-align: right;\">\n",
              "      <th></th>\n",
              "      <th>PassengerId</th>\n",
              "      <th>Survived</th>\n",
              "    </tr>\n",
              "  </thead>\n",
              "  <tbody>\n",
              "    <tr>\n",
              "      <th>0</th>\n",
              "      <td>892</td>\n",
              "      <td>0</td>\n",
              "    </tr>\n",
              "    <tr>\n",
              "      <th>1</th>\n",
              "      <td>893</td>\n",
              "      <td>1</td>\n",
              "    </tr>\n",
              "    <tr>\n",
              "      <th>2</th>\n",
              "      <td>894</td>\n",
              "      <td>0</td>\n",
              "    </tr>\n",
              "    <tr>\n",
              "      <th>3</th>\n",
              "      <td>895</td>\n",
              "      <td>0</td>\n",
              "    </tr>\n",
              "    <tr>\n",
              "      <th>4</th>\n",
              "      <td>896</td>\n",
              "      <td>0</td>\n",
              "    </tr>\n",
              "  </tbody>\n",
              "</table>\n",
              "</div>\n",
              "      <button class=\"colab-df-convert\" onclick=\"convertToInteractive('df-35f074de-6333-4581-ae0e-c23e9264b801')\"\n",
              "              title=\"Convert this dataframe to an interactive table.\"\n",
              "              style=\"display:none;\">\n",
              "        \n",
              "  <svg xmlns=\"http://www.w3.org/2000/svg\" height=\"24px\"viewBox=\"0 0 24 24\"\n",
              "       width=\"24px\">\n",
              "    <path d=\"M0 0h24v24H0V0z\" fill=\"none\"/>\n",
              "    <path d=\"M18.56 5.44l.94 2.06.94-2.06 2.06-.94-2.06-.94-.94-2.06-.94 2.06-2.06.94zm-11 1L8.5 8.5l.94-2.06 2.06-.94-2.06-.94L8.5 2.5l-.94 2.06-2.06.94zm10 10l.94 2.06.94-2.06 2.06-.94-2.06-.94-.94-2.06-.94 2.06-2.06.94z\"/><path d=\"M17.41 7.96l-1.37-1.37c-.4-.4-.92-.59-1.43-.59-.52 0-1.04.2-1.43.59L10.3 9.45l-7.72 7.72c-.78.78-.78 2.05 0 2.83L4 21.41c.39.39.9.59 1.41.59.51 0 1.02-.2 1.41-.59l7.78-7.78 2.81-2.81c.8-.78.8-2.07 0-2.86zM5.41 20L4 18.59l7.72-7.72 1.47 1.35L5.41 20z\"/>\n",
              "  </svg>\n",
              "      </button>\n",
              "      \n",
              "  <style>\n",
              "    .colab-df-container {\n",
              "      display:flex;\n",
              "      flex-wrap:wrap;\n",
              "      gap: 12px;\n",
              "    }\n",
              "\n",
              "    .colab-df-convert {\n",
              "      background-color: #E8F0FE;\n",
              "      border: none;\n",
              "      border-radius: 50%;\n",
              "      cursor: pointer;\n",
              "      display: none;\n",
              "      fill: #1967D2;\n",
              "      height: 32px;\n",
              "      padding: 0 0 0 0;\n",
              "      width: 32px;\n",
              "    }\n",
              "\n",
              "    .colab-df-convert:hover {\n",
              "      background-color: #E2EBFA;\n",
              "      box-shadow: 0px 1px 2px rgba(60, 64, 67, 0.3), 0px 1px 3px 1px rgba(60, 64, 67, 0.15);\n",
              "      fill: #174EA6;\n",
              "    }\n",
              "\n",
              "    [theme=dark] .colab-df-convert {\n",
              "      background-color: #3B4455;\n",
              "      fill: #D2E3FC;\n",
              "    }\n",
              "\n",
              "    [theme=dark] .colab-df-convert:hover {\n",
              "      background-color: #434B5C;\n",
              "      box-shadow: 0px 1px 3px 1px rgba(0, 0, 0, 0.15);\n",
              "      filter: drop-shadow(0px 1px 2px rgba(0, 0, 0, 0.3));\n",
              "      fill: #FFFFFF;\n",
              "    }\n",
              "  </style>\n",
              "\n",
              "      <script>\n",
              "        const buttonEl =\n",
              "          document.querySelector('#df-35f074de-6333-4581-ae0e-c23e9264b801 button.colab-df-convert');\n",
              "        buttonEl.style.display =\n",
              "          google.colab.kernel.accessAllowed ? 'block' : 'none';\n",
              "\n",
              "        async function convertToInteractive(key) {\n",
              "          const element = document.querySelector('#df-35f074de-6333-4581-ae0e-c23e9264b801');\n",
              "          const dataTable =\n",
              "            await google.colab.kernel.invokeFunction('convertToInteractive',\n",
              "                                                     [key], {});\n",
              "          if (!dataTable) return;\n",
              "\n",
              "          const docLinkHtml = 'Like what you see? Visit the ' +\n",
              "            '<a target=\"_blank\" href=https://colab.research.google.com/notebooks/data_table.ipynb>data table notebook</a>'\n",
              "            + ' to learn more about interactive tables.';\n",
              "          element.innerHTML = '';\n",
              "          dataTable['output_type'] = 'display_data';\n",
              "          await google.colab.output.renderOutput(dataTable, element);\n",
              "          const docLink = document.createElement('div');\n",
              "          docLink.innerHTML = docLinkHtml;\n",
              "          element.appendChild(docLink);\n",
              "        }\n",
              "      </script>\n",
              "    </div>\n",
              "  </div>\n",
              "  "
            ]
          },
          "metadata": {},
          "execution_count": 663
        }
      ]
    }
  ]
}